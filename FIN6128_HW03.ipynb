{
 "cells": [
  {
   "cell_type": "markdown",
   "metadata": {
    "id": "J0Qjg6vuaHNt"
   },
   "source": [
    "# Homework 4: Transformer model for language understanding"
   ]
  },
  {
   "cell_type": "markdown",
   "metadata": {
    "id": "M-f8TnGpE_ex"
   },
   "source": [
    "This tutorial trains a <a href=\"https://arxiv.org/abs/1706.03762\" class=\"external\">Transformer model</a> to translate Portuguese to English. This is an advanced example that assumes knowledge of [text generation](text_generation.ipynb) and [attention](nmt_with_attention.ipynb).\n",
    "\n",
    "The core idea behind the Transformer model is *self-attention*—the ability to attend to different positions of the input sequence to compute a representation of that sequence. Transformer creates stacks of self-attention layers and is explained below in the sections *Scaled dot product attention* and *Multi-head attention*.\n",
    "\n",
    "A transformer model handles variable-sized input using stacks of self-attention layers instead of [RNNs](text_classification_rnn.ipynb) or [CNNs](../images/intro_to_cnns.ipynb). This general architecture has a number of advantages:\n",
    "\n",
    "* It make no assumptions about the temporal/spatial relationships across the data. This is ideal for processing a set of objects (for example, [StarCraft units](https://deepmind.com/blog/alphastar-mastering-real-time-strategy-game-starcraft-ii/#block-8)).\n",
    "* Layer outputs can be calculated in parallel, instead of a series like an RNN.\n",
    "* Distant items can affect each other's output without passing through many RNN-steps, or convolution layers (see [Scene Memory Transformer](https://arxiv.org/pdf/1903.03878.pdf) for example).\n",
    "* It can learn long-range dependencies. This is a challenge in many sequence tasks.\n",
    "\n",
    "The downsides of this architecture are:\n",
    "\n",
    "* For a time-series, the output for a time-step is calculated from the *entire history* instead of only the inputs and current hidden-state. This _may_ be less efficient.   \n",
    "* If the input *does* have a  temporal/spatial relationship, like text, some positional encoding must be added or the model will effectively see a bag of words.\n",
    "\n",
    "After training the model in this notebook, you will be able to input a Portuguese sentence and return the English translation.\n",
    "\n",
    "<img src=\"https://www.tensorflow.org/images/tutorials/transformer/attention_map_portuguese.png\" width=\"800\" alt=\"Attention heatmap\">\n",
    "\n",
    "<font color = 'red'>**IMPORTANT**: The hyperparameters used in the homework are not optimized. Please make sure to tune them to obtain good translations!</font>\n",
    "\n",
    "\n",
    "<font color='blue'>Just like previous assignments, you will be asked to fill in some lines of codes, and answer a few questions. Please pay attention to contents between #### start code here and ### end codes here. Also, read the comments carefully for hints. </font>"
   ]
  },
  {
   "cell_type": "code",
   "execution_count": 269,
   "metadata": {
    "colab": {
     "base_uri": "https://localhost:8080/"
    },
    "executionInfo": {
     "elapsed": 3456,
     "status": "ok",
     "timestamp": 1743937946262,
     "user": {
      "displayName": "Lucas",
      "userId": "06744764912251015933"
     },
     "user_tz": -480
    },
    "id": "Km2oGc6YKDue",
    "outputId": "445fadb4-3014-4c74-8ced-d581eefc5ca7"
   },
   "outputs": [
    {
     "name": "stdout",
     "output_type": "stream",
     "text": [
      "Drive already mounted at /content/drive; to attempt to forcibly remount, call drive.mount(\"/content/drive\", force_remount=True).\n"
     ]
    }
   ],
   "source": [
    "from google.colab import drive\n",
    "drive.mount('/content/drive')  # 必须在任何文件操作前运行！按提示授权"
   ]
  },
  {
   "cell_type": "code",
   "execution_count": 270,
   "metadata": {
    "colab": {
     "base_uri": "https://localhost:8080/"
    },
    "executionInfo": {
     "elapsed": 198,
     "status": "ok",
     "timestamp": 1743937946458,
     "user": {
      "displayName": "Lucas",
      "userId": "06744764912251015933"
     },
     "user_tz": -480
    },
    "id": "0d23rjr9iHYP",
    "outputId": "a8db2c47-4cd0-423e-9648-e1dbbc97d390"
   },
   "outputs": [
    {
     "name": "stdout",
     "output_type": "stream",
     "text": [
      "total 4\n",
      "drwx------ 2 root root 4096 Apr  6 10:51 train\n"
     ]
    }
   ],
   "source": [
    "# 手动创建目录（即使目录存在也安全）\n",
    "!mkdir -p \"/content/drive/MyDrive/checkpoints/train\"\n",
    "\n",
    "# 检查是否创建成功\n",
    "!ls -l \"/content/drive/MyDrive/checkpoints\""
   ]
  },
  {
   "cell_type": "code",
   "execution_count": 271,
   "metadata": {
    "executionInfo": {
     "elapsed": 9940,
     "status": "ok",
     "timestamp": 1743937956399,
     "user": {
      "displayName": "Lucas",
      "userId": "06744764912251015933"
     },
     "user_tz": -480
    },
    "id": "XFG0NDRu5mYQ"
   },
   "outputs": [],
   "source": [
    "# only run this if you have not installed tfds-nightly\n",
    "!pip install -q tfds-nightly\n",
    "\n",
    "# Pin matplotlib version to 3.2.2 since in the latest version\n",
    "# transformer.ipynb fails with the following error:\n",
    "# https://stackoverflow.com/questions/62953704/valueerror-the-number-of-fixedlocator-locations-5-usually-from-a-call-to-set\n",
    "# !pip install matplotlib==3.2.2"
   ]
  },
  {
   "cell_type": "code",
   "execution_count": 272,
   "metadata": {
    "colab": {
     "base_uri": "https://localhost:8080/"
    },
    "executionInfo": {
     "elapsed": 486,
     "status": "ok",
     "timestamp": 1743937956883,
     "user": {
      "displayName": "Lucas",
      "userId": "06744764912251015933"
     },
     "user_tz": -480
    },
    "id": "jtt-mcAICad-",
    "outputId": "e304717c-765c-44d8-9508-7910b11d27ab"
   },
   "outputs": [
    {
     "name": "stdout",
     "output_type": "stream",
     "text": [
      "Enabling notebook extension jupyter-js-widgets/extension...\n",
      "Paths used for configuration of notebook: \n",
      "    \t/root/.jupyter/nbconfig/notebook.json\n",
      "Paths used for configuration of notebook: \n",
      "    \t\n",
      "      - Validating: \u001b[32mOK\u001b[0m\n",
      "Paths used for configuration of notebook: \n",
      "    \t/root/.jupyter/nbconfig/notebook.json\n"
     ]
    }
   ],
   "source": [
    "# run this if you cannot download dataset\n",
    "!jupyter nbextension enable --py widgetsnbextension"
   ]
  },
  {
   "cell_type": "code",
   "execution_count": 273,
   "metadata": {
    "executionInfo": {
     "elapsed": 2,
     "status": "ok",
     "timestamp": 1743937956895,
     "user": {
      "displayName": "Lucas",
      "userId": "06744764912251015933"
     },
     "user_tz": -480
    },
    "id": "JjJJyJTZYebt"
   },
   "outputs": [],
   "source": [
    "import tensorflow_datasets as tfds\n",
    "import tensorflow as tf\n",
    "\n",
    "import time\n",
    "import numpy as np\n",
    "import matplotlib.pyplot as plt"
   ]
  },
  {
   "cell_type": "markdown",
   "metadata": {
    "id": "fd1NWMxjfsDd"
   },
   "source": [
    "## 0 - Setup input pipeline\n",
    "\n",
    "Use [TFDS](https://www.tensorflow.org/datasets) to load the [Portugese-English translation dataset](https://github.com/neulab/word-embeddings-for-nmt) from the [TED Talks Open Translation Project](https://www.ted.com/participate/translate).\n",
    "\n",
    "This dataset contains approximately 50000 training examples, 1100 validation examples, and 2000 test examples. It may take a long of time so please be patient."
   ]
  },
  {
   "cell_type": "code",
   "execution_count": 274,
   "metadata": {
    "executionInfo": {
     "elapsed": 270,
     "status": "ok",
     "timestamp": 1743937957167,
     "user": {
      "displayName": "Lucas",
      "userId": "06744764912251015933"
     },
     "user_tz": -480
    },
    "id": "8q9t4FmN96eN"
   },
   "outputs": [],
   "source": [
    "tfds.disable_progress_bar()\n",
    "examples, metadata = tfds.load('ted_hrlr_translate/pt_to_en', with_info=True,\n",
    "                               as_supervised=True) # you may encounter errors running this line, make sure you install the right version of tensorflow, tfds, and enable extentsions above\n",
    "train_examples, val_examples = examples['train'], examples['validation']"
   ]
  },
  {
   "cell_type": "markdown",
   "metadata": {
    "id": "RCEKotqosGfq"
   },
   "source": [
    "Create a custom subwords tokenizer from the training dataset."
   ]
  },
  {
   "cell_type": "code",
   "execution_count": 275,
   "metadata": {
    "executionInfo": {
     "elapsed": 221439,
     "status": "ok",
     "timestamp": 1743938178605,
     "user": {
      "displayName": "Lucas",
      "userId": "06744764912251015933"
     },
     "user_tz": -480
    },
    "id": "KVBg5Q8tBk5z"
   },
   "outputs": [],
   "source": [
    "tokenizer_en = tfds.deprecated.text.SubwordTextEncoder.build_from_corpus(\n",
    "    (en.numpy() for pt, en in train_examples), target_vocab_size=2**13)\n",
    "\n",
    "tokenizer_pt = tfds.deprecated.text.SubwordTextEncoder.build_from_corpus(\n",
    "    (pt.numpy() for pt, en in train_examples), target_vocab_size=2**13)"
   ]
  },
  {
   "cell_type": "code",
   "execution_count": 276,
   "metadata": {
    "colab": {
     "base_uri": "https://localhost:8080/"
    },
    "executionInfo": {
     "elapsed": 47,
     "status": "ok",
     "timestamp": 1743938178654,
     "user": {
      "displayName": "Lucas",
      "userId": "06744764912251015933"
     },
     "user_tz": -480
    },
    "id": "4DYWukNFkGQN",
    "outputId": "661fa0de-a659-4a83-f287-78f3ef3ce003"
   },
   "outputs": [
    {
     "name": "stdout",
     "output_type": "stream",
     "text": [
      "Tokenized string is [7915, 1248, 7946, 7194, 13, 2799, 7877]\n",
      "The original string: Transformer is awesome.\n"
     ]
    }
   ],
   "source": [
    "sample_string = 'Transformer is awesome.'\n",
    "\n",
    "tokenized_string = tokenizer_en.encode(sample_string)\n",
    "print ('Tokenized string is {}'.format(tokenized_string))\n",
    "\n",
    "original_string = tokenizer_en.decode(tokenized_string)\n",
    "print ('The original string: {}'.format(original_string))\n",
    "\n",
    "assert original_string == sample_string"
   ]
  },
  {
   "cell_type": "markdown",
   "metadata": {
    "id": "o9KJWJjrsZ4Y"
   },
   "source": [
    "The tokenizer encodes the string by breaking it into subwords if the word is not in its dictionary."
   ]
  },
  {
   "cell_type": "code",
   "execution_count": 277,
   "metadata": {
    "colab": {
     "base_uri": "https://localhost:8080/"
    },
    "executionInfo": {
     "elapsed": 6,
     "status": "ok",
     "timestamp": 1743938178661,
     "user": {
      "displayName": "Lucas",
      "userId": "06744764912251015933"
     },
     "user_tz": -480
    },
    "id": "bf2ntBxjkqK6",
    "outputId": "52bb5ba9-f29b-4076-aa38-95df7ef6ca19"
   },
   "outputs": [
    {
     "name": "stdout",
     "output_type": "stream",
     "text": [
      "7915 ----> T\n",
      "1248 ----> ran\n",
      "7946 ----> s\n",
      "7194 ----> former \n",
      "13 ----> is \n",
      "2799 ----> awesome\n",
      "7877 ----> .\n"
     ]
    }
   ],
   "source": [
    "for ts in tokenized_string:\n",
    "  print ('{} ----> {}'.format(ts, tokenizer_en.decode([ts])))"
   ]
  },
  {
   "cell_type": "code",
   "execution_count": 278,
   "metadata": {
    "executionInfo": {
     "elapsed": 2,
     "status": "ok",
     "timestamp": 1743938178663,
     "user": {
      "displayName": "Lucas",
      "userId": "06744764912251015933"
     },
     "user_tz": -480
    },
    "id": "bcRp7VcQ5m6g"
   },
   "outputs": [],
   "source": [
    "BUFFER_SIZE = 20000\n",
    "BATCH_SIZE = 32"
   ]
  },
  {
   "cell_type": "markdown",
   "metadata": {
    "id": "kGi4PoVakxdc"
   },
   "source": [
    "Add a start and end token to the input and target."
   ]
  },
  {
   "cell_type": "code",
   "execution_count": 279,
   "metadata": {
    "executionInfo": {
     "elapsed": 2,
     "status": "ok",
     "timestamp": 1743938178665,
     "user": {
      "displayName": "Lucas",
      "userId": "06744764912251015933"
     },
     "user_tz": -480
    },
    "id": "UZwnPr4R055s"
   },
   "outputs": [],
   "source": [
    "def encode(lang1, lang2):\n",
    "  lang1 = [tokenizer_pt.vocab_size] + tokenizer_pt.encode(\n",
    "      lang1.numpy()) + [tokenizer_pt.vocab_size+1]\n",
    "\n",
    "  lang2 = [tokenizer_en.vocab_size] + tokenizer_en.encode(\n",
    "      lang2.numpy()) + [tokenizer_en.vocab_size+1]\n",
    "\n",
    "  return lang1, lang2"
   ]
  },
  {
   "cell_type": "markdown",
   "metadata": {
    "id": "Tx1sFbR-9fRs"
   },
   "source": [
    "You want to use `Dataset.map` to apply this function to each element of the dataset.  `Dataset.map` runs in graph mode.\n",
    "\n",
    "* Graph tensors do not have a value.\n",
    "* In graph mode you can only use TensorFlow Ops and functions.\n",
    "\n",
    "So you can't `.map` this function directly: You need to wrap it in a `tf.py_function`. The `tf.py_function` will pass regular tensors (with a value and a `.numpy()` method to access it), to the wrapped python function."
   ]
  },
  {
   "cell_type": "code",
   "execution_count": 280,
   "metadata": {
    "executionInfo": {
     "elapsed": 12,
     "status": "ok",
     "timestamp": 1743938178692,
     "user": {
      "displayName": "Lucas",
      "userId": "06744764912251015933"
     },
     "user_tz": -480
    },
    "id": "Mah1cS-P70Iz"
   },
   "outputs": [],
   "source": [
    "def tf_encode(pt, en):\n",
    "  result_pt, result_en = tf.py_function(encode, [pt, en], [tf.int64, tf.int64])\n",
    "  result_pt.set_shape([None])\n",
    "  result_en.set_shape([None])\n",
    "\n",
    "  return result_pt, result_en"
   ]
  },
  {
   "cell_type": "markdown",
   "metadata": {
    "id": "6JrGp5Gek6Ql"
   },
   "source": [
    "Note: To keep this example small and relatively fast, drop examples with a length of over 25 tokens."
   ]
  },
  {
   "cell_type": "code",
   "execution_count": 281,
   "metadata": {
    "executionInfo": {
     "elapsed": 10,
     "status": "ok",
     "timestamp": 1743938178702,
     "user": {
      "displayName": "Lucas",
      "userId": "06744764912251015933"
     },
     "user_tz": -480
    },
    "id": "2QEgbjntk6Yf"
   },
   "outputs": [],
   "source": [
    "MAX_LENGTH = 25"
   ]
  },
  {
   "cell_type": "code",
   "execution_count": 282,
   "metadata": {
    "executionInfo": {
     "elapsed": 1,
     "status": "ok",
     "timestamp": 1743938178704,
     "user": {
      "displayName": "Lucas",
      "userId": "06744764912251015933"
     },
     "user_tz": -480
    },
    "id": "c081xPGv1CPI"
   },
   "outputs": [],
   "source": [
    "def filter_max_length(x, y, max_length=MAX_LENGTH):\n",
    "  return tf.logical_and(tf.size(x) <= max_length,\n",
    "                        tf.size(y) <= max_length)"
   ]
  },
  {
   "cell_type": "code",
   "execution_count": 283,
   "metadata": {
    "executionInfo": {
     "elapsed": 85,
     "status": "ok",
     "timestamp": 1743938178790,
     "user": {
      "displayName": "Lucas",
      "userId": "06744764912251015933"
     },
     "user_tz": -480
    },
    "id": "9mk9AZdZ5bcS"
   },
   "outputs": [],
   "source": [
    "train_dataset = train_examples.map(tf_encode)\n",
    "train_dataset = train_dataset.filter(filter_max_length)\n",
    "# cache the dataset to memory to get a speedup while reading from it.\n",
    "train_dataset = train_dataset.cache()\n",
    "train_dataset = train_dataset.shuffle(BUFFER_SIZE).padded_batch(BATCH_SIZE)\n",
    "train_dataset = train_dataset.prefetch(tf.data.experimental.AUTOTUNE)\n",
    "\n",
    "\n",
    "val_dataset = val_examples.map(tf_encode)\n",
    "val_dataset = val_dataset.filter(filter_max_length).padded_batch(BATCH_SIZE)"
   ]
  },
  {
   "cell_type": "code",
   "execution_count": 284,
   "metadata": {
    "colab": {
     "base_uri": "https://localhost:8080/"
    },
    "executionInfo": {
     "elapsed": 126,
     "status": "ok",
     "timestamp": 1743938178918,
     "user": {
      "displayName": "Lucas",
      "userId": "06744764912251015933"
     },
     "user_tz": -480
    },
    "id": "_fXvfYVfQr2n",
    "outputId": "ddbeb5f8-6c7a-4f2b-ddbd-e54020c4edb0"
   },
   "outputs": [
    {
     "data": {
      "text/plain": [
       "(<tf.Tensor: shape=(32, 23), dtype=int64, numpy=\n",
       " array([[8214,  342, 3032,   15, 5917,   20, 4347, 1189,   17, 1784, 1412,\n",
       "           29, 8215,    0,    0,    0,    0,    0,    0,    0,    0,    0,\n",
       "            0],\n",
       "        [8214,   95,  198, 6850, 7990,   14,   44, 6732,    7,    6, 2211,\n",
       "           15,    4,  555,    2, 8215,    0,    0,    0,    0,    0,    0,\n",
       "            0],\n",
       "        [8214, 4479, 7990,    9,   20,    7, 5611,    4, 4416,    4,   10,\n",
       "         4622, 2878,   20,    9, 1348, 2682,   97,    2, 8215,    0,    0,\n",
       "            0],\n",
       "        [8214,   25,   27,  278,    5,   42,    8, 3850, 3308, 8069,    2,\n",
       "         8215,    0,    0,    0,    0,    0,    0,    0,    0,    0,    0,\n",
       "            0],\n",
       "        [8214,   62, 1181,   15,    7,  122, 3173, 7990,   33, 3264, 2745,\n",
       "         5868,  585,    2, 8215,    0,    0,    0,    0,    0,    0,    0,\n",
       "            0],\n",
       "        [8214, 8059,    1,   24,   69, 7276,    1,    8,   10, 6346,   13,\n",
       "          105,   11,  297,    1,   25,   11,  166,    3, 2002,    2, 8215,\n",
       "            0],\n",
       "        [8214,    8,    9,  259,   14, 1248,    4,   10,  249, 3067,   11,\n",
       "           10,  249,  927,    2, 8215,    0,    0,    0,    0,    0,    0,\n",
       "            0],\n",
       "        [8214,  167,  210,    1,    8,   10, 6844, 7990, 4073, 4310,    2,\n",
       "         8215,    0,    0,    0,    0,    0,    0,    0,    0,    0,    0,\n",
       "            0],\n",
       "        [8214,  119,    1,   21,    8,    5,   62,  128, 6350,   26, 6984,\n",
       "            6,   26,  413,   29, 8215,    0,    0,    0,    0,    0,    0,\n",
       "            0],\n",
       "        [8214,    6, 5490,   90, 4877,   36, 6299,    2, 8215,    0,    0,\n",
       "            0,    0,    0,    0,    0,    0,    0,    0,    0,    0,    0,\n",
       "            0],\n",
       "        [8214, 8074,  866,   58,   11, 5104,  281,    2, 8215,    0,    0,\n",
       "            0,    0,    0,    0,    0,    0,    0,    0,    0,    0,    0,\n",
       "            0],\n",
       "        [8214,    3, 1035,   70,   80,  460, 2037,    4,  760,    6, 1160,\n",
       "         2945,  181,    2, 8215,    0,    0,    0,    0,    0,    0,    0,\n",
       "            0],\n",
       "        [8214,  368,    1,   16,  399,  121,   26, 4127,  278,    5,   70,\n",
       "            5,   44,    3,  423, 2300,    2, 8215,    0,    0,    0,    0,\n",
       "            0],\n",
       "        [8214, 5144,   11,    3, 1388, 7990, 1235, 1399,  366,    1,  385,\n",
       "         3827, 3000, 4705,   19,  521, 3044,   19,  602, 8075,    2, 8215,\n",
       "            0],\n",
       "        [8214,   74,   79,   23,    5,    8,    5, 1546,  586,    7,    7,\n",
       "          993, 1587,    2, 8215,    0,    0,    0,    0,    0,    0,    0,\n",
       "            0],\n",
       "        [8214,    6,   53,    9, 3868, 7990, 1627,    6,   10, 1666, 1917,\n",
       "            2, 8215,    0,    0,    0,    0,    0,    0,    0,    0,    0,\n",
       "            0],\n",
       "        [8214,   13,  324,  705, 3753,    1,   56,  123,    9, 5093, 5136,\n",
       "            2, 8215,    0,    0,    0,    0,    0,    0,    0,    0,    0,\n",
       "            0],\n",
       "        [8214,   23,  251,    1, 5988, 2412, 2841,  145, 6193, 4908,   17,\n",
       "           20, 3595, 2369, 1349,  876,    5,  424,    2, 8215,    0,    0,\n",
       "            0],\n",
       "        [8214,  963,  367,    1,  106,  422,  349,  115,    5,   13,  333,\n",
       "         4911, 8069,    2, 8215,    0,    0,    0,    0,    0,    0,    0,\n",
       "            0],\n",
       "        [8214,    6,   52, 7202, 7990,    5,  126,  683,    5,  103,   80,\n",
       "           10,  982,   11, 4758,   12,  162,  740,    2, 8215,    0,    0,\n",
       "            0],\n",
       "        [8214,    6, 3380, 5703, 8075,    2, 8215,    0,    0,    0,    0,\n",
       "            0,    0,    0,    0,    0,    0,    0,    0,    0,    0,    0,\n",
       "            0],\n",
       "        [8214,   61, 3033,   91,   20,    3, 1238,    2, 8215,    0,    0,\n",
       "            0,    0,    0,    0,    0,    0,    0,    0,    0,    0,    0,\n",
       "            0],\n",
       "        [8214,   13,   56,    5,   27,   13, 1060,  751,    2, 8215,    0,\n",
       "            0,    0,    0,    0,    0,    0,    0,    0,    0,    0,    0,\n",
       "            0],\n",
       "        [8214,   27,  227,    9,   36,  162, 4281,   12,    4, 3209,    2,\n",
       "         8215,    0,    0,    0,    0,    0,    0,    0,    0,    0,    0,\n",
       "            0],\n",
       "        [8214,   67,  107,  173, 8215,    0,    0,    0,    0,    0,    0,\n",
       "            0,    0,    0,    0,    0,    0,    0,    0,    0,    0,    0,\n",
       "            0],\n",
       "        [8214,  342, 7053,    7, 7092, 3680,   20, 2378,  999,   29, 8215,\n",
       "            0,    0,    0,    0,    0,    0,    0,    0,    0,    0,    0,\n",
       "            0],\n",
       "        [8214, 1417, 8003,   38,   43,  529, 3064, 2782,    4, 6024,   24,\n",
       "          548,   21,    9,  863,    4, 4389,  879, 7021, 2866, 8073,    2,\n",
       "         8215],\n",
       "        [8214,  136, 3783, 7990, 4247, 8055,    2, 8215,    0,    0,    0,\n",
       "            0,    0,    0,    0,    0,    0,    0,    0,    0,    0,    0,\n",
       "            0],\n",
       "        [8214,   23,   88,    1, 3424,  304,  482,    2, 8215,    0,    0,\n",
       "            0,    0,    0,    0,    0,    0,    0,    0,    0,    0,    0,\n",
       "            0],\n",
       "        [8214,    7,    5,  282,    5, 5323,    1,   13, 7852,  200,    2,\n",
       "         8215,    0,    0,    0,    0,    0,    0,    0,    0,    0,    0,\n",
       "            0],\n",
       "        [8214,  159,   34,   26,   60, 2057,   17, 1586,    1,  242,   26,\n",
       "           60, 2057,   17, 5494,    2, 8215,    0,    0,    0,    0,    0,\n",
       "            0],\n",
       "        [8214,    6,   24,  540,    1,   16, 1688, 3139, 7581, 2132,   79,\n",
       "         1298, 2952,   48,  356,  364, 1712, 7722,  527,  120,    2, 8215,\n",
       "            0]])>,\n",
       " <tf.Tensor: shape=(32, 25), dtype=int64, numpy=\n",
       " array([[8087,   98,   25, 1037, 1903,    4, 7283,   33, 8088,    0,    0,\n",
       "            0,    0,    0,    0,    0,    0,    0,    0,    0,    0,    0,\n",
       "            0,    0,    0],\n",
       "        [8087,   12,   20,  260, 5796,   35,  183, 2955,    4, 1565,  380,\n",
       "            2, 8088,    0,    0,    0,    0,    0,    0,    0,    0,    0,\n",
       "            0,    0,    0],\n",
       "        [8087,   12, 5453,   47,   28,    3, 3176, 1960,    6,    7, 3730,\n",
       "         1560, 7863,   59, 1148, 3254, 7947,    2, 8088,    0,    0,    0,\n",
       "            0,    0,    0],\n",
       "        [8087,   23,   12,   84,   16,   13,  367, 1917, 1923, 1071, 7932,\n",
       "            2, 8088,    0,    0,    0,    0,    0,    0,    0,    0,    0,\n",
       "            0,    0,    0],\n",
       "        [8087,   14,   24, 5938,   43, 5067,   68, 4573, 7524,  171,  167,\n",
       "            2, 8088,    0,    0,    0,    0,    0,    0,    0,    0,    0,\n",
       "            0,    0,    0],\n",
       "        [8087,    4,   48,   29,   12, 3483,    1,   19,    8,    9,    7,\n",
       "         3373,   21,  131,    1,   23,   21,   93,  287,    2, 8088,    0,\n",
       "            0,    0,    0],\n",
       "        [8087,   19,    8,    9,    7,  187,   11, 5067,   48,    7,  791,\n",
       "          360,    5,    7,  350,  843,    2, 8088,    0,    0,    0,    0,\n",
       "            0,    0,    0],\n",
       "        [8087,   12,  333,    1,   19,    8,    9,   54,    7, 4613, 5891,\n",
       "         4052,    2, 8088,    0,    0,    0,    0,    0,    0,    0,    0,\n",
       "            0,    0,    0],\n",
       "        [8087,  169,    1,   61,   30,   14,   24,   58, 6414,   67, 3489,\n",
       "            4,   67, 2685,   33, 8088,    0,    0,    0,    0,    0,    0,\n",
       "            0,    0,    0],\n",
       "        [8087,    4, 2039, 6573, 4994, 7760, 7293, 7946,    2, 8088,    0,\n",
       "            0,    0,    0,    0,    0,    0,    0,    0,    0,    0,    0,\n",
       "            0,    0,    0],\n",
       "        [8087, 7947, 1225,    1,    5,   34, 7808,    2, 8088,    0,    0,\n",
       "            0,    0,    0,    0,    0,    0,    0,    0,    0,    0,    0,\n",
       "            0,    0,    0],\n",
       "        [8087,    3,  440,   13,  122,  341, 2473, 3278, 7863,   28,  860,\n",
       "         2776, 7946,    2, 8088,    0,    0,    0,    0,    0,    0,    0,\n",
       "            0,    0,    0],\n",
       "        [8087,  326,    1,   44,   79,    8,    9,  544, 3672, 7863,   12,\n",
       "           84,   17,   86,    5,   34, 1046,  856,    2, 8088,    0,    0,\n",
       "            0,    0,    0],\n",
       "        [8087,   12,  675,   21,    3, 3247, 4255,    1,   20,  182,    7,\n",
       "         7948, 7877, 7941,  302,  483,   97, 2389, 3390, 3034,    2, 8088,\n",
       "            0,    0,    0],\n",
       "        [8087,   15,   31,   80,  154,   12, 3606,  715, 1883,    2, 8088,\n",
       "            0,    0,    0,    0,    0,    0,    0,    0,    0,    0,    0,\n",
       "            0,    0,    0],\n",
       "        [8087,    4,   17,   20,   45,  550, 7535, 1544,    4,   45,  550,\n",
       "         6933,    2, 8088,    0,    0,    0,    0,    0,    0,    0,    0,\n",
       "            0,    0,    0],\n",
       "        [8087,   64,   20,  110, 1403,  831,    1,  308,   20, 7791, 5005,\n",
       "            2, 8088,    0,    0,    0,    0,    0,    0,    0,    0,    0,\n",
       "            0,    0,    0],\n",
       "        [8087,   21,  269,    1, 1549,   46, 6593, 2800,    9,   28, 2534,\n",
       "          759, 5689,    9, 1944,  112,  227,    2, 8088,    0,    0,    0,\n",
       "            0,    0,    0],\n",
       "        [8087, 1433,  612,    1,   17,   86,  106,  400,  343,  148,   10,\n",
       "           12,  651, 7941, 5794,   26,  436,   51,    2, 8088,    0,    0,\n",
       "            0,    0,    0],\n",
       "        [8087,    4,   10, 1386,  142,  473,  142,  122,   70,   47, 3554,\n",
       "           38, 7745, 7863,  176,  493,    2, 8088,    0,    0,    0,    0,\n",
       "            0,    0,    0],\n",
       "        [8087,  359,    1,   17, 5494,    2, 8088,    0,    0,    0,    0,\n",
       "            0,    0,    0,    0,    0,    0,    0,    0,    0,    0,    0,\n",
       "            0,    0,    0],\n",
       "        [8087,   65, 1110,  128,  853,    2, 8088,    0,    0,    0,    0,\n",
       "            0,    0,    0,    0,    0,    0,    0,    0,    0,    0,    0,\n",
       "            0,    0,    0],\n",
       "        [8087,   19,    8,    9,   36,   66,   65,   98, 7941, 7870,   26,\n",
       "         4998,    2, 8088,    0,    0,    0,    0,    0,    0,    0,    0,\n",
       "            0,    0,    0],\n",
       "        [8087,   12,  313,   47,    6,  176, 1458, 3017, 2893, 7946,    2,\n",
       "         8088,    0,    0,    0,    0,    0,    0,    0,    0,    0,    0,\n",
       "            0,    0,    0],\n",
       "        [8087,   94,  136,  192, 8088,    0,    0,    0,    0,    0,    0,\n",
       "            0,    0,    0,    0,    0,    0,    0,    0,    0,    0,    0,\n",
       "            0,    0,    0],\n",
       "        [8087,   70,   25, 6418,   49, 1209,   55, 4278, 7946,   33, 8088,\n",
       "            0,    0,    0,    0,    0,    0,    0,    0,    0,    0,    0,\n",
       "            0,    0,    0],\n",
       "        [8087,   12,  466,   32,  124, 5694, 5956,   11,  377,   37,    7,\n",
       "         2153,    6, 4698, 1954, 5005, 7863, 2706, 7946,    2, 8088,    0,\n",
       "            0,    0,    0],\n",
       "        [8087,    4,  294,    3, 1990,  331,    2, 8088,    0,    0,    0,\n",
       "            0,    0,    0,    0,    0,    0,    0,    0,    0,    0,    0,\n",
       "            0,    0,    0],\n",
       "        [8087,   18,   12,  398,   87, 1036,    2, 8088,    0,    0,    0,\n",
       "            0,    0,    0,    0,    0,    0,    0,    0,    0,    0,    0,\n",
       "            0,    0,    0],\n",
       "        [8087, 1013, 1494,    1,   30, 7941, 7870,   26,  221,  217,    2,\n",
       "         8088,    0,    0,    0,    0,    0,    0,    0,    0,    0,    0,\n",
       "            0,    0,    0],\n",
       "        [8087,   89, 4653, 7863,   22,   67,   35,  280, 3331,    1,   89,\n",
       "           22,   67,   35,  574, 3331,    2, 8088,    0,    0,    0,    0,\n",
       "            0,    0,    0],\n",
       "        [8087,  359,    1,   11,  259,    1,   44,   15,  129,   68, 4115,\n",
       "           51,    8,  164,   34,  180,    5,   80, 2026,    9,  165,   16,\n",
       "         3780,    2, 8088]])>)"
      ]
     },
     "execution_count": 284,
     "metadata": {},
     "output_type": "execute_result"
    }
   ],
   "source": [
    "pt_batch, en_batch = next(iter(val_dataset))\n",
    "pt_batch, en_batch"
   ]
  },
  {
   "cell_type": "markdown",
   "metadata": {
    "id": "nBQuibYA4n0n"
   },
   "source": [
    "<a name='1'></a>\n",
    "## 1 - Positional Encoding\n",
    "\n",
    "In sequence to sequence tasks, the relative order of your data is extremely important to its meaning. When you were training sequential neural networks such as RNNs, you fed your inputs into the network in order. Information about the order of your data was automatically fed into your model.  However, when you train a Transformer network, you feed your data into the model all at once. While this dramatically reduces training time, there is no information about the order of your data. This is where positional encoding is useful - you can specifically encode the positions of your inputs and pass them into the network using these sine and cosine formulas:\n",
    "    \n",
    "$$\n",
    "PE_{(pos, 2i)}= sin\\left(\\frac{pos}{{10000}^{\\frac{2i}{d}}}\\right)\n",
    "\\tag{1}$$\n",
    "<br>\n",
    "$$\n",
    "PE_{(pos, 2i+1)}= cos\\left(\\frac{pos}{{10000}^{\\frac{2i}{d}}}\\right)\n",
    "\\tag{2}$$\n",
    "\n",
    "* $d$ is the dimension of the word embedding and positional encoding\n",
    "* $pos$ is the position of the word.\n",
    "* $i$ refers to each of the different dimensions of the positional encoding.\n",
    "\n",
    "The values of the sine and cosine equations are small enough (between -1 and 1) that when you add the positional encoding to a word embedding, the word embedding is not significantly distorted. The sum of the positional encoding and word embeding is ultimately what is fed into the model. Using a combination of these two equations helps your Transformer network attend to the relative positions of your input data. Note that in this assignment, all vectors are horizontal. All matrix multiplications should be adjusted accordingly.\n",
    "\n",
    "<a name='1-1'></a>\n",
    "### 1.1 - Sine and Cosine Angles\n",
    "\n",
    "Get the possible angles used to compute the positional encodings by calculating the inner term of the sine and cosine equations:\n",
    "\n",
    "$$\\frac{pos}{10000^{\\frac{2i}{d}}} \\tag{3}$$\n",
    "\n",
    "<a name='ex-1'></a>\n",
    "### Exercise 1 - get_angles\n",
    "\n",
    "Implement the function `get_angles()` to calculate the possible angles for the sine and cosine  positional encodings"
   ]
  },
  {
   "cell_type": "code",
   "execution_count": 285,
   "metadata": {
    "executionInfo": {
     "elapsed": 64,
     "status": "ok",
     "timestamp": 1743938178986,
     "user": {
      "displayName": "Lucas",
      "userId": "06744764912251015933"
     },
     "user_tz": -480
    },
    "id": "WhIOZjMNKujn"
   },
   "outputs": [],
   "source": [
    "def get_angles(pos, i, dim):\n",
    "  angle_rates = 1 / np.power(10000, (2 * (i//2)) / np.float32(dim))\n",
    "  return pos * angle_rates"
   ]
  },
  {
   "cell_type": "markdown",
   "metadata": {
    "id": "vh6fYo5DCaeA"
   },
   "source": [
    "<a name='1-2'></a>\n",
    "### 1.2 - Sine and Cosine Positional Encodings\n",
    "\n",
    "Now you can use the angles you computed to calculate the sine and cosine positional encodings.\n",
    "\n",
    "$$\n",
    "PE_{(pos, 2i)}= sin\\left(\\frac{pos}{{10000}^{\\frac{2i}{d}}}\\right)\n",
    "$$\n",
    "<br>\n",
    "$$\n",
    "PE_{(pos, 2i+1)}= cos\\left(\\frac{pos}{{10000}^{\\frac{2i}{d}}}\\right)\n",
    "$$\n",
    "\n",
    "\n",
    "<a name='ex-2'></a>\n",
    "### Exercise 2 - positional_encoding\n",
    "\n",
    "Implement the function `positional_encoding()` to calculate the sine and cosine  positional encodings\n",
    "\n",
    "**Reminder:** Use the sine equation when $i$ is an even number and the cosine equation when $i$ is an odd number.\n",
    "\n",
    "#### Additional Hints\n",
    "* You may find\n",
    "[np.newaxis](https://numpy.org/doc/stable/reference/arrays.indexing.html) useful depending on the implementation you choose."
   ]
  },
  {
   "cell_type": "code",
   "execution_count": 286,
   "metadata": {
    "executionInfo": {
     "elapsed": 4,
     "status": "ok",
     "timestamp": 1743938178988,
     "user": {
      "displayName": "Lucas",
      "userId": "06744764912251015933"
     },
     "user_tz": -480
    },
    "id": "1Rz82wEs5biZ"
   },
   "outputs": [],
   "source": [
    "def positional_encoding(position, dim):\n",
    "  angle_rads = get_angles(np.arange(position)[:, np.newaxis],\n",
    "                          np.arange(dim)[np.newaxis, :],\n",
    "                          dim)\n",
    "  # START CODE HERE\n",
    "\n",
    "  # apply sin to even indices in the array; 2i\n",
    "  angle_rads[:, 0::2] = np.sin(angle_rads[:, 0::2])\n",
    "\n",
    "  # apply cos to odd indices in the array; 2i+1\n",
    "  angle_rads[:, 1::2] = np.cos(angle_rads[:, 1::2])\n",
    "  # END CODE HERE\n",
    "\n",
    "  pos_encoding = angle_rads[np.newaxis, ...]\n",
    "\n",
    "  return tf.cast(pos_encoding, dtype=tf.float32)"
   ]
  },
  {
   "cell_type": "code",
   "execution_count": 287,
   "metadata": {
    "colab": {
     "base_uri": "https://localhost:8080/",
     "height": 473
    },
    "executionInfo": {
     "elapsed": 1490,
     "status": "ok",
     "timestamp": 1743938180476,
     "user": {
      "displayName": "Lucas",
      "userId": "06744764912251015933"
     },
     "user_tz": -480
    },
    "id": "1kLCla68EloE",
    "outputId": "6ca503d7-300d-4470-88a8-9e347c3f87fb"
   },
   "outputs": [
    {
     "name": "stdout",
     "output_type": "stream",
     "text": [
      "(1, 200, 512)\n"
     ]
    },
    {
     "data": {
      "image/png": "[encoded data removed]",
      "text/plain": [
       "<Figure size 640x480 with 2 Axes>"
      ]
     },
     "metadata": {},
     "output_type": "display_data"
    }
   ],
   "source": [
    "pos_encoding = positional_encoding(200, 512)\n",
    "\n",
    "print (pos_encoding.shape)\n",
    "\n",
    "plt.pcolormesh(pos_encoding[0], cmap='RdBu')\n",
    "plt.xlabel('d')\n",
    "plt.xlim((0, 256))\n",
    "plt.ylabel('Position')\n",
    "plt.colorbar()\n",
    "plt.show()"
   ]
  },
  {
   "cell_type": "markdown",
   "metadata": {
    "id": "s42Uydjkv0hF"
   },
   "source": [
    "<a name='2'></a>\n",
    "## 2 - Masking\n",
    "\n",
    "There are two types of masks that are useful when building your Transformer network: the *padding mask* and the *look-ahead mask*. Both help the softmax computation give the appropriate weights to the words in your input sentence.\n",
    "\n",
    "<a name='2-1'></a>\n",
    "### 2.1 - Padding Mask\n",
    "\n",
    "Oftentimes your input sequence will exceed the maximum length of a sequence your network can process. Let's say the maximum length of your model is five, it is fed the following sequences:\n",
    "\n",
    "    [[\"Do\", \"you\", \"know\", \"when\", \"Jane\", \"is\", \"going\", \"to\", \"visit\", \"Africa\"],\n",
    "     [\"Jane\", \"visits\", \"Africa\", \"in\", \"September\" ],\n",
    "     [\"Exciting\", \"!\"]\n",
    "    ]\n",
    "\n",
    "which might get vectorized as:\n",
    "\n",
    "    [[ 71, 121, 4, 56, 99, 2344, 345, 1284, 15],\n",
    "     [ 56, 1285, 15, 181, 545],\n",
    "     [ 87, 600]\n",
    "    ]\n",
    "    \n",
    "When passing sequences into a transformer model, it is important that they are of uniform length. You can achieve this by padding the sequence with zeros, and truncating sentences that exceed the maximum length of your model:\n",
    "\n",
    "    [[ 71, 121, 4, 56, 99],\n",
    "     [ 2344, 345, 1284, 15, 0],\n",
    "     [ 56, 1285, 15, 181, 545],\n",
    "     [ 87, 600, 0, 0, 0],\n",
    "    ]\n",
    "    \n",
    "Sequences longer than the maximum length of five will be truncated, and zeros will be added to the truncated sequence to achieve uniform length. Similarly, for sequences shorter than the maximum length, they zeros will also be added for padding. However, these zeros will affect the softmax calculation - this is when a padding mask comes in handy! By multiplying a padding mask by -1e9 and adding it to your sequence, you mask out the zeros by setting them to close to negative infinity. We'll implement this for you so you can get to the fun of building the Transformer network! 😇 Just make sure you go through the code so you can correctly implement padding when building your model.\n",
    "\n",
    "After masking, your input should go from `[87, 600, 0, 0, 0]` to `[87, 600, -1e9, -1e9, -1e9]`, so that when you take the softmax, the zeros don't affect the score.\n",
    "\n",
    "<font color='blue'> **Important！** In class we talked about two way to implement masking: 1) forcing post-Softmax attention score to be 0, in this case, you need to set positions you *do not* want attentions to be 0; 2) forcing pre-Softmax attention score to be large negative values (so that after Softmax they become zero), in this case, your mask is actually the inverse of the previous one, as you need to set values corresponding to those unattended postions to be 1. Here we used the 2nd scheme while Tensorflow default method MultiHeadAttention uses the 1st one. </font>"
   ]
  },
  {
   "cell_type": "code",
   "execution_count": 288,
   "metadata": {
    "executionInfo": {
     "elapsed": 3,
     "status": "ok",
     "timestamp": 1743938180480,
     "user": {
      "displayName": "Lucas",
      "userId": "06744764912251015933"
     },
     "user_tz": -480
    },
    "id": "U2i8-e1s8ti9"
   },
   "outputs": [],
   "source": [
    "def create_padding_mask(seq):\n",
    "  seq = tf.cast(tf.math.equal(seq, 0), tf.float32)\n",
    "\n",
    "  # add extra dimensions to add the padding\n",
    "  # to the attention logits.\n",
    "  return seq[:, tf.newaxis, tf.newaxis, :]  # (batch_size, 1, 1, seq_len) notice that we add two new dimension here in order to broad cast to the multi-head dimension and query dimenion"
   ]
  },
  {
   "cell_type": "code",
   "execution_count": 289,
   "metadata": {
    "colab": {
     "base_uri": "https://localhost:8080/"
    },
    "executionInfo": {
     "elapsed": 10,
     "status": "ok",
     "timestamp": 1743938180491,
     "user": {
      "displayName": "Lucas",
      "userId": "06744764912251015933"
     },
     "user_tz": -480
    },
    "id": "A7BYeBCNvi7n",
    "outputId": "be596609-1ce3-4874-89fc-7d8eab8b1bb4"
   },
   "outputs": [
    {
     "data": {
      "text/plain": [
       "<tf.Tensor: shape=(3, 1, 1, 5), dtype=float32, numpy=\n",
       "array([[[[0., 0., 1., 1., 0.]]],\n",
       "\n",
       "\n",
       "       [[[0., 0., 0., 1., 1.]]],\n",
       "\n",
       "\n",
       "       [[[1., 1., 1., 0., 0.]]]], dtype=float32)>"
      ]
     },
     "execution_count": 289,
     "metadata": {},
     "output_type": "execute_result"
    }
   ],
   "source": [
    "x = tf.constant([[7, 6, 0, 0, 1], [1, 2, 3, 0, 0], [0, 0, 0, 4, 5]])\n",
    "create_padding_mask(x)"
   ]
  },
  {
   "cell_type": "markdown",
   "metadata": {
    "id": "Z0hzukDBgVom"
   },
   "source": [
    "<a name='2-2'></a>\n",
    "### 2.2 - Look-ahead Mask\n",
    "\n",
    "The look-ahead mask follows similar intuition. In training, you will have access to the complete correct output of your training example. The look-ahead mask helps your model pretend that it correctly predicted a part of the output and see if, *without looking ahead*, it can correctly predict the next output.\n",
    "\n",
    "For example, if the expected correct output is `[1, 2, 3]` and you wanted to see if given that the model correctly predicted the first value it could predict the second value, you would mask out the second and third values. So you would input the masked sequence `[1, -1e9, -1e9]` and see if it could generate `[1, 2, -1e9]`.\n",
    "\n",
    "To implement look-ahead mask, we will use the [band_part](https://www.tensorflow.org/api_docs/python/tf/linalg/band_part) function in the tf.linalg library."
   ]
  },
  {
   "cell_type": "code",
   "execution_count": 290,
   "metadata": {
    "executionInfo": {
     "elapsed": 5,
     "status": "ok",
     "timestamp": 1743938180493,
     "user": {
      "displayName": "Lucas",
      "userId": "06744764912251015933"
     },
     "user_tz": -480
    },
    "id": "dVxS8OPI9uI0"
   },
   "outputs": [],
   "source": [
    "def create_look_ahead_mask(size):\n",
    "  mask = 1 - tf.linalg.band_part(tf.ones((size, size)), -1, 0)\n",
    "  return mask  # (seq_len, seq_len)"
   ]
  },
  {
   "cell_type": "code",
   "execution_count": 291,
   "metadata": {
    "colab": {
     "base_uri": "https://localhost:8080/"
    },
    "executionInfo": {
     "elapsed": 11,
     "status": "ok",
     "timestamp": 1743938180501,
     "user": {
      "displayName": "Lucas",
      "userId": "06744764912251015933"
     },
     "user_tz": -480
    },
    "id": "yxKGuXxaBeeE",
    "outputId": "5d412a4a-f1c9-4581-b05e-4969092e19b5"
   },
   "outputs": [
    {
     "data": {
      "text/plain": [
       "<tf.Tensor: shape=(3, 3), dtype=float32, numpy=\n",
       "array([[0., 1., 1.],\n",
       "       [0., 0., 1.],\n",
       "       [0., 0., 0.]], dtype=float32)>"
      ]
     },
     "execution_count": 291,
     "metadata": {},
     "output_type": "execute_result"
    }
   ],
   "source": [
    "x = tf.random.uniform((1, 3))\n",
    "temp = create_look_ahead_mask(x.shape[1])\n",
    "temp"
   ]
  },
  {
   "cell_type": "markdown",
   "metadata": {
    "id": "vsxEE_-Wa1gF"
   },
   "source": [
    "## 3 - Self-Attention\n",
    "\n",
    "### 3.1 - Single-Head Attention\n",
    "\n",
    "<img src=\"https://www.tensorflow.org/images/tutorials/transformer/scaled_attention.png\" width=\"500\" alt=\"scaled_dot_product_attention\">\n",
    "\n",
    "<a name='3'></a>\n",
    "\n",
    "\n",
    "As the authors of the Transformers paper state, \"Attention is All You Need\".\n",
    "\n",
    "<img src=\"self-attention.png\" alt=\"Encoder\" width=\"600\"/>\n",
    "<caption><center><font color='purple'><b>Figure 1: Self-Attention calculation visualization</font></center></caption>\n",
    "    \n",
    "The use of self-attention paired with traditional convolutional networks allows for the parallization which speeds up training. You will implement **scaled dot product attention** which takes in a query, key, value, and a mask as inputs to returns rich, attention-based vector representations of the words in your sequence. This type of self-attention can be mathematically expressed as:\n",
    "$$\n",
    "\\text { Attention }(Q, K, V)=\\operatorname{softmax}\\left(\\frac{Q K^{T}}{\\sqrt{d_{k}}}+{M}\\right) V\\tag{4}\\\n",
    "$$\n",
    "\n",
    "* $Q$ is the matrix of queries\n",
    "* $K$ is the matrix of keys\n",
    "* $V$ is the matrix of values\n",
    "* $M$ is the optional mask you choose to apply\n",
    "* ${d_k}$ is the dimension of the keys, which is used to scale everything down so the softmax doesn't explode, notice that scaling a vector by a constant does not change the eventual softmax values.\n",
    "\n",
    "<font color='blue'> Notice that the vectors here are represented a **row** vectors, instead of column vectors. The Q, K, and V matrices are all transpose of those appeared in course slides. </font>\n",
    "\n",
    "<a name='ex-3'></a>\n",
    "### Exercise 3 - scaled_dot_product_attention\n",
    "\n",
    "Implement the function `scaled_dot_product_attention()` to create attention-based representations.\n",
    "    \n",
    "**Important notes**:  Here we implemented a more general version of attention where the query sequence may be different from the target squence. Hence the length of query sequence may not be the same as the length of the target. However, if we use this function for self-attention, where the query and target are the same sequence (hence the term \"self\" in its name), then the length of query sequence shall match the length of the target.\n",
    "    \n",
    "**Reminder**: The mask is multiplied with -1e9 (close to negative infinity). This is done because the mask is summed with the scaled matrix multiplication of Q and K and is applied immediately before a softmax. The goal is to zero out these cells, and large negative inputs to softmax are near zero in the output.\n",
    "\n",
    "**Additional Hints**\n",
    "* You may find [tf.matmul](https://www.tensorflow.org/api_docs/python/tf/linalg/matmul) useful for matrix multiplication."
   ]
  },
  {
   "cell_type": "code",
   "execution_count": 292,
   "metadata": {
    "executionInfo": {
     "elapsed": 27,
     "status": "ok",
     "timestamp": 1743938180527,
     "user": {
      "displayName": "Lucas",
      "userId": "06744764912251015933"
     },
     "user_tz": -480
    },
    "id": "LazzUq3bJ5SH"
   },
   "outputs": [],
   "source": [
    "def scaled_dot_product_attention(q, k, v, mask):\n",
    "  \"\"\"Calculate the attention weights.\n",
    "  q, k, v must have matching leading dimensions.\n",
    "  k, v must have matching penultimate dimension, i.e.: seq_len_k = seq_len_v.\n",
    "  The mask has different shapes depending on its type(padding or look ahead)\n",
    "  but it must be broadcastable for addition.\n",
    "\n",
    "  Args:\n",
    "    q: query shape == (..., seq_len_q, depth)\n",
    "    k: key shape == (..., seq_len_k, depth)\n",
    "    v: value shape == (..., seq_len_v, depth_v)\n",
    "    mask: Float tensor with shape broadcastable\n",
    "          to (..., seq_len_q, seq_len_k). Defaults to None.\n",
    "\n",
    "  Returns:\n",
    "    output, attention_weights\n",
    "  \"\"\"\n",
    "\n",
    "  # START CODE HERE: Use tf.matmul to obtain unnomralized attention weights, remember to transpose K\n",
    "  matmul_qk = tf.matmul(q, k, transpose_b=True)   # (..., seq_len_q, seq_len_k)\n",
    "  # END CODE HERE\n",
    "\n",
    "\n",
    "  # scale matmul_qk\n",
    "  dk = tf.cast(tf.shape(k)[-1], tf.float32)\n",
    "  scaled_attention_logits = matmul_qk / tf.math.sqrt(dk)\n",
    "\n",
    "  # add the mask to the scaled tensor.\n",
    "\n",
    "  # START CODE HERE: add (mask * -1e9)  to attention_logits\n",
    "  if mask is not None:\n",
    "    scaled_attention_logits += (tf.cast(mask, tf.float32) * -1e9)\n",
    "  # END CODE HERE\n",
    "\n",
    "  # softmax is normalized on the last axis (seq_len_k) so that the scores\n",
    "  # add up to 1.\n",
    "  attention_weights = tf.nn.softmax(scaled_attention_logits, axis=-1)  # (..., seq_len_q, seq_len_k)\n",
    "\n",
    "  output = tf.matmul(attention_weights, v)  # (..., seq_len_q, depth_v)\n",
    "\n",
    "  return output, attention_weights"
   ]
  },
  {
   "cell_type": "code",
   "execution_count": 293,
   "metadata": {
    "colab": {
     "base_uri": "https://localhost:8080/"
    },
    "executionInfo": {
     "elapsed": 8,
     "status": "ok",
     "timestamp": 1743938180536,
     "user": {
      "displayName": "Lucas",
      "userId": "06744764912251015933"
     },
     "user_tz": -480
    },
    "id": "QoFr9-8JCaeB",
    "outputId": "ee37f07d-255d-40e1-a886-c5a321a292bd"
   },
   "outputs": [
    {
     "name": "stdout",
     "output_type": "stream",
     "text": [
      "\u001b[92mAll tests passed!\n"
     ]
    }
   ],
   "source": [
    "def scaled_dot_product_attention_test(target):\n",
    "    q = np.array([[1, 0, 1, 1], [0, 1, 1, 1], [1, 0, 0, 1]]).astype(np.float32)\n",
    "    k = np.array([[1, 1, 0, 1], [1, 0, 1, 1 ], [0, 1, 1, 0], [0, 0, 0, 1]]).astype(np.float32)\n",
    "    v = np.array([[0, 0], [1, 0], [1, 0], [1, 1]]).astype(np.float32)\n",
    "\n",
    "    attention, weights = target(q, k, v, None)\n",
    "    assert tf.is_tensor(weights), \"Weights must be a tensor\"\n",
    "    assert tuple(tf.shape(weights).numpy()) == (q.shape[0], k.shape[1]), f\"Wrong shape. We expected ({q.shape[0]}, {k.shape[1]})\"\n",
    "    assert np.allclose(weights, [[0.2589478,  0.42693272, 0.15705977, 0.15705977],\n",
    "                                   [0.2772748,  0.2772748,  0.2772748,  0.16817567],\n",
    "                                   [0.33620113, 0.33620113, 0.12368149, 0.2039163 ]])\n",
    "\n",
    "    assert tf.is_tensor(attention), \"Output must be a tensor\"\n",
    "    assert tuple(tf.shape(attention).numpy()) == (q.shape[0], v.shape[1]), f\"Wrong shape. We expected ({q.shape[0]}, {v.shape[1]})\"\n",
    "    assert np.allclose(attention, [[0.74105227, 0.15705977],\n",
    "                                   [0.7227253,  0.16817567],\n",
    "                                   [0.6637989,  0.2039163 ]])\n",
    "\n",
    "    mask = np.array([[0, 0, 1, 0], [0, 0, 1, 0], [0, 0, 1, 0]])\n",
    "    attention, weights = target(q, k, v, mask)\n",
    "\n",
    "    assert np.allclose(weights, [[0.30719590187072754, 0.5064803957939148, 0.0, 0.18632373213768005],\n",
    "                                 [0.3836517333984375, 0.3836517333984375, 0.0, 0.2326965481042862],\n",
    "                                 [0.3836517333984375, 0.3836517333984375, 0.0, 0.2326965481042862]]), \"Wrong masked weights\"\n",
    "    assert np.allclose(attention, [[0.6928040981292725, 0.18632373213768005],\n",
    "                                   [0.6163482666015625, 0.2326965481042862],\n",
    "                                   [0.6163482666015625, 0.2326965481042862]]), \"Wrong masked attention\"\n",
    "\n",
    "    print(\"\\033[92mAll tests passed!\")\n",
    "\n",
    "scaled_dot_product_attention_test(scaled_dot_product_attention)"
   ]
  },
  {
   "cell_type": "markdown",
   "metadata": {
    "id": "FiqETnhCkoXh"
   },
   "source": [
    "As the softmax normalization is done on K, its values decide the amount of importance given to Q.\n",
    "\n",
    "The output represents the multiplication of the attention weights and the V (value) vector. This ensures that the words you want to focus on are kept as-is and the irrelevant words are flushed out."
   ]
  },
  {
   "cell_type": "code",
   "execution_count": 294,
   "metadata": {
    "executionInfo": {
     "elapsed": 3,
     "status": "ok",
     "timestamp": 1743938180540,
     "user": {
      "displayName": "Lucas",
      "userId": "06744764912251015933"
     },
     "user_tz": -480
    },
    "id": "n90YjClyInFy"
   },
   "outputs": [],
   "source": [
    "def print_out(q, k, v):\n",
    "  temp_out, temp_attn = scaled_dot_product_attention(\n",
    "      q, k, v, None)\n",
    "  print ('Attention weights are:')\n",
    "  print (temp_attn)\n",
    "  print ('Output is:')\n",
    "  print (temp_out)"
   ]
  },
  {
   "cell_type": "code",
   "execution_count": 295,
   "metadata": {
    "colab": {
     "base_uri": "https://localhost:8080/"
    },
    "executionInfo": {
     "elapsed": 6,
     "status": "ok",
     "timestamp": 1743938180548,
     "user": {
      "displayName": "Lucas",
      "userId": "06744764912251015933"
     },
     "user_tz": -480
    },
    "id": "yAzUAf2DPlNt",
    "outputId": "253d6ca9-1309-49aa-c4f6-f25bdef6c0b0"
   },
   "outputs": [
    {
     "name": "stdout",
     "output_type": "stream",
     "text": [
      "Attention weights are:\n",
      "tf.Tensor([[0. 1. 0. 0.]], shape=(1, 4), dtype=float32)\n",
      "Output is:\n",
      "tf.Tensor([[10.  0.]], shape=(1, 2), dtype=float32)\n"
     ]
    }
   ],
   "source": [
    "np.set_printoptions(suppress=True)\n",
    "\n",
    "temp_k = tf.constant([[10,0,0],\n",
    "                      [0,10,0],\n",
    "                      [0,0,10],\n",
    "                      [0,0,10]], dtype=tf.float32)  # (4, 3)\n",
    "\n",
    "temp_v = tf.constant([[   1,0],\n",
    "                      [  10,0],\n",
    "                      [ 100,5],\n",
    "                      [1000,6]], dtype=tf.float32)  # (4, 2)\n",
    "\n",
    "# This `query` aligns with the second `key`,\n",
    "# so the second `value` is returned.\n",
    "temp_q = tf.constant([[0, 10, 0]], dtype=tf.float32)  # (1, 3)\n",
    "print_out(temp_q, temp_k, temp_v)"
   ]
  },
  {
   "cell_type": "code",
   "execution_count": 296,
   "metadata": {
    "colab": {
     "base_uri": "https://localhost:8080/"
    },
    "executionInfo": {
     "elapsed": 7,
     "status": "ok",
     "timestamp": 1743938180557,
     "user": {
      "displayName": "Lucas",
      "userId": "06744764912251015933"
     },
     "user_tz": -480
    },
    "id": "zg6k-fGhgXra",
    "outputId": "12f9defd-a188-4fe4-e763-3165f43a9c62"
   },
   "outputs": [
    {
     "name": "stdout",
     "output_type": "stream",
     "text": [
      "Attention weights are:\n",
      "tf.Tensor([[0.  0.  0.5 0.5]], shape=(1, 4), dtype=float32)\n",
      "Output is:\n",
      "tf.Tensor([[550.    5.5]], shape=(1, 2), dtype=float32)\n"
     ]
    }
   ],
   "source": [
    "# This query aligns with a repeated key (third and fourth),\n",
    "# so all associated values get averaged.\n",
    "temp_q = tf.constant([[0, 0, 10]], dtype=tf.float32)  # (1, 3)\n",
    "print_out(temp_q, temp_k, temp_v)"
   ]
  },
  {
   "cell_type": "code",
   "execution_count": 297,
   "metadata": {
    "colab": {
     "base_uri": "https://localhost:8080/"
    },
    "executionInfo": {
     "elapsed": 6,
     "status": "ok",
     "timestamp": 1743938180564,
     "user": {
      "displayName": "Lucas",
      "userId": "06744764912251015933"
     },
     "user_tz": -480
    },
    "id": "UAq3YOzUgXhb",
    "outputId": "b7b2fb9e-1ea2-4c91-dcaf-03d160dc3a8a"
   },
   "outputs": [
    {
     "name": "stdout",
     "output_type": "stream",
     "text": [
      "Attention weights are:\n",
      "tf.Tensor([[0.5 0.5 0.  0. ]], shape=(1, 4), dtype=float32)\n",
      "Output is:\n",
      "tf.Tensor([[5.5 0. ]], shape=(1, 2), dtype=float32)\n"
     ]
    }
   ],
   "source": [
    "# This query aligns equally with the first and second key,\n",
    "# so their values get averaged.\n",
    "temp_q = tf.constant([[10, 10, 0]], dtype=tf.float32)  # (1, 3)\n",
    "print_out(temp_q, temp_k, temp_v)"
   ]
  },
  {
   "cell_type": "markdown",
   "metadata": {
    "id": "aOz-4_XIhaTP"
   },
   "source": [
    "Pass all the queries together."
   ]
  },
  {
   "cell_type": "code",
   "execution_count": 298,
   "metadata": {
    "colab": {
     "base_uri": "https://localhost:8080/"
    },
    "executionInfo": {
     "elapsed": 5,
     "status": "ok",
     "timestamp": 1743938180570,
     "user": {
      "displayName": "Lucas",
      "userId": "06744764912251015933"
     },
     "user_tz": -480
    },
    "id": "6dlU8Tm-hYrF",
    "outputId": "934b3a3e-3bf1-4d32-9a5e-84c114bd502a"
   },
   "outputs": [
    {
     "name": "stdout",
     "output_type": "stream",
     "text": [
      "Attention weights are:\n",
      "tf.Tensor(\n",
      "[[0.  0.  0.5 0.5]\n",
      " [0.  1.  0.  0. ]\n",
      " [0.5 0.5 0.  0. ]], shape=(3, 4), dtype=float32)\n",
      "Output is:\n",
      "tf.Tensor(\n",
      "[[550.    5.5]\n",
      " [ 10.    0. ]\n",
      " [  5.5   0. ]], shape=(3, 2), dtype=float32)\n"
     ]
    }
   ],
   "source": [
    "temp_q = tf.constant([[0, 0, 10], [0, 10, 0], [10, 10, 0]], dtype=tf.float32)  # (3, 3)\n",
    "print_out(temp_q, temp_k, temp_v)"
   ]
  },
  {
   "cell_type": "markdown",
   "metadata": {
    "id": "kmzGPEy64qmA"
   },
   "source": [
    "### 3.2 - Multi-head attention"
   ]
  },
  {
   "cell_type": "markdown",
   "metadata": {
    "id": "fz5BMC8Kaoqo"
   },
   "source": [
    "<img src=\"https://www.tensorflow.org/images/tutorials/transformer/multi_head_attention.png\" width=\"500\" alt=\"multi-head attention\">\n",
    "\n",
    "\n",
    "Multi-head attention consists of four parts:\n",
    "*    Linear layers and split into heads.\n",
    "*    Scaled dot-product attention.\n",
    "*    Concatenation of heads.\n",
    "*    Final linear layer."
   ]
  },
  {
   "cell_type": "markdown",
   "metadata": {
    "id": "JPmbr6F1C-v_"
   },
   "source": [
    "Each multi-head attention block gets three inputs; Q (query), K (key), V (value). These are put through linear (Dense) layers and split up into multiple heads.\n",
    "\n",
    "The `scaled_dot_product_attention` defined above is applied to each head (broadcasted for efficiency). An appropriate mask must be used in the attention step.  The attention output for each head is then concatenated (using `tf.transpose`, and `tf.reshape`) and put through a final `Dense` layer.\n",
    "\n",
    "Instead of one single attention head, Q, K, and V are split into multiple heads because it allows the model to jointly attend to information at different positions from different representational spaces. After the split each head has a reduced dimensionality, so the total computation cost is the same as a single head attention with full dimensionality.\n",
    "\n",
    "\n",
    "<img src=\"hydra.jpg\" alt=\"Encoder\" width=\"250\"/>\n",
    "<caption><center><font color='purple'><b>Figure 2: A live demo of Multi-Head Attention</font></center></caption>"
   ]
  },
  {
   "cell_type": "code",
   "execution_count": 299,
   "metadata": {
    "executionInfo": {
     "elapsed": 2,
     "status": "ok",
     "timestamp": 1743938180573,
     "user": {
      "displayName": "Lucas",
      "userId": "06744764912251015933"
     },
     "user_tz": -480
    },
    "id": "BSV3PPKsYecw"
   },
   "outputs": [],
   "source": [
    "class MultiHeadAttention(tf.keras.layers.Layer):\n",
    "  def __init__(self, d_model, num_heads, hidden):\n",
    "    super(MultiHeadAttention, self).__init__()\n",
    "    self.num_heads = num_heads   # number of heads\n",
    "    self.d_model = d_model\n",
    "\n",
    "    assert d_model % self.num_heads == 0   # d_model == length of key/query * num_heads\n",
    "\n",
    "    self.depth = d_model // self.num_heads # the depth is the length of the key and queries\n",
    "\n",
    "    self.wq = tf.keras.layers.Dense(d_model)\n",
    "    self.wk = tf.keras.layers.Dense(d_model)\n",
    "    # for simplicity, here the depth of v vector is set to be the same of depth of k and q, you can relax this constrait. The cost is one extra argument to pass\n",
    "    self.wv = tf.keras.layers.Dense(d_model)\n",
    "\n",
    "    self.dense = tf.keras.layers.Dense(hidden)\n",
    "\n",
    "  def split_heads(self, x, batch_size):\n",
    "    \"\"\"Split the last dimension into (num_heads, depth).\n",
    "    Transpose the result such that the shape is (batch_size, num_heads, seq_len, depth)\n",
    "    \"\"\"\n",
    "    x = tf.reshape(x, (batch_size, -1, self.num_heads, self.depth))\n",
    "    return tf.transpose(x, perm=[0, 2, 1, 3])\n",
    "\n",
    "  def call(self, v, k, q, mask):\n",
    "    batch_size = tf.shape(q)[0]\n",
    "\n",
    "    q = self.wq(q)  # (batch_size, seq_len, d_model)\n",
    "\n",
    "    # START CODE HERE\n",
    "    k = self.wk(k)  # (batch_size, seq_len, d_model)\n",
    "    v = self.wv(v)  # (batch_size, seq_len, d_model)\n",
    "\n",
    "    # END CODE HERE\n",
    "\n",
    "    q = self.split_heads(q, batch_size)  # (batch_size, num_heads, seq_len_q, depth)\n",
    "    k = self.split_heads(k, batch_size)  # (batch_size, num_heads, seq_len_k, depth)\n",
    "    v = self.split_heads(v, batch_size)  # (batch_size, num_heads, seq_len_v, depth)\n",
    "\n",
    "    # scaled_attention.shape == (batch_size, num_heads, seq_len_q, depth)\n",
    "    # attention_weights.shape == (batch_size, num_heads, seq_len_q, seq_len_k)\n",
    "\n",
    "    # START CODE HERE: USE scaled_dot_product_attention FUNCTION TO OBTAIN ATTENTIONS AND ATTENTION WEIGHTS, DO NOT FORGET TO PASS MASK AS AN ARGUMENT\n",
    "    scaled_attention, attention_weights = scaled_dot_product_attention(q, k, v, mask)\n",
    "    # END CODE HERE\n",
    "\n",
    "    scaled_attention = tf.transpose(scaled_attention, perm=[0, 2, 1, 3])  # (batch_size, seq_len_q, num_heads, depth)\n",
    "\n",
    "    concat_attention = tf.reshape(scaled_attention,\n",
    "                                  (batch_size, -1, self.d_model))  # (batch_size, seq_len_q, d_model), here we concatenate the attention_weighted output from multiple attentions\n",
    "\n",
    "    output = self.dense(concat_attention)  # (batch_size, seq_len_q, hidden)\n",
    "\n",
    "    return output, attention_weights"
   ]
  },
  {
   "cell_type": "markdown",
   "metadata": {
    "id": "0D8FJue5lDyZ"
   },
   "source": [
    "Create a `MultiHeadAttention` layer to try out. At each location in the sequence, `y`, the `MultiHeadAttention` runs all 8 attention heads across all other locations in the sequence, returning a new vector of the same length at each location."
   ]
  },
  {
   "cell_type": "code",
   "execution_count": 300,
   "metadata": {
    "colab": {
     "base_uri": "https://localhost:8080/"
    },
    "executionInfo": {
     "elapsed": 5,
     "status": "ok",
     "timestamp": 1743938180577,
     "user": {
      "displayName": "Lucas",
      "userId": "06744764912251015933"
     },
     "user_tz": -480
    },
    "id": "Hu94p-_-2_BX",
    "outputId": "20fb197e-e2b5-498f-fbf2-5aa98bde01d6"
   },
   "outputs": [
    {
     "data": {
      "text/plain": [
       "(TensorShape([1, 60, 300]), TensorShape([1, 8, 60, 60]))"
      ]
     },
     "execution_count": 300,
     "metadata": {},
     "output_type": "execute_result"
    }
   ],
   "source": [
    "temp_mha = MultiHeadAttention(d_model=512, num_heads=8, hidden = 300)\n",
    "y = tf.random.uniform((1, 60, 512))  # (batch_size, encoder_sequence, input length)\n",
    "out, attn = temp_mha(y, k=y, q=y, mask=None)\n",
    "out.shape, attn.shape"
   ]
  },
  {
   "cell_type": "markdown",
   "metadata": {
    "id": "RdDqGayx67vv"
   },
   "source": [
    "### 3.3 - Point wise feed forward network"
   ]
  },
  {
   "cell_type": "markdown",
   "metadata": {
    "id": "gBqzJXGfHK3X"
   },
   "source": [
    "Point wise feed forward network consists of two fully-connected layers with a ReLU activation in between."
   ]
  },
  {
   "cell_type": "code",
   "execution_count": 301,
   "metadata": {
    "executionInfo": {
     "elapsed": 34,
     "status": "ok",
     "timestamp": 1743938180613,
     "user": {
      "displayName": "Lucas",
      "userId": "06744764912251015933"
     },
     "user_tz": -480
    },
    "id": "ET7xLt0yCT6Z"
   },
   "outputs": [],
   "source": [
    "def point_wise_feed_forward_network(hidden, dff):\n",
    "  return tf.keras.Sequential([\n",
    "      tf.keras.layers.Dense(dff, activation='relu'),  # (batch_size, seq_len, dff)\n",
    "      tf.keras.layers.Dense(hidden)  # (batch_size, seq_len, hidden)\n",
    "  ])"
   ]
  },
  {
   "cell_type": "code",
   "execution_count": 302,
   "metadata": {
    "colab": {
     "base_uri": "https://localhost:8080/"
    },
    "executionInfo": {
     "elapsed": 378,
     "status": "ok",
     "timestamp": 1743938180966,
     "user": {
      "displayName": "Lucas",
      "userId": "06744764912251015933"
     },
     "user_tz": -480
    },
    "id": "mytb1lPyOHLB",
    "outputId": "64796028-44f0-4973-9924-c0d1b1ac3332"
   },
   "outputs": [
    {
     "data": {
      "text/plain": [
       "TensorShape([64, 50, 512])"
      ]
     },
     "execution_count": 302,
     "metadata": {},
     "output_type": "execute_result"
    }
   ],
   "source": [
    "sample_ffn = point_wise_feed_forward_network(512, 2048)\n",
    "sample_ffn(tf.random.uniform((64, 50, 512))).shape"
   ]
  },
  {
   "cell_type": "markdown",
   "metadata": {
    "id": "7e7hKcxn6-zd"
   },
   "source": [
    "## 4 - Encoder and decoder"
   ]
  },
  {
   "cell_type": "markdown",
   "metadata": {
    "id": "yScbC0MUH8dS"
   },
   "source": [
    "<img src=\"https://www.tensorflow.org/images/tutorials/transformer/transformer.png\" width=\"600\" alt=\"transformer\">"
   ]
  },
  {
   "cell_type": "markdown",
   "metadata": {
    "id": "MfYJG-Kvgwy2"
   },
   "source": [
    "The transformer model follows the same general pattern as a standard [sequence to sequence with attention model](nmt_with_attention.ipynb).\n",
    "\n",
    "* The input sentence is passed through `N` encoder layers that generates an output for each word/token in the sequence.\n",
    "* The decoder attends on the encoder's output and its own input (self-attention) to predict the next word."
   ]
  },
  {
   "cell_type": "markdown",
   "metadata": {
    "id": "QFv-FNYUmvpn"
   },
   "source": [
    "### 4.1 - Encoder layer\n",
    "\n",
    "\n",
    "The Transformer Encoder layer pairs self-attention and convolutional neural network style of processing to improve the speed of training and passes K and V matrices to the Decoder, which you'll build later in the assignment. In this section of the assignment, you will implement the Encoder by pairing multi-head attention and a feed forward neural network (Figure 2a).\n",
    "<img src=\"encoder_layer.png\" alt=\"Encoder\" width=\"250\"/>\n",
    "<caption><center><font color='purple'><b>Figure 3a: Transformer encoder layer</font></center></caption>\n",
    "\n",
    "* Both `MultiHeadAttention` and `FeedForward` layers have been defined previously, as in session 3.\n",
    "\n",
    "    \n",
    "Your input sentence first passes through a *multi-head attention layer*, where the encoder looks at other words in the input sentence as it encodes a specific word. The outputs of the multi-head attention layer are then fed to a *feed forward neural network*. The exact same feed forward network is independently applied to each position.\n",
    "\n",
    "The output of each sublayer is `LayerNorm(x + Sublayer(x))`. The normalization is done on the `d_model` (last) axis. There are N encoder layers in the transformer."
   ]
  },
  {
   "cell_type": "code",
   "execution_count": 303,
   "metadata": {
    "executionInfo": {
     "elapsed": 1,
     "status": "ok",
     "timestamp": 1743938180968,
     "user": {
      "displayName": "Lucas",
      "userId": "06744764912251015933"
     },
     "user_tz": -480
    },
    "id": "ncyS-Ms3i2x_"
   },
   "outputs": [],
   "source": [
    "class EncoderLayer(tf.keras.layers.Layer):\n",
    "  def __init__(self, d_model, num_heads, dff, hidden, rate=0.1):\n",
    "    super().__init__()\n",
    "\n",
    "    self.mha = MultiHeadAttention(d_model, num_heads, hidden)\n",
    "    self.ffn = point_wise_feed_forward_network(hidden, dff)\n",
    "\n",
    "    self.layernorm1 = tf.keras.layers.LayerNormalization(epsilon=1e-6)\n",
    "    self.layernorm2 = tf.keras.layers.LayerNormalization(epsilon=1e-6)\n",
    "\n",
    "    self.dropout1 = tf.keras.layers.Dropout(rate)\n",
    "    self.dropout2 = tf.keras.layers.Dropout(rate)\n",
    "\n",
    "  def call(self, x, training, mask):\n",
    "\n",
    "    # START CODE HERE\n",
    "    attn_output, _ = self.mha(x, k=x, q=x, mask=mask)   # INPUT x,x, AND x, OUTPUT SHAPE (batch_size, input_seq_len, hidden)\n",
    "    # END CODE HERE\n",
    "    attn_output = self.dropout1(attn_output, training=training)  # the dropout layer behaves differently during training or inference stage ,hence you need to pass teh training argument\n",
    "    out1 = self.layernorm1(x + attn_output)  # (batch_size, input_seq_len, hidden), this is the residual unit, or skip connection unit\n",
    "\n",
    "    ffn_output = self.ffn(out1)  # (batch_size, input_seq_len, d_model)\n",
    "    # START CODE HERE: ADD DROPOUT, RESIDUAL UNIT AND LAYERNORM2\n",
    "    ffn_output = self.dropout2(ffn_output, training=training)\n",
    "\n",
    "    out2 = self.layernorm2(out1 + ffn_output)  # (batch_size, input_seq_len, d_model)\n",
    "    # END CODE HERE\n",
    "    return out2"
   ]
  },
  {
   "cell_type": "code",
   "execution_count": 304,
   "metadata": {
    "colab": {
     "base_uri": "https://localhost:8080/"
    },
    "executionInfo": {
     "elapsed": 592,
     "status": "ok",
     "timestamp": 1743938181568,
     "user": {
      "displayName": "Lucas",
      "userId": "06744764912251015933"
     },
     "user_tz": -480
    },
    "id": "AzZRXdO0mI48",
    "outputId": "88e65d3e-8d68-4ff5-c727-612322e73133"
   },
   "outputs": [
    {
     "data": {
      "text/plain": [
       "TensorShape([64, 43, 300])"
      ]
     },
     "execution_count": 304,
     "metadata": {},
     "output_type": "execute_result"
    }
   ],
   "source": [
    "sample_encoder_layer = EncoderLayer(512, 8, 2048, 300)\n",
    "\n",
    "sample_encoder_layer_output = sample_encoder_layer(\n",
    "    tf.random.uniform((64, 43, 300)), training=False, mask=None) # input dimension has to be the same as hidden dimension\n",
    "\n",
    "sample_encoder_layer_output.shape  # (batch_size, input_seq_len, hidden)"
   ]
  },
  {
   "cell_type": "markdown",
   "metadata": {
    "id": "6LO_48Owmx_o"
   },
   "source": [
    "### 4.2 - Decoder layer\n",
    "\n",
    "The Decoder layer takes the K and V matrices generated by the Encoder and in computes the second multi-head attention layer with the Q matrix from the output (Figure 3a).\n",
    "\n",
    "<img src=\"decoder_layer.png\" alt=\"Encoder\" width=\"250\"/>\n",
    "<caption><center><font color='purple'><b>Figure 3b: Transformer Decoder layer</font></center></caption>\n",
    "\n",
    "\n",
    "\n",
    "Each decoder layer consists of sublayers:\n",
    "\n",
    "1.   Masked multi-head attention (with look ahead mask and padding mask)\n",
    "2.   Multi-head attention (with padding mask). V (value) and K (key) receive the *encoder output* as inputs. Q (query) receives the *output from the masked multi-head attention sublayer.*\n",
    "3.   Point wise feed forward networks\n",
    "\n",
    "Each of these sublayers has a residual connection around it followed by a layer normalization. The output of each sublayer is `LayerNorm(x + Sublayer(x))`. The normalization is done on the `d_model` (last) axis.\n",
    "\n",
    "There are N decoder layers in the transformer.\n",
    "\n",
    "As Q receives the output from decoder's first attention block, and K receives the encoder output, the attention weights represent the importance given to the decoder's input based on the encoder's output. In other words, the decoder predicts the next word by looking at the encoder output and self-attending to its own output. See the demonstration above in the scaled dot product attention section."
   ]
  },
  {
   "cell_type": "code",
   "execution_count": 305,
   "metadata": {
    "executionInfo": {
     "elapsed": 18,
     "status": "ok",
     "timestamp": 1743938181593,
     "user": {
      "displayName": "Lucas",
      "userId": "06744764912251015933"
     },
     "user_tz": -480
    },
    "id": "9SoX0-vd1hue"
   },
   "outputs": [],
   "source": [
    "class DecoderLayer(tf.keras.layers.Layer):\n",
    "  def __init__(self, d_model, num_heads, dff, hidden, rate=0.1):\n",
    "    super().__init__()\n",
    "\n",
    "    self.mha1 = MultiHeadAttention(d_model, num_heads, hidden)\n",
    "    self.mha2 = MultiHeadAttention(d_model, num_heads, hidden)\n",
    "\n",
    "    self.ffn = point_wise_feed_forward_network(hidden, dff)\n",
    "\n",
    "    self.layernorm1 = tf.keras.layers.LayerNormalization(epsilon=1e-6)\n",
    "    self.layernorm2 = tf.keras.layers.LayerNormalization(epsilon=1e-6)\n",
    "    self.layernorm3 = tf.keras.layers.LayerNormalization(epsilon=1e-6)\n",
    "\n",
    "    self.dropout1 = tf.keras.layers.Dropout(rate)\n",
    "    self.dropout2 = tf.keras.layers.Dropout(rate)\n",
    "    self.dropout3 = tf.keras.layers.Dropout(rate)\n",
    "\n",
    "\n",
    "  def call(self, x, enc_output, training,\n",
    "           look_ahead_mask, padding_mask):\n",
    "    # enc_output.shape == (batch_size, input_seq_len, hidden)\n",
    "    # START CODE HERE: ATTENTION, DROPOUT, RESIDUAL AND LAYERNORM1\n",
    "    attn1, attn_weights_block1 = self.mha1(x, k=x, q=x, mask=look_ahead_mask)  # (batch_size, target_seq_len, hidden)\n",
    "    attn1 = self.dropout1(attn1, training=training)\n",
    "    out1 = self.layernorm1(x + attn1)\n",
    "    # END CODE EHRE\n",
    "\n",
    "\n",
    "    # START CODE HERE: ATTENTION, DROPOUT, RESIDUAL AND LAYERNORM1\n",
    "    attn2, attn_weights_block2 = self.mha2(enc_output, k=enc_output, q=out1, mask=padding_mask)   #  v, k, q, output is of shape (batch_size, target_seq_len, hidden)\n",
    "    attn2 = self.dropout2(attn2, training=training)\n",
    "    out2 = self.layernorm2(out1 + attn2)  # (batch_size, target_seq_len, hidden)\n",
    "    # END CODE HERE\n",
    "\n",
    "    ffn_output = self.ffn(out2)  # (batch_size, target_seq_len, hidden)\n",
    "    ffn_output = self.dropout3(ffn_output, training=training)\n",
    "    out3 = self.layernorm3(ffn_output + out2)  # (batch_size, target_seq_len, hidden)\n",
    "\n",
    "    return out3, attn_weights_block1, attn_weights_block2"
   ]
  },
  {
   "cell_type": "code",
   "execution_count": 306,
   "metadata": {
    "colab": {
     "base_uri": "https://localhost:8080/"
    },
    "executionInfo": {
     "elapsed": 1232,
     "status": "ok",
     "timestamp": 1743938182833,
     "user": {
      "displayName": "Lucas",
      "userId": "06744764912251015933"
     },
     "user_tz": -480
    },
    "id": "Ne2Bqx8k71l0",
    "outputId": "7f7d4d01-b0aa-4f21-834e-189cde1e841d"
   },
   "outputs": [
    {
     "data": {
      "text/plain": [
       "TensorShape([64, 50, 300])"
      ]
     },
     "execution_count": 306,
     "metadata": {},
     "output_type": "execute_result"
    }
   ],
   "source": [
    "sample_decoder_layer = DecoderLayer(512, 8, 2048, 300)\n",
    "\n",
    "sample_decoder_layer_output, _, _ = sample_decoder_layer(\n",
    "    tf.random.uniform((64, 50, 300)), sample_encoder_layer_output,\n",
    "    training = False, look_ahead_mask = None, padding_mask = None) # decoder input dim == hidden dimension, you can change the residual unit yourself if you do not like this constraint\n",
    "\n",
    "sample_decoder_layer_output.shape  # (batch_size, target_seq_len, hidden)"
   ]
  },
  {
   "cell_type": "markdown",
   "metadata": {
    "id": "SE1H51Ajm0q1"
   },
   "source": [
    "### 4.3 - Full Encoder\n",
    "\n",
    "The `Encoder` consists of:\n",
    "1.   Input Embedding\n",
    "2.   Positional Encoding\n",
    "3.   N encoder layers, will be passed as the `num_layers` argument\n",
    "\n",
    "The input is put through an embedding which is summed with the positional encoding. The output of this summation is the input to the encoder layers. The output of the encoder is the input to the decoder."
   ]
  },
  {
   "cell_type": "code",
   "execution_count": 307,
   "metadata": {
    "executionInfo": {
     "elapsed": 15,
     "status": "ok",
     "timestamp": 1743938182850,
     "user": {
      "displayName": "Lucas",
      "userId": "06744764912251015933"
     },
     "user_tz": -480
    },
    "id": "jpEox7gJ8FCI"
   },
   "outputs": [],
   "source": [
    "class Encoder(tf.keras.layers.Layer):\n",
    "  def __init__(self, num_layers, d_model, num_heads, dff, hidden,input_vocab_size,\n",
    "               maximum_position_encoding, rate=0.1):\n",
    "    super().__init__()\n",
    "\n",
    "    self.d_model = d_model\n",
    "    self.num_layers = num_layers\n",
    "    self.hidden = hidden\n",
    "\n",
    "    self.embedding = tf.keras.layers.Embedding(input_vocab_size, hidden)\n",
    "    self.pos_encoding = positional_encoding(maximum_position_encoding,\n",
    "                                            hidden)\n",
    "\n",
    "    # START CODE HERE: ADD num_layers Encoderlayer, put in a list,\n",
    "    self.enc_layers = [EncoderLayer(d_model, num_heads, dff, hidden, rate)\n",
    "                       for _ in range(num_layers)]\n",
    "\n",
    "    self.dropout = tf.keras.layers.Dropout(rate)\n",
    "\n",
    "  def call(self, x, training, mask):\n",
    "\n",
    "    seq_len = tf.shape(x)[1]\n",
    "\n",
    "    # adding embedding and position encoding.\n",
    "    x = self.embedding(x)  # (batch_size, input_seq_len, hidden)\n",
    "    x *= tf.math.sqrt(tf.cast(self.hidden, tf.float32))  # this line is to normalize the variance of embeddings so it does not explode\n",
    "    x += self.pos_encoding[:, :seq_len, :]\n",
    "    x = self.dropout(x, training=training)\n",
    "\n",
    "    for i in range(self.num_layers):\n",
    "      x = self.enc_layers[i](x, training = training, mask = mask ) #进行了一些小修改，加入关键字参数进行传递\n",
    "\n",
    "    return x  # (batch_size, input_seq_len, hidden)"
   ]
  },
  {
   "cell_type": "code",
   "execution_count": 308,
   "metadata": {
    "colab": {
     "base_uri": "https://localhost:8080/"
    },
    "executionInfo": {
     "elapsed": 1558,
     "status": "ok",
     "timestamp": 1743938184410,
     "user": {
      "displayName": "Lucas",
      "userId": "06744764912251015933"
     },
     "user_tz": -480
    },
    "id": "8QG9nueFQKXx",
    "outputId": "8a1c3867-a443-48bc-d192-b950ccb090a9"
   },
   "outputs": [
    {
     "name": "stdout",
     "output_type": "stream",
     "text": [
      "tf.Tensor(\n",
      "[[149 154  36 ... 119 101 139]\n",
      " [ 30  76 186 ... 128 126 149]\n",
      " [141 126 135 ... 189  75  95]\n",
      " ...\n",
      " [121 174   9 ...  27  22 178]\n",
      " [174 136  51 ... 178 152  40]\n",
      " [130  44  68 ... 110  46 112]], shape=(64, 62), dtype=int64)\n",
      "(64, 62, 300)\n"
     ]
    }
   ],
   "source": [
    "sample_encoder = Encoder(num_layers=2, d_model=512, num_heads=8,\n",
    "                         dff=1024, hidden = 300,input_vocab_size=8500,\n",
    "                         maximum_position_encoding=10000)\n",
    "temp_input = tf.random.uniform((64, 62), dtype=tf.int64, minval=0, maxval=200)\n",
    "print(temp_input)\n",
    "\n",
    "sample_encoder_output = sample_encoder(temp_input, training=False, mask=None)\n",
    "\n",
    "print (sample_encoder_output.shape)  # (batch_size, input_seq_len, d_model)"
   ]
  },
  {
   "cell_type": "markdown",
   "metadata": {
    "id": "p-uO6ls8m2O5"
   },
   "source": [
    "### 4.4 - Full Decoder\n",
    " The `Decoder` consists of:\n",
    "1.   Output Embedding\n",
    "2.   Positional Encoding\n",
    "3.   N decoder layers\n",
    "\n",
    "The target is put through an embedding which is summed with the positional encoding. The output of this summation is the input to the decoder layers. The output of the decoder is the input to the final linear layer."
   ]
  },
  {
   "cell_type": "code",
   "execution_count": 309,
   "metadata": {
    "executionInfo": {
     "elapsed": 3,
     "status": "ok",
     "timestamp": 1743938184415,
     "user": {
      "displayName": "Lucas",
      "userId": "06744764912251015933"
     },
     "user_tz": -480
    },
    "id": "d5_d5-PLQXwY"
   },
   "outputs": [],
   "source": [
    "class Decoder(tf.keras.layers.Layer):\n",
    "  def __init__(self, num_layers, d_model, num_heads, dff, hidden,target_vocab_size,\n",
    "               maximum_position_encoding, rate=0.1):\n",
    "    super(Decoder, self).__init__()\n",
    "\n",
    "    self.d_model = d_model\n",
    "    self.num_layers = num_layers\n",
    "    self.hidden = hidden\n",
    "\n",
    "    self.embedding = tf.keras.layers.Embedding(target_vocab_size, hidden)\n",
    "    self.pos_encoding = positional_encoding(maximum_position_encoding, hidden)\n",
    "\n",
    "    # START CODE HERE: ADD num_layers OF DecoderLayer\n",
    "\n",
    "    self.dec_layers = [DecoderLayer(d_model, num_heads, dff, hidden, rate)   # add code here\n",
    "                       for _ in range(num_layers)]\n",
    "    # END CODE HERE\n",
    "    self.dropout = tf.keras.layers.Dropout(rate)\n",
    "\n",
    "  def call(self, x, enc_output, training,\n",
    "           look_ahead_mask=None, padding_mask =None):\n",
    "\n",
    "    seq_len = tf.shape(x)[1]\n",
    "    attention_weights = {}\n",
    "\n",
    "    x = self.embedding(x)  # (batch_size, target_seq_len, hidden)\n",
    "    x *= tf.math.sqrt(tf.cast(self.hidden, tf.float32))\n",
    "\n",
    "    # START CODE HERE: ADD POS_ENCODING, FOLLOWED BY A DROPOUT LAYER\n",
    "    x += self.pos_encoding[:, :seq_len, :]    # postional encoding\n",
    "    x = self.dropout(x, training=training)     # dropout\n",
    "    # END CODE HERE\n",
    "\n",
    "    for i in range(self.num_layers):\n",
    "      # START CODE HERE\n",
    "      x, block1, block2 = self.dec_layers[i](x, enc_output, training=training, look_ahead_mask=look_ahead_mask, padding_mask=padding_mask)\n",
    "      # END CODE HERE\n",
    "\n",
    "      attention_weights['decoder_layer{}_block1'.format(i+1)] = block1\n",
    "      attention_weights['decoder_layer{}_block2'.format(i+1)] = block2\n",
    "\n",
    "    # x.shape == (batch_size, target_seq_len, d_model)\n",
    "    return x, attention_weights"
   ]
  },
  {
   "cell_type": "code",
   "execution_count": 310,
   "metadata": {
    "colab": {
     "base_uri": "https://localhost:8080/"
    },
    "executionInfo": {
     "elapsed": 2102,
     "status": "ok",
     "timestamp": 1743938186518,
     "user": {
      "displayName": "Lucas",
      "userId": "06744764912251015933"
     },
     "user_tz": -480
    },
    "id": "a1jXoAMRZyvu",
    "outputId": "54de44de-26fc-4f04-cca8-c0b2ccd7c35a"
   },
   "outputs": [
    {
     "data": {
      "text/plain": [
       "(TensorShape([64, 26, 300]), TensorShape([64, 8, 26, 62]))"
      ]
     },
     "execution_count": 310,
     "metadata": {},
     "output_type": "execute_result"
    }
   ],
   "source": [
    "sample_decoder = Decoder(num_layers=2, d_model=512, num_heads=8, hidden = 300,\n",
    "                         dff=1024, target_vocab_size=8000,\n",
    "                         maximum_position_encoding=5000)\n",
    "temp_input = tf.random.uniform((64, 26), dtype=tf.int64, minval=0, maxval=200)\n",
    "\n",
    "output, attn = sample_decoder(temp_input,\n",
    "                              enc_output=sample_encoder_output,\n",
    "                              training=False,\n",
    "                              look_ahead_mask=None,\n",
    "                              padding_mask=None)\n",
    "\n",
    "output.shape, attn['decoder_layer2_block2'].shape"
   ]
  },
  {
   "cell_type": "markdown",
   "metadata": {
    "id": "y54xnJnuYgJ7"
   },
   "source": [
    "<a name='6'></a>\n",
    "## 6 - Transformer\n",
    "\n",
    "We are close! Now let's build a transformer.\n",
    "\n",
    "<img src=\"transformer.png\" alt=\"Transformer\" width=\"550\"/>\n",
    "<caption><center><font color='purple'><b>Figure 4: Transformer</font></center></caption>\n",
    "    \n",
    "The flow of data through the Transformer Architecture is as follows:\n",
    "* First your input passes through an Encoder, which is just repeated Encoder layers that you implemented:\n",
    "    - embedding and positional encoding of your input\n",
    "    - multi-head attention on your input\n",
    "    - feed forward neural network to help detect features\n",
    "* Then the predicted output passes through a Decoder, consisting of the decoder layers that you implemented:\n",
    "    - embedding and positional encoding of the output\n",
    "    - multi-head attention on your generated output\n",
    "    - multi-head attention with the Q from the first multi-head attention layer and the K and V from the Encoder\n",
    "    - a feed forward neural network to help detect features\n",
    "* Finally, after the Nth Decoder layer, one dense layers and a softmax are applied to generate prediction for the next output in your sequence.\n"
   ]
  },
  {
   "cell_type": "code",
   "execution_count": 311,
   "metadata": {
    "executionInfo": {
     "elapsed": 38,
     "status": "ok",
     "timestamp": 1743938186558,
     "user": {
      "displayName": "Lucas",
      "userId": "06744764912251015933"
     },
     "user_tz": -480
    },
    "id": "PED3bIpOYkBu"
   },
   "outputs": [],
   "source": [
    "class Transformer(tf.keras.Model):\n",
    "  def __init__(self, num_layers, d_model, num_heads, dff, hidden,input_vocab_size,\n",
    "               target_vocab_size, pe_input, pe_target, rate=0.1):\n",
    "    super(Transformer, self).__init__()\n",
    "\n",
    "    self.encoder = Encoder(num_layers, d_model, num_heads, dff, hidden,\n",
    "                           input_vocab_size, pe_input, rate)\n",
    "\n",
    "    self.decoder = Decoder(num_layers, d_model, num_heads, dff,hidden,\n",
    "                           target_vocab_size, pe_target, rate)\n",
    "\n",
    "    self.final_layer = tf.keras.layers.Dense(target_vocab_size)\n",
    "\n",
    "  def call(self, inp, tar, training=False, enc_padding_mask=None, look_ahead_mask=None, dec_padding_mask=None):\n",
    "\n",
    "    enc_output = self.encoder(inp, training = training, mask = enc_padding_mask)  # (batch_size, inp_seq_len, hidden)\n",
    "\n",
    "    # dec_output.shape == (batch_size, tar_seq_len, hidden)\n",
    "    # START CODE HERE\n",
    "    dec_output, attention_weights = self.decoder( tar, enc_output, training = training, look_ahead_mask = look_ahead_mask, padding_mask = dec_padding_mask    # ADD ARUMENTS TO THIS LINE\n",
    "        )\n",
    "    # END CODE HERE\n",
    "\n",
    "    final_output = self.final_layer(dec_output)  # (batch_size, tar_seq_len, target_vocab_size)\n",
    "\n",
    "    return final_output, attention_weights"
   ]
  },
  {
   "cell_type": "code",
   "execution_count": 312,
   "metadata": {
    "colab": {
     "base_uri": "https://localhost:8080/"
    },
    "executionInfo": {
     "elapsed": 6005,
     "status": "ok",
     "timestamp": 1743938192565,
     "user": {
      "displayName": "Lucas",
      "userId": "06744764912251015933"
     },
     "user_tz": -480
    },
    "id": "tJ4fbQcIkHW1",
    "outputId": "05ae079e-8492-4605-a12e-f6a4902a6507"
   },
   "outputs": [
    {
     "data": {
      "text/plain": [
       "TensorShape([64, 36, 8000])"
      ]
     },
     "execution_count": 312,
     "metadata": {},
     "output_type": "execute_result"
    }
   ],
   "source": [
    "sample_transformer = Transformer(\n",
    "    num_layers=2, d_model=512, num_heads=8, dff=1024, hidden = 300,\n",
    "    input_vocab_size=8500, target_vocab_size=8000,\n",
    "    pe_input=10000, pe_target=6000)\n",
    "\n",
    "temp_input = tf.random.uniform((64, 38), dtype=tf.int64, minval=0, maxval=200)\n",
    "temp_target = tf.random.uniform((64, 36), dtype=tf.int64, minval=0, maxval=200)\n",
    "\n",
    "fn_out, _ = sample_transformer(temp_input, temp_target, training=False,\n",
    "                               enc_padding_mask=None,\n",
    "                               look_ahead_mask=None,\n",
    "                               dec_padding_mask=None)\n",
    "\n",
    "fn_out.shape  # (batch_size, tar_seq_len, target_vocab_size)"
   ]
  },
  {
   "cell_type": "markdown",
   "metadata": {
    "id": "wsINyf1VEQLC"
   },
   "source": [
    "## Set hyperparameters"
   ]
  },
  {
   "cell_type": "markdown",
   "metadata": {
    "id": "zVjWCxFNcgbt"
   },
   "source": [
    "To keep this example small and relatively fast, the values for *num_layers, d_model, and dff* have been reduced.\n",
    "\n",
    "The values used in the base model of transformer were; *num_layers=6*, *d_model = 512*, *dff = 2048*. See the [paper](https://arxiv.org/abs/1706.03762) for all the other versions of the transformer.\n",
    "\n",
    "Note: By changing the values below, you can get the model that achieved state of the art on many tasks."
   ]
  },
  {
   "cell_type": "code",
   "execution_count": 313,
   "metadata": {
    "executionInfo": {
     "elapsed": 18,
     "status": "ok",
     "timestamp": 1743938192585,
     "user": {
      "displayName": "Lucas",
      "userId": "06744764912251015933"
     },
     "user_tz": -480
    },
    "id": "lnJn5SLA2ahP"
   },
   "outputs": [],
   "source": [
    "num_layers = 4\n",
    "\n",
    "d_model = 128\n",
    "# dff = 512 跑起来太慢了，改小一点\n",
    "dff = 256\n",
    "num_heads = 8\n",
    "hidden = 300\n",
    "\n",
    "input_vocab_size = tokenizer_pt.vocab_size + 2\n",
    "target_vocab_size = tokenizer_en.vocab_size + 2\n",
    "dropout_rate = 0.1"
   ]
  },
  {
   "cell_type": "markdown",
   "metadata": {
    "id": "xYEGhEOtzn5W"
   },
   "source": [
    "## Optimizer"
   ]
  },
  {
   "cell_type": "markdown",
   "metadata": {
    "id": "GOmWW--yP3zx"
   },
   "source": [
    "Use the Adam optimizer with a custom learning rate scheduler according to the formula in the [paper](https://arxiv.org/abs/1706.03762).\n",
    "\n",
    "$$\\Large{lrate = d_{model}^{-0.5} * min(step{\\_}num^{-0.5}, step{\\_}num * warmup{\\_}steps^{-1.5})}$$\n"
   ]
  },
  {
   "cell_type": "code",
   "execution_count": 314,
   "metadata": {
    "executionInfo": {
     "elapsed": 2,
     "status": "ok",
     "timestamp": 1743938192588,
     "user": {
      "displayName": "Lucas",
      "userId": "06744764912251015933"
     },
     "user_tz": -480
    },
    "id": "iYQdOO1axwEI"
   },
   "outputs": [],
   "source": [
    "class CustomSchedule(tf.keras.optimizers.schedules.LearningRateSchedule):\n",
    "  def __init__(self, d_model, warmup_steps=4000):\n",
    "    super(CustomSchedule, self).__init__()\n",
    "\n",
    "    self.d_model = d_model\n",
    "    self.d_model = tf.cast(self.d_model, tf.float32)\n",
    "\n",
    "    self.warmup_steps = warmup_steps\n",
    "\n",
    "  def __call__(self, step):\n",
    "    step = tf.cast(step, tf.float32) # 数据类型规定为float\n",
    "    arg1 = tf.math.rsqrt(step)\n",
    "    arg2 = step * (self.warmup_steps ** -1.5)\n",
    "\n",
    "    return tf.math.rsqrt(self.d_model) * tf.math.minimum(arg1, arg2)"
   ]
  },
  {
   "cell_type": "code",
   "execution_count": 315,
   "metadata": {
    "executionInfo": {
     "elapsed": 14,
     "status": "ok",
     "timestamp": 1743938192616,
     "user": {
      "displayName": "Lucas",
      "userId": "06744764912251015933"
     },
     "user_tz": -480
    },
    "id": "7r4scdulztRx"
   },
   "outputs": [],
   "source": [
    "learning_rate = CustomSchedule(d_model)\n",
    "\n",
    "optimizer = tf.keras.optimizers.Adam(learning_rate, beta_1=0.9, beta_2=0.98,\n",
    "                                     epsilon=1e-9)"
   ]
  },
  {
   "cell_type": "code",
   "execution_count": 316,
   "metadata": {
    "colab": {
     "base_uri": "https://localhost:8080/",
     "height": 467
    },
    "executionInfo": {
     "elapsed": 308,
     "status": "ok",
     "timestamp": 1743938192926,
     "user": {
      "displayName": "Lucas",
      "userId": "06744764912251015933"
     },
     "user_tz": -480
    },
    "id": "f33ZCgvHpPdG",
    "outputId": "85d9bf2f-078b-4fc5-e90c-c6478e1cb807"
   },
   "outputs": [
    {
     "data": {
      "text/plain": [
       "Text(0.5, 0, 'Train Step')"
      ]
     },
     "execution_count": 316,
     "metadata": {},
     "output_type": "execute_result"
    },
    {
     "data": {
      "image/png": "[encoded data removed]",
      "text/plain": [
       "<Figure size 640x480 with 1 Axes>"
      ]
     },
     "metadata": {},
     "output_type": "display_data"
    }
   ],
   "source": [
    "temp_learning_rate_schedule = CustomSchedule(d_model)\n",
    "\n",
    "plt.plot(temp_learning_rate_schedule(tf.range(40000, dtype=tf.float32)))\n",
    "plt.ylabel(\"Learning Rate\")\n",
    "plt.xlabel(\"Train Step\")"
   ]
  },
  {
   "cell_type": "markdown",
   "metadata": {
    "id": "YgkDE7hzo8r5"
   },
   "source": [
    "## Loss and metrics"
   ]
  },
  {
   "cell_type": "markdown",
   "metadata": {
    "id": "oxGJtoDuYIHL"
   },
   "source": [
    "Since the target sequences are padded, it is important to apply a padding mask when calculating the loss."
   ]
  },
  {
   "cell_type": "code",
   "execution_count": 317,
   "metadata": {
    "executionInfo": {
     "elapsed": 14,
     "status": "ok",
     "timestamp": 1743938192942,
     "user": {
      "displayName": "Lucas",
      "userId": "06744764912251015933"
     },
     "user_tz": -480
    },
    "id": "MlhsJMm0TW_B"
   },
   "outputs": [],
   "source": [
    "loss_object = tf.keras.losses.SparseCategoricalCrossentropy(\n",
    "    from_logits=True, reduction='none')"
   ]
  },
  {
   "cell_type": "code",
   "execution_count": 318,
   "metadata": {
    "executionInfo": {
     "elapsed": 16,
     "status": "ok",
     "timestamp": 1743938192960,
     "user": {
      "displayName": "Lucas",
      "userId": "06744764912251015933"
     },
     "user_tz": -480
    },
    "id": "67oqVHiT0Eiu"
   },
   "outputs": [],
   "source": [
    "def loss_function(real, pred):\n",
    "  mask = tf.math.logical_not(tf.math.equal(real, 0)) # token 0 stands for padded token, will not consider it into the loss fuction\n",
    "  loss_ = loss_object(real, pred)\n",
    "\n",
    "  mask = tf.cast(mask, dtype=loss_.dtype) # make sure the same dtype\n",
    "  loss_ *= mask\n",
    "\n",
    "  return tf.reduce_sum(loss_)/tf.reduce_sum(mask) # this is modified reduce_mean, excluding padded 0 in the true labels."
   ]
  },
  {
   "cell_type": "code",
   "execution_count": 319,
   "metadata": {
    "executionInfo": {
     "elapsed": 2,
     "status": "ok",
     "timestamp": 1743938192974,
     "user": {
      "displayName": "Lucas",
      "userId": "06744764912251015933"
     },
     "user_tz": -480
    },
    "id": "phlyxMnm-Tpx"
   },
   "outputs": [],
   "source": [
    "train_loss = tf.keras.metrics.Mean(name='train_loss')\n",
    "train_accuracy = tf.keras.metrics.SparseCategoricalAccuracy(\n",
    "    name='train_accuracy')"
   ]
  },
  {
   "cell_type": "markdown",
   "metadata": {
    "id": "aeHumfr7zmMa"
   },
   "source": [
    "## Training and checkpointing"
   ]
  },
  {
   "cell_type": "code",
   "execution_count": 320,
   "metadata": {
    "executionInfo": {
     "elapsed": 582,
     "status": "ok",
     "timestamp": 1743938193569,
     "user": {
      "displayName": "Lucas",
      "userId": "06744764912251015933"
     },
     "user_tz": -480
    },
    "id": "UiysUa--4tOU"
   },
   "outputs": [],
   "source": [
    "transformer = Transformer(num_layers, d_model, num_heads, dff,hidden,\n",
    "                          input_vocab_size, target_vocab_size,\n",
    "                          pe_input=input_vocab_size,\n",
    "                          pe_target=target_vocab_size,\n",
    "                          rate=dropout_rate)"
   ]
  },
  {
   "cell_type": "code",
   "execution_count": 321,
   "metadata": {
    "executionInfo": {
     "elapsed": 16,
     "status": "ok",
     "timestamp": 1743938193590,
     "user": {
      "displayName": "Lucas",
      "userId": "06744764912251015933"
     },
     "user_tz": -480
    },
    "id": "ZOJUSB1T8GjM"
   },
   "outputs": [],
   "source": [
    "def create_masks(inp, tar):\n",
    "  # Encoder padding mask\n",
    "  enc_padding_mask = create_padding_mask(inp)\n",
    "\n",
    "  # Used in the 2nd attention block in the decoder.\n",
    "  # This padding mask is used to mask the encoder outputs. That is why it is created using input seq!\n",
    "  dec_padding_mask = create_padding_mask(inp)\n",
    "\n",
    "  # Used in the 1st attention block in the decoder.\n",
    "  # It is used to pad and mask future tokens in the input received by\n",
    "  # the decoder.\n",
    "\n",
    "  # START CODE HERE: pass tar.shape[1] to creat look-ahead mask. pass tar to creat padding mask, use functions defined in Session 2\n",
    "  look_ahead_mask = create_look_ahead_mask(tf.shape(tar)[1])\n",
    "  dec_target_padding_mask = create_padding_mask(tar)\n",
    "  # END CODE HERE\n",
    "\n",
    "  combined_mask = tf.maximum(dec_target_padding_mask, look_ahead_mask) # we will pass combined mask in place of look ahead mask, why?\n",
    "#   combined_mask = None\n",
    "  return enc_padding_mask, combined_mask, dec_padding_mask"
   ]
  },
  {
   "cell_type": "markdown",
   "metadata": {
    "id": "Fzuf06YZp66w"
   },
   "source": [
    "Create the checkpoint path and the checkpoint manager. This will be used to save checkpoints every `n` epochs."
   ]
  },
  {
   "cell_type": "code",
   "execution_count": 329,
   "metadata": {
    "executionInfo": {
     "elapsed": 22,
     "status": "ok",
     "timestamp": 1743938433484,
     "user": {
      "displayName": "Lucas",
      "userId": "06744764912251015933"
     },
     "user_tz": -480
    },
    "id": "tRf-9jJBomNh"
   },
   "outputs": [],
   "source": [
    "# 检查点路径指向 Google Drive\n",
    "checkpoint_path = \"/content/drive/MyDrive/checkpoints/train\"\n",
    "ckpt = tf.train.Checkpoint(transformer=transformer, optimizer=optimizer)\n",
    "ckpt_manager = tf.train.CheckpointManager(ckpt, checkpoint_path, max_to_keep=5)\n"
   ]
  },
  {
   "cell_type": "code",
   "execution_count": 330,
   "metadata": {
    "colab": {
     "base_uri": "https://localhost:8080/"
    },
    "executionInfo": {
     "elapsed": 1584,
     "status": "ok",
     "timestamp": 1743938440653,
     "user": {
      "displayName": "Lucas",
      "userId": "06744764912251015933"
     },
     "user_tz": -480
    },
    "id": "cuFXUDbP1G9O",
    "outputId": "2394483c-14c7-4070-d602-4691878d8f24"
   },
   "outputs": [
    {
     "name": "stdout",
     "output_type": "stream",
     "text": [
      "已恢复检查点: /content/drive/MyDrive/checkpoints/train/ckpt-9\n"
     ]
    }
   ],
   "source": [
    "# 恢复检查点（必须在模型和优化器初始化之后）\n",
    "if ckpt_manager.latest_checkpoint:\n",
    "    ckpt.restore(ckpt_manager.latest_checkpoint)\n",
    "    print(f\"已恢复检查点: {ckpt_manager.latest_checkpoint}\")"
   ]
  },
  {
   "cell_type": "code",
   "execution_count": 331,
   "metadata": {
    "executionInfo": {
     "elapsed": 40,
     "status": "ok",
     "timestamp": 1743938446509,
     "user": {
      "displayName": "Lucas",
      "userId": "06744764912251015933"
     },
     "user_tz": -480
    },
    "id": "LAlHI-7rbHr3"
   },
   "outputs": [],
   "source": [
    "class TrainingState:\n",
    "    def __init__(self):\n",
    "        self.epoch = tf.Variable(0, dtype=tf.int64, name='epoch')\n",
    "        self.batch = tf.Variable(0, dtype=tf.int64, name='batch')"
   ]
  },
  {
   "cell_type": "code",
   "execution_count": 332,
   "metadata": {
    "executionInfo": {
     "elapsed": 14,
     "status": "ok",
     "timestamp": 1743938447423,
     "user": {
      "displayName": "Lucas",
      "userId": "06744764912251015933"
     },
     "user_tz": -480
    },
    "id": "zc0EkiFLiZu2"
   },
   "outputs": [],
   "source": [
    "BUFFER_SIZE = 20000\n",
    "BATCH_SIZE = 256"
   ]
  },
  {
   "cell_type": "markdown",
   "metadata": {
    "id": "0Di_Yaa1gf9r"
   },
   "source": [
    "The target is divided into tar_inp and tar_real. tar_inp is passed as an input to the decoder. `tar_real` is that same input shifted by 1: At each location in `tar_input`, `tar_real` contains the  next token that should be predicted.\n",
    "\n",
    "For example, `sentence` = \"SOS A lion in the jungle is sleeping EOS\"\n",
    "\n",
    "`tar_inp` =  \"SOS A lion in the jungle is sleeping\"\n",
    "\n",
    "`tar_real` = \"A lion in the jungle is sleeping EOS\"\n",
    "\n",
    "The transformer is an auto-regressive model: it makes predictions one part at a time, and uses its output so far to decide what to do next.\n",
    "\n",
    "During training this example uses teacher-forcing (like in the [text generation tutorial](./text_generation.ipynb)). Teacher forcing is passing the true output to the next time step regardless of what the model predicts at the current time step.\n",
    "\n",
    "As the transformer predicts each word, *self-attention* allows it to look at the previous words in the input sequence to better predict the next word.\n",
    "\n",
    "To prevent the model from peeking at the expected output the model uses a look-ahead mask."
   ]
  },
  {
   "cell_type": "code",
   "execution_count": 333,
   "metadata": {
    "executionInfo": {
     "elapsed": 22,
     "status": "ok",
     "timestamp": 1743938451193,
     "user": {
      "displayName": "Lucas",
      "userId": "06744764912251015933"
     },
     "user_tz": -480
    },
    "id": "LKpoA6q1sJFj"
   },
   "outputs": [],
   "source": [
    "EPOCHS = 2 # you can modify this hyperparameter"
   ]
  },
  {
   "cell_type": "code",
   "execution_count": 335,
   "metadata": {
    "colab": {
     "base_uri": "https://localhost:8080/"
    },
    "executionInfo": {
     "elapsed": 1071,
     "status": "ok",
     "timestamp": 1743938462600,
     "user": {
      "displayName": "Lucas",
      "userId": "06744764912251015933"
     },
     "user_tz": -480
    },
    "id": "L0A27hd6Zu_A",
    "outputId": "a388d04c-33ed-44b8-826b-094f3d6cda58"
   },
   "outputs": [
    {
     "name": "stdout",
     "output_type": "stream",
     "text": [
      "✅ 成功恢复检查点: /content/drive/MyDrive/checkpoints/train/ckpt-9\n",
      "📅 当前进度: Epoch 0, Batch 0\n"
     ]
    }
   ],
   "source": [
    "# 绑定检查点对象（包含所有需要恢复的变量）\n",
    "checkpoint_path = \"/content/drive/MyDrive/checkpoints/train\"\n",
    "ckpt = tf.train.Checkpoint(\n",
    "    transformer=transformer,\n",
    "    optimizer=optimizer,\n",
    "    epoch=tf.Variable(0, dtype=tf.int64),  # 全局epoch计数器\n",
    "    batch=tf.Variable(0, dtype=tf.int64)   # 全局batch计数器\n",
    ")\n",
    "ckpt_manager = tf.train.CheckpointManager(ckpt, checkpoint_path, max_to_keep=5)\n",
    "# 恢复最新检查点（优先执行）\n",
    "state = TrainingState()\n",
    "if ckpt_manager.latest_checkpoint:\n",
    "    ckpt.restore(ckpt_manager.latest_checkpoint)\n",
    "    print(f\"✅ 成功恢复检查点: {ckpt_manager.latest_checkpoint}\")\n",
    "    print(f\"📅 当前进度: Epoch {state.epoch.numpy()}, Batch {state.batch.numpy()}\")\n",
    "else:\n",
    "    print(\"❌ 无检查点，从头开始训练\")"
   ]
  },
  {
   "cell_type": "code",
   "execution_count": 336,
   "metadata": {
    "colab": {
     "base_uri": "https://localhost:8080/"
    },
    "executionInfo": {
     "elapsed": 11,
     "status": "ok",
     "timestamp": 1743938467554,
     "user": {
      "displayName": "Lucas",
      "userId": "06744764912251015933"
     },
     "user_tz": -480
    },
    "id": "iz5cqlycaJ93",
    "outputId": "ad7f64a7-c8d0-4776-9027-0aa62c00f3db"
   },
   "outputs": [
    {
     "name": "stdout",
     "output_type": "stream",
     "text": [
      "检查点中的 epoch: 0\n",
      "检查点中的 batch: 0\n",
      "优化器迭代次数: 1783\n"
     ]
    }
   ],
   "source": [
    "# 打印检查点中的变量值\n",
    "print(\"检查点中的 epoch:\", ckpt.epoch.numpy())\n",
    "print(\"检查点中的 batch:\", ckpt.batch.numpy())\n",
    "print(\"优化器迭代次数:\", optimizer.iterations.numpy())"
   ]
  },
  {
   "cell_type": "markdown",
   "metadata": {
    "id": "qM2PDWGDJ_8V"
   },
   "source": [
    "Portuguese is used as the input language and English is the target language."
   ]
  },
  {
   "cell_type": "code",
   "execution_count": 337,
   "metadata": {
    "colab": {
     "base_uri": "https://localhost:8080/"
    },
    "executionInfo": {
     "elapsed": 8907664,
     "status": "ok",
     "timestamp": 1743947377664,
     "user": {
      "displayName": "Lucas",
      "userId": "06744764912251015933"
     },
     "user_tz": -480
    },
    "id": "bbvmaKNiznHZ",
    "outputId": "0f063181-a853-4af8-f0c1-83671e8c20c0"
   },
   "outputs": [
    {
     "name": "stdout",
     "output_type": "stream",
     "text": [
      "Epoch 1 Batch 0 Loss 4.9758 Accuracy 0.1590\n",
      "Epoch 1 Batch 50 Loss 4.7801 Accuracy 0.1719\n",
      "Epoch 1 Batch 100 Loss 4.7693 Accuracy 0.1701\n",
      "Epoch 1 Batch 150 Loss 4.7553 Accuracy 0.1708\n",
      "Epoch 1 Batch 200 Loss 4.7407 Accuracy 0.1720\n",
      "Epoch 1 Batch 250 Loss 4.7296 Accuracy 0.1722\n",
      "Epoch 1 Batch 300 Loss 4.7118 Accuracy 0.1734\n",
      "Epoch 1 Batch 350 Loss 4.6999 Accuracy 0.1742\n",
      "Epoch 1 Batch 400 Loss 4.6809 Accuracy 0.1756\n",
      "Epoch 1 Batch 450 Loss 4.6642 Accuracy 0.1766\n",
      "Epoch 1 Batch 500 Loss 4.6519 Accuracy 0.1775\n",
      "Epoch 1 Batch 550 Loss 4.6391 Accuracy 0.1783\n",
      "Epoch 1 Batch 600 Loss 4.6282 Accuracy 0.1791\n",
      "Epoch 1 Batch 650 Loss 4.6151 Accuracy 0.1795\n",
      "Epoch 1 Batch 700 Loss 4.6030 Accuracy 0.1803\n",
      "Epoch 1 Batch 750 Loss 4.5946 Accuracy 0.1807\n",
      "Epoch 1 Batch 800 Loss 4.5886 Accuracy 0.1815\n",
      "Epoch 1 Batch 850 Loss 4.5799 Accuracy 0.1819\n",
      "Epoch 1 Batch 900 Loss 4.5702 Accuracy 0.1826\n",
      "Epoch 1 Batch 950 Loss 4.5625 Accuracy 0.1831\n",
      "Epoch 1 Batch 1000 Loss 4.5525 Accuracy 0.1838\n",
      "Epoch 1 Batch 1050 Loss 4.5477 Accuracy 0.1843\n",
      "Epoch 1 Loss: 4.5473 Accuracy: 0.1843\n",
      "Time: 4443.63 secs, Checkpoint: /content/drive/MyDrive/checkpoints/train/ckpt-10\n",
      "\n",
      "Epoch 2 Batch 0 Loss 4.2790 Accuracy 0.1875\n",
      "Epoch 2 Batch 50 Loss 4.2358 Accuracy 0.1988\n",
      "Epoch 2 Batch 100 Loss 4.2231 Accuracy 0.2001\n",
      "Epoch 2 Batch 150 Loss 4.2391 Accuracy 0.1995\n",
      "Epoch 2 Batch 200 Loss 4.2546 Accuracy 0.1996\n",
      "Epoch 2 Batch 250 Loss 4.2459 Accuracy 0.2008\n",
      "Epoch 2 Batch 300 Loss 4.2510 Accuracy 0.2005\n",
      "Epoch 2 Batch 350 Loss 4.2515 Accuracy 0.2009\n",
      "Epoch 2 Batch 400 Loss 4.2544 Accuracy 0.2011\n",
      "Epoch 2 Batch 450 Loss 4.2521 Accuracy 0.2016\n",
      "Epoch 2 Batch 500 Loss 4.2510 Accuracy 0.2023\n",
      "Epoch 2 Batch 550 Loss 4.2500 Accuracy 0.2024\n",
      "Epoch 2 Batch 600 Loss 4.2470 Accuracy 0.2023\n",
      "Epoch 2 Batch 650 Loss 4.2449 Accuracy 0.2022\n",
      "Epoch 2 Batch 700 Loss 4.2439 Accuracy 0.2023\n",
      "Epoch 2 Batch 750 Loss 4.2418 Accuracy 0.2024\n",
      "Epoch 2 Batch 800 Loss 4.2411 Accuracy 0.2026\n",
      "Epoch 2 Batch 850 Loss 4.2397 Accuracy 0.2027\n",
      "Epoch 2 Batch 900 Loss 4.2409 Accuracy 0.2029\n",
      "Epoch 2 Batch 950 Loss 4.2417 Accuracy 0.2030\n",
      "Epoch 2 Batch 1000 Loss 4.2409 Accuracy 0.2031\n",
      "Epoch 2 Batch 1050 Loss 4.2406 Accuracy 0.2031\n",
      "Epoch 2 Loss: 4.2401 Accuracy: 0.2031\n",
      "Time: 4464.00 secs, Checkpoint: /content/drive/MyDrive/checkpoints/train/ckpt-11\n",
      "\n"
     ]
    }
   ],
   "source": [
    "for epoch in range(EPOCHS):\n",
    "  start = time.time()\n",
    "\n",
    "  # train_loss.reset_states()\n",
    "  # train_accuracy.reset_states()\n",
    "  train_loss.reset_state() # 修改了一下，TensorFlow的新版本对这一方法的名称进行了更新\n",
    "  train_accuracy.reset_state()\n",
    "\n",
    "  # inp -> portuguese, tar -> english\n",
    "  for (batch, (inp, tar)) in enumerate(train_dataset):\n",
    "    tar_inp = tar[:, :-1]\n",
    "    tar_real = tar[:, 1:]\n",
    "    enc_padding_mask, combined_mask, dec_padding_mask = create_masks(inp, tar_inp)\n",
    "    with tf.GradientTape() as tape:\n",
    "      predictions, _ = transformer(inp, tar_inp,\n",
    "                                 training = True,\n",
    "                                 enc_padding_mask = enc_padding_mask,\n",
    "                                 look_ahead_mask = combined_mask,\n",
    "                                 dec_padding_mask = dec_padding_mask)\n",
    "      loss = loss_function(tar_real, predictions)\n",
    "\n",
    "    gradients = tape.gradient(loss, transformer.trainable_variables)\n",
    "    optimizer.apply_gradients(zip(gradients, transformer.trainable_variables))\n",
    "\n",
    "    train_loss(loss)\n",
    "    train_accuracy(tar_real, predictions)\n",
    "\n",
    "    # 更新全局 batch 计数器\n",
    "    state.batch.assign_add(1)\n",
    "\n",
    "    if batch % 50 == 0:\n",
    "      print ('Epoch {} Batch {} Loss {:.4f} Accuracy {:.4f}'.format(\n",
    "          epoch + 1, batch, train_loss.result(), train_accuracy.result()))\n",
    "\n",
    "  # 更新全局 epoch 计数器并重置 batch\n",
    "  state.epoch.assign_add(1)\n",
    "  state.batch.assign(0)\n",
    "\n",
    "  # 每个 epoch 结束时保存检查点（更安全）\n",
    "  ckpt_save_path = ckpt_manager.save()\n",
    "  print(f'Epoch {epoch+1} Loss: {train_loss.result():.4f} Accuracy: {train_accuracy.result():.4f}')\n",
    "  print(f'Time: {time.time()-start:.2f} secs, Checkpoint: {ckpt_save_path}\\n')\n",
    "\n",
    "\n",
    "#   break"
   ]
  },
  {
   "cell_type": "code",
   "execution_count": 338,
   "metadata": {
    "colab": {
     "base_uri": "https://localhost:8080/"
    },
    "executionInfo": {
     "elapsed": 1739,
     "status": "ok",
     "timestamp": 1743947379392,
     "user": {
      "displayName": "Lucas",
      "userId": "06744764912251015933"
     },
     "user_tz": -480
    },
    "id": "OCyri2F0QwlJ",
    "outputId": "0a659b9e-6274-4a5f-9bb9-569a55d9e1ed"
   },
   "outputs": [
    {
     "name": "stdout",
     "output_type": "stream",
     "text": [
      "检查点已保存至: /content/drive/MyDrive/checkpoints/train/ckpt-12\n"
     ]
    }
   ],
   "source": [
    "# 手动保存一次检查点（验证写入权限）\n",
    "save_path = ckpt_manager.save()\n",
    "print(\"检查点已保存至:\", save_path)"
   ]
  },
  {
   "cell_type": "markdown",
   "metadata": {
    "id": "QfcsSWswSdGV"
   },
   "source": [
    "## Evaluate"
   ]
  },
  {
   "cell_type": "markdown",
   "metadata": {
    "id": "y6APsFrgImLW"
   },
   "source": [
    "The following steps are used for evaluation:\n",
    "\n",
    "* Encode the input sentence using the Portuguese tokenizer (`tokenizer_pt`). Moreover, add the start and end token so the input is equivalent to what the model is trained with. This is the encoder input.\n",
    "* The decoder input is the `start token == tokenizer_en.vocab_size`.\n",
    "* Calculate the padding masks and the look ahead masks.\n",
    "* The `decoder` then outputs the predictions by looking at the `encoder output` and its own output (self-attention).\n",
    "* Select the last word and calculate the argmax of that.\n",
    "* Concatentate the predicted word to the decoder input as pass it to the decoder.\n",
    "* In this approach, the decoder predicts the next word based on the previous words it predicted.\n",
    "\n",
    "Note: The model used here has less capacity to keep the example relatively faster so the predictions maybe less right. To reproduce the results in the paper, use the entire dataset and base transformer model or transformer XL, by changing the hyperparameters above."
   ]
  },
  {
   "cell_type": "code",
   "execution_count": 339,
   "metadata": {
    "executionInfo": {
     "elapsed": 8,
     "status": "ok",
     "timestamp": 1743947379418,
     "user": {
      "displayName": "Lucas",
      "userId": "06744764912251015933"
     },
     "user_tz": -480
    },
    "id": "5buvMlnvyrFm"
   },
   "outputs": [],
   "source": [
    "def evaluate(inp_sentence):\n",
    "  start_token = [tokenizer_pt.vocab_size]\n",
    "  end_token = [tokenizer_pt.vocab_size + 1]\n",
    "\n",
    "  # inp sentence is portuguese, hence adding the start and end token\n",
    "  inp_sentence = start_token + tokenizer_pt.encode(inp_sentence) + end_token\n",
    "  encoder_input = tf.expand_dims(inp_sentence, 0)\n",
    "\n",
    "  # as the target is english, the first word to the transformer should be the\n",
    "  # english start token.\n",
    "  decoder_input = [tokenizer_en.vocab_size]\n",
    "  output = tf.expand_dims(decoder_input, 0)\n",
    "\n",
    "  for i in range(MAX_LENGTH):\n",
    "    enc_padding_mask, combined_mask, dec_padding_mask = create_masks(\n",
    "        encoder_input, output)\n",
    "\n",
    "    # predictions.shape == (batch_size, seq_len, vocab_size)\n",
    "    predictions, attention_weights = transformer(inp =  encoder_input,\n",
    "                            tar = output,\n",
    "                            training = False,\n",
    "                            enc_padding_mask = enc_padding_mask,\n",
    "                            look_ahead_mask = combined_mask,\n",
    "                            dec_padding_mask = dec_padding_mask\n",
    "                            )\n",
    "\n",
    "    # select the last word from the seq_len dimension\n",
    "    predictions = predictions[: ,-1:, :]  # (batch_size, 1, vocab_size)\n",
    "\n",
    "    predicted_id = tf.cast(tf.argmax(predictions, axis=-1), tf.int32)\n",
    "\n",
    "    # return the result if the predicted_id is equal to the end token\n",
    "    if predicted_id == tokenizer_en.vocab_size+1:\n",
    "      return tf.squeeze(output, axis=0), attention_weights\n",
    "\n",
    "    # concatentate the predicted_id to the output which is given to the decoder\n",
    "    # as its input.\n",
    "    output = tf.concat([output, predicted_id], axis=-1)\n",
    "\n",
    "  return tf.squeeze(output, axis=0), attention_weights"
   ]
  },
  {
   "cell_type": "code",
   "execution_count": 340,
   "metadata": {
    "executionInfo": {
     "elapsed": 2,
     "status": "ok",
     "timestamp": 1743947379421,
     "user": {
      "displayName": "Lucas",
      "userId": "06744764912251015933"
     },
     "user_tz": -480
    },
    "id": "CN-BV43FMBej"
   },
   "outputs": [],
   "source": [
    "def plot_attention_weights(attention, sentence, result, layer):\n",
    "  fig = plt.figure(figsize=(16, 8))\n",
    "\n",
    "  sentence = tokenizer_pt.encode(sentence)\n",
    "\n",
    "  attention = tf.squeeze(attention[layer], axis=0)\n",
    "\n",
    "  for head in range(attention.shape[0]):\n",
    "    ax = fig.add_subplot(2, 4, head+1)\n",
    "\n",
    "    # plot the attention weights\n",
    "    ax.matshow(attention[head][:-1, :], cmap='viridis')\n",
    "\n",
    "\n",
    "    fontdict = {'fontsize': 10}\n",
    "\n",
    "    ax.set_xticks(range(len(sentence)+2))\n",
    "    ax.set_yticks(range(len(result)-1))\n",
    "\n",
    "    ax.set_ylim(len(result)-1.5, -0.5)\n",
    "\n",
    "    ax.set_xticklabels(\n",
    "        ['<start>']+[tokenizer_pt.decode([i]) for i in sentence]+['<end>'],\n",
    "        fontdict=fontdict, rotation=90)\n",
    "\n",
    "    ax.set_yticklabels([tokenizer_en.decode([i]) for i in result\n",
    "                        if i < tokenizer_en.vocab_size],\n",
    "                       fontdict=fontdict)\n",
    "\n",
    "    ax.set_xlabel('Head {}'.format(head+1))\n",
    "\n",
    "  plt.tight_layout()\n",
    "  plt.show()"
   ]
  },
  {
   "cell_type": "code",
   "execution_count": 341,
   "metadata": {
    "executionInfo": {
     "elapsed": 13,
     "status": "ok",
     "timestamp": 1743947379444,
     "user": {
      "displayName": "Lucas",
      "userId": "06744764912251015933"
     },
     "user_tz": -480
    },
    "id": "lU2_yG_vBGza"
   },
   "outputs": [],
   "source": [
    "def translate(sentence, plot=''):\n",
    "  result, attention_weights = evaluate(sentence)\n",
    "\n",
    "  predicted_sentence = tokenizer_en.decode([i for i in result\n",
    "                                            if i < tokenizer_en.vocab_size])\n",
    "\n",
    "  print('Input: {}'.format(sentence))\n",
    "  print('Predicted translation: {}'.format(predicted_sentence))\n",
    "\n",
    "  if plot:\n",
    "    plot_attention_weights(attention_weights, sentence, result, plot)"
   ]
  },
  {
   "cell_type": "code",
   "execution_count": 342,
   "metadata": {
    "colab": {
     "base_uri": "https://localhost:8080/"
    },
    "executionInfo": {
     "elapsed": 6294,
     "status": "ok",
     "timestamp": 1743947385739,
     "user": {
      "displayName": "Lucas",
      "userId": "06744764912251015933"
     },
     "user_tz": -480
    },
    "id": "YsxrAlvFG8SZ",
    "outputId": "8a745e81-0e84-49b4-c965-818caf6edcc5"
   },
   "outputs": [
    {
     "name": "stdout",
     "output_type": "stream",
     "text": [
      "Input: este é um problema que temos que resolver.\n",
      "Predicted translation: this is a little bit of that we can do this is a little bit of the world we know .\n",
      "Real translation: this is a problem we have to solve .\n"
     ]
    }
   ],
   "source": [
    "translate(\"este é um problema que temos que resolver.\")\n",
    "print (\"Real translation: this is a problem we have to solve .\")"
   ]
  },
  {
   "cell_type": "code",
   "execution_count": 343,
   "metadata": {
    "colab": {
     "base_uri": "https://localhost:8080/"
    },
    "executionInfo": {
     "elapsed": 11124,
     "status": "ok",
     "timestamp": 1743947396865,
     "user": {
      "displayName": "Lucas",
      "userId": "06744764912251015933"
     },
     "user_tz": -480
    },
    "id": "7EH5y_aqI4t1",
    "outputId": "4e6de66a-6c4f-48eb-9ab8-f0167a7fa671"
   },
   "outputs": [
    {
     "name": "stdout",
     "output_type": "stream",
     "text": [
      "Input: os meus vizinhos ouviram sobre esta ideia.\n",
      "Predicted translation: so i was going to give you a couple of the first of the first of the time .\n",
      "Real translation: and my neighboring homes heard about this idea .\n"
     ]
    }
   ],
   "source": [
    "translate(\"os meus vizinhos ouviram sobre esta ideia.\")\n",
    "print (\"Real translation: and my neighboring homes heard about this idea .\")"
   ]
  },
  {
   "cell_type": "code",
   "execution_count": 344,
   "metadata": {
    "colab": {
     "base_uri": "https://localhost:8080/"
    },
    "executionInfo": {
     "elapsed": 4315,
     "status": "ok",
     "timestamp": 1743947401177,
     "user": {
      "displayName": "Lucas",
      "userId": "06744764912251015933"
     },
     "user_tz": -480
    },
    "id": "J-hVCTSUMlkb",
    "outputId": "114f12fb-a5e8-4cd7-a01e-6932056a099a"
   },
   "outputs": [
    {
     "name": "stdout",
     "output_type": "stream",
     "text": [
      "Input: vou então muito rapidamente partilhar convosco algumas histórias de algumas coisas mágicas que aconteceram.\n",
      "Predicted translation: so i want to show you what i want to do with this little like this .\n",
      "Real translation: so i 'll just share with you some stories very quickly of some magical things that have happened .\n"
     ]
    }
   ],
   "source": [
    "translate(\"vou então muito rapidamente partilhar convosco algumas histórias de algumas coisas mágicas que aconteceram.\")\n",
    "print (\"Real translation: so i 'll just share with you some stories very quickly of some magical things that have happened .\")"
   ]
  },
  {
   "cell_type": "markdown",
   "metadata": {
    "id": "_1MxkSZvz0jX"
   },
   "source": [
    "You can pass different layers and attention blocks of the decoder to the `plot` parameter."
   ]
  },
  {
   "cell_type": "code",
   "execution_count": 345,
   "metadata": {
    "colab": {
     "base_uri": "https://localhost:8080/",
     "height": 595
    },
    "executionInfo": {
     "elapsed": 5818,
     "status": "ok",
     "timestamp": 1743947407012,
     "user": {
      "displayName": "Lucas",
      "userId": "06744764912251015933"
     },
     "user_tz": -480
    },
    "id": "t-kFyiOLH0xg",
    "outputId": "786e2748-b08e-44ce-9065-c9b42284be97"
   },
   "outputs": [
    {
     "name": "stdout",
     "output_type": "stream",
     "text": [
      "Input: este é o primeiro livro que eu fiz.\n",
      "Predicted translation: this is the first thing we call this for this moment .\n"
     ]
    },
    {
     "data": {
      "image/png": "[encoded data removed]",
      "text/plain": [
       "<Figure size 1600x800 with 8 Axes>"
      ]
     },
     "metadata": {},
     "output_type": "display_data"
    },
    {
     "name": "stdout",
     "output_type": "stream",
     "text": [
      "Real translation: this is the first book i've ever done.\n"
     ]
    }
   ],
   "source": [
    "translate(\"este é o primeiro livro que eu fiz.\", plot='decoder_layer4_block2')\n",
    "print (\"Real translation: this is the first book i've ever done.\")"
   ]
  },
  {
   "cell_type": "code",
   "execution_count": 346,
   "metadata": {
    "colab": {
     "base_uri": "https://localhost:8080/"
    },
    "executionInfo": {
     "elapsed": 7,
     "status": "ok",
     "timestamp": 1743947407021,
     "user": {
      "displayName": "Lucas",
      "userId": "06744764912251015933"
     },
     "user_tz": -480
    },
    "id": "ADR2cBjhIQoL",
    "outputId": "2ebe4ab3-7cfe-4156-c282-429fb5c70503"
   },
   "outputs": [
    {
     "name": "stdout",
     "output_type": "stream",
     "text": [
      "当前 epoch: 1\n",
      "当前 batch: 1053\n"
     ]
    }
   ],
   "source": [
    "print(\"当前 epoch:\", epoch)\n",
    "print(\"当前 batch:\", batch)"
   ]
  },
  {
   "cell_type": "code",
   "execution_count": 346,
   "metadata": {
    "executionInfo": {
     "elapsed": 5,
     "status": "ok",
     "timestamp": 1743947407028,
     "user": {
      "displayName": "Lucas",
      "userId": "06744764912251015933"
     },
     "user_tz": -480
    },
    "id": "i22JyF_1Iv1E"
   },
   "outputs": [],
   "source": []
  },
  {
   "cell_type": "markdown",
   "metadata": {
    "id": "RqQ1fIsLwkGE"
   },
   "source": [
    "## Conclusion\n",
    "\n",
    "You've come to the end of the graded portion of the assignment. By now, you've:\n",
    "\n",
    "* Create positional encodings to capture sequential relationships in data\n",
    "* Calculate scaled dot-product self-attention with word embeddings\n",
    "* Implement masked multi-head attention\n",
    "* Build and train a Transformer model\n",
    "\n",
    "\n",
    "Try using a different dataset to train the transformer. You can also create the base transformer or transformer XL by changing the hyperparameters above. You can also use the layers defined here to create [BERT](https://arxiv.org/abs/1810.04805) and train state of the art models. Futhermore, you can implement beam search to get better predictions.\n",
    "\n",
    "\n",
    "\n",
    "<font color='blue'>\n",
    "    <b>What you should remember</b>:\n",
    "\n",
    "- The combination of self-attention and convolutional network layers allows of parallization of training and *faster training*.\n",
    "- Self-attention is calculated using the generated query Q, key K, and value V matrices.\n",
    "- Adding positional encoding to word embeddings is an effective way of include sequence information in self-attention calculations.\n",
    "- Multi-head attention can help detect multiple features in your sentence.\n",
    "- Masking stops the model from 'looking ahead' during training, or weighting zeroes too much when processing cropped sentences."
   ]
  },
  {
   "cell_type": "markdown",
   "metadata": {
    "id": "V3d4ye5jCaeM"
   },
   "source": [
    "\n",
    "\n",
    "# Congratulations on building the first Transformer!!!!!! 🎉\n",
    "\n",
    "It is not that hard, is it?\n",
    "\n",
    "<a name='7'></a>\n",
    "## 7 - References\n",
    "\n",
    "The Transformer algorithm was due to Vaswani et al. (2017).\n",
    "\n",
    "- Ashish Vaswani, Noam Shazeer, Niki Parmar, Jakob Uszkoreit, Llion Jones, Aidan N. Gomez, Lukasz Kaiser, Illia Polosukhin (2017). [Attention Is All You Need](https://arxiv.org/abs/1706.03762)"
   ]
  },
  {
   "cell_type": "code",
   "execution_count": 346,
   "metadata": {
    "executionInfo": {
     "elapsed": 3,
     "status": "ok",
     "timestamp": 1743947407032,
     "user": {
      "displayName": "Lucas",
      "userId": "06744764912251015933"
     },
     "user_tz": -480
    },
    "id": "VMKe1EGHCaeM"
   },
   "outputs": [],
   "source": []
  }
 ],
 "metadata": {
  "accelerator": "GPU",
  "colab": {
   "provenance": []
  },
  "kernelspec": {
   "display_name": "Python 3 (ipykernel)",
   "language": "python",
   "name": "python3"
  },
  "language_info": {
   "codemirror_mode": {
    "name": "ipython",
    "version": 3
   },
   "file_extension": ".py",
   "mimetype": "text/x-python",
   "name": "python",
   "nbconvert_exporter": "python",
   "pygments_lexer": "ipython3",
   "version": "3.10.9"
  }
 },
 "nbformat": 4,
 "nbformat_minor": 0
}
