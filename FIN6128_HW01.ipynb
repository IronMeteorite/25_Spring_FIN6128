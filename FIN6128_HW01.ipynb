{
 "cells": [
  {
   "cell_type": "markdown",
   "metadata": {},
   "source": [
    "## Before you begin, learn to write equations under Jupyter Markdown mode\n",
    "\n",
    "First, under \"help\" tab, click \"Keyboard Shortcuts\" to view shortcut operations, or click \"Markdown\" to view how to edit markdown cells.\n",
    "\n",
    "To switch between \"Markdown\" mode or \"code\" mode, click a cell you want to change, then under the tool tab (which is right above this cell) click the dropdown option which is to the left of the \"keyboard\" icon. \n",
    "\n",
    "Click Ctrl + Enter to run any cell in any mode.\n",
    "\n",
    "In jupyter you can write equations with Latex format. Simply type equations between two signs \"$\".\n",
    "\n",
    "Double click the cell to view the source code. \n",
    "\n"
   ]
  },
  {
   "cell_type": "markdown",
   "metadata": {},
   "source": [
    "# Part I Basics: Broadcasting and sigmoid function"
   ]
  },
  {
   "cell_type": "markdown",
   "metadata": {
    "collapsed": true
   },
   "source": [
    "## Broadcasting\n",
    "\n",
    "Broadcasting in NumPy follows a strict set of rules to determine the interaction between the two arrays:\n",
    "\n",
    "* Rule 1: If the two arrays differ in their number of dimensions, the shape of the one with fewer dimensions is padded with ones on its leading (left) side.\n",
    "* Rule 2: If the shape of the two arrays does not match in any dimension, the array with shape equal to 1 in that dimension is stretched to match the other shape.\n",
    "* Rule 3: If in any dimension the sizes disagree and neither is equal to 1, an error is raised."
   ]
  },
  {
   "cell_type": "code",
   "execution_count": 1,
   "metadata": {},
   "outputs": [],
   "source": [
    "import numpy as np"
   ]
  },
  {
   "cell_type": "code",
   "execution_count": 3,
   "metadata": {},
   "outputs": [],
   "source": [
    "a = np.array([0, 1, 2])\n",
    "b = np.array([5, 5, 5])"
   ]
  },
  {
   "cell_type": "code",
   "execution_count": 4,
   "metadata": {},
   "outputs": [
    {
     "data": {
      "text/plain": [
       "array([5, 6, 7])"
      ]
     },
     "execution_count": 4,
     "metadata": {},
     "output_type": "execute_result"
    }
   ],
   "source": [
    "a + b"
   ]
  },
  {
   "cell_type": "markdown",
   "metadata": {},
   "source": [
    "* If arrays are of same size, element to element operation takes place\n",
    "* Because of broadcasting, scaler value 5 is converted into vector & ops takes place"
   ]
  },
  {
   "cell_type": "code",
   "execution_count": 5,
   "metadata": {},
   "outputs": [
    {
     "data": {
      "text/plain": [
       "array([5, 6, 7])"
      ]
     },
     "execution_count": 5,
     "metadata": {},
     "output_type": "execute_result"
    }
   ],
   "source": [
    "a + 5"
   ]
  },
  {
   "cell_type": "code",
   "execution_count": 6,
   "metadata": {},
   "outputs": [
    {
     "data": {
      "text/plain": [
       "array([[1, 2, 3],\n",
       "       [4, 5, 6]])"
      ]
     },
     "execution_count": 6,
     "metadata": {},
     "output_type": "execute_result"
    }
   ],
   "source": [
    "a = np.array([ [1,2,3], [4,5,6] ])\n",
    "a"
   ]
  },
  {
   "cell_type": "code",
   "execution_count": 7,
   "metadata": {},
   "outputs": [
    {
     "data": {
      "text/plain": [
       "array([[ 6,  7,  8],\n",
       "       [ 9, 10, 11]])"
      ]
     },
     "execution_count": 7,
     "metadata": {},
     "output_type": "execute_result"
    }
   ],
   "source": [
    "a + 5"
   ]
  },
  {
   "cell_type": "markdown",
   "metadata": {},
   "source": [
    "<img src=\"https://github.com/awantik/PythonDataScienceHandbook/raw/f2c4a8af3f6e7e5f455469839e31b09ab6c22868/notebooks/figures/02.05-broadcasting.png\">"
   ]
  },
  {
   "cell_type": "code",
   "execution_count": 8,
   "metadata": {},
   "outputs": [],
   "source": [
    "a = np.arange(3).reshape(3,1)"
   ]
  },
  {
   "cell_type": "code",
   "execution_count": 9,
   "metadata": {},
   "outputs": [
    {
     "data": {
      "text/plain": [
       "array([[0],\n",
       "       [1],\n",
       "       [2]])"
      ]
     },
     "execution_count": 9,
     "metadata": {},
     "output_type": "execute_result"
    }
   ],
   "source": [
    "a"
   ]
  },
  {
   "cell_type": "code",
   "execution_count": 10,
   "metadata": {},
   "outputs": [],
   "source": [
    "b = np.arange(3)"
   ]
  },
  {
   "cell_type": "code",
   "execution_count": 11,
   "metadata": {},
   "outputs": [
    {
     "data": {
      "text/plain": [
       "array([[0, 1, 2],\n",
       "       [1, 2, 3],\n",
       "       [2, 3, 4]])"
      ]
     },
     "execution_count": 11,
     "metadata": {},
     "output_type": "execute_result"
    }
   ],
   "source": [
    "a + b"
   ]
  },
  {
   "cell_type": "markdown",
   "metadata": {},
   "source": [
    "Now lets initiate a matrix M and a vector a. Notice that the length of the vector a has to match the last dimension of M (or the dimension 1)"
   ]
  },
  {
   "cell_type": "code",
   "execution_count": 12,
   "metadata": {},
   "outputs": [],
   "source": [
    "M = np.ones((2, 3))\n",
    "a = np.arange(3)"
   ]
  },
  {
   "cell_type": "code",
   "execution_count": 13,
   "metadata": {},
   "outputs": [
    {
     "data": {
      "text/plain": [
       "((2, 3),\n",
       " array([[1., 1., 1.],\n",
       "        [1., 1., 1.]]))"
      ]
     },
     "execution_count": 13,
     "metadata": {},
     "output_type": "execute_result"
    }
   ],
   "source": [
    "M.shape, M"
   ]
  },
  {
   "cell_type": "code",
   "execution_count": 14,
   "metadata": {},
   "outputs": [
    {
     "data": {
      "text/plain": [
       "(3,)"
      ]
     },
     "execution_count": 14,
     "metadata": {},
     "output_type": "execute_result"
    }
   ],
   "source": [
    "a.shape"
   ]
  },
  {
   "cell_type": "code",
   "execution_count": 15,
   "metadata": {},
   "outputs": [
    {
     "data": {
      "text/plain": [
       "array([[1., 2., 3.],\n",
       "       [1., 2., 3.]])"
      ]
     },
     "execution_count": 15,
     "metadata": {},
     "output_type": "execute_result"
    }
   ],
   "source": [
    "M + a"
   ]
  },
  {
   "cell_type": "code",
   "execution_count": 16,
   "metadata": {},
   "outputs": [
    {
     "data": {
      "text/plain": [
       "array([[1., 2., 3.],\n",
       "       [1., 2., 3.]])"
      ]
     },
     "execution_count": 16,
     "metadata": {},
     "output_type": "execute_result"
    }
   ],
   "source": [
    "a + M"
   ]
  },
  {
   "cell_type": "code",
   "execution_count": 17,
   "metadata": {},
   "outputs": [],
   "source": [
    "a = np.array([[1,2,3],[4,5,6]])\n",
    "b = np.array([[1,2,3],[4,5,6],[7,8,9]])\n",
    "\n"
   ]
  },
  {
   "cell_type": "code",
   "execution_count": null,
   "metadata": {},
   "outputs": [],
   "source": [
    "# will this work? why?\n",
    "a + b"
   ]
  },
  {
   "cell_type": "markdown",
   "metadata": {},
   "source": [
    "won't work  \n",
    "\n",
    "ValueError: operands could not be broadcast together with shapes (2,3) (3,3)   \n",
    "\n",
    "The operation `a + b` will not work due to shape incompatibility.  \n",
    "\n",
    "Here's why:  \n",
    "- Shape of `a`: (2, 3) (2 rows × 3 columns)\n",
    "- Shape of `b`: (3, 3) (3 rows × 3 columns)  \n",
    "\n",
    "When performing element-wise operations (like addition) in NumPy, arrays must follow broadcasting rules.  \n",
    "\n",
    "The key broadcasting rules are:\n",
    "- Dimensions must match exactly.\n",
    "- One (or both) dimension(s) must have size 1.  \n",
    "  \n",
    "In this case:  \n",
    "\n",
    "- The second dimension (columns) matches (3 vs. 3).\n",
    "- The first dimension (rows) has sizes 2 and 3, which are incompatible (neither is 1).  \n",
    "\n",
    "As a result, NumPy cannot broadcast the arrays to a compatible shape. The operation will raise a ValueError indicating that the operands could not be broadcast together."
   ]
  },
  {
   "cell_type": "code",
   "execution_count": 19,
   "metadata": {},
   "outputs": [],
   "source": [
    "a = a.reshape(1,2,3)\n",
    "b = b.reshape(3,1,3)"
   ]
  },
  {
   "cell_type": "code",
   "execution_count": 20,
   "metadata": {},
   "outputs": [
    {
     "data": {
      "text/plain": [
       "(array([[[1, 2, 3],\n",
       "         [4, 5, 6]]]),\n",
       " array([[[1, 2, 3]],\n",
       " \n",
       "        [[4, 5, 6]],\n",
       " \n",
       "        [[7, 8, 9]]]))"
      ]
     },
     "execution_count": 20,
     "metadata": {},
     "output_type": "execute_result"
    }
   ],
   "source": [
    "a, b"
   ]
  },
  {
   "cell_type": "code",
   "execution_count": 21,
   "metadata": {},
   "outputs": [
    {
     "data": {
      "text/plain": [
       "array([[[ 2,  4,  6],\n",
       "        [ 5,  7,  9]],\n",
       "\n",
       "       [[ 5,  7,  9],\n",
       "        [ 8, 10, 12]],\n",
       "\n",
       "       [[ 8, 10, 12],\n",
       "        [11, 13, 15]]])"
      ]
     },
     "execution_count": 21,
     "metadata": {},
     "output_type": "execute_result"
    }
   ],
   "source": [
    "# will this work? why?\n",
    "\n",
    "a + b"
   ]
  },
  {
   "cell_type": "markdown",
   "metadata": {},
   "source": [
    "Yes. It works.  \n",
    "\n",
    "The operation `a + b` works because of NumPy's broadcasting rules.\n",
    "\n",
    "1. **Shape of `a`**: (1, 2, 3)\n",
    "2. **Shape of `b`**: (3, 1, 3)\n",
    "\n",
    "Broadcasting allows the dimensions to be compatible by:\n",
    "- **Third dimension** (size 3): Both arrays have this size, so no adjustment needed.\n",
    "- **Second dimension** (size 1 in `b` and size 2 in `a`): The dimension of size `1` can be broadcast to `2`.\n",
    "- **First dimension** (size 1 in `a` and size 3 in `b`): The dimension of size `1` can be broadcast to `3`.\n",
    "\n",
    "After broadcasting, both arrays are expanded to shape **(3, 2, 3)**, enabling element-wise addition."
   ]
  },
  {
   "cell_type": "markdown",
   "metadata": {
    "collapsed": true
   },
   "source": [
    "**Practice time !!**\n",
    "\n",
    "First let M be a zero matrix of size 4 * 3, $a$ be an array of size (3, ) with elements ranging from 0 to 2, $b$ be an array of size (4, ) with elements ranging from 1 to 4. "
   ]
  },
  {
   "cell_type": "code",
   "execution_count": 3,
   "metadata": {},
   "outputs": [],
   "source": [
    "M = np.zeros((4,3))\n",
    "\n",
    "a = np.arange(3)\n",
    "b = np.arange(1,5)"
   ]
  },
  {
   "cell_type": "code",
   "execution_count": 4,
   "metadata": {},
   "outputs": [
    {
     "name": "stdout",
     "output_type": "stream",
     "text": [
      "零矩阵 M 是：\n",
      "[[0. 0. 0.]\n",
      " [0. 0. 0.]\n",
      " [0. 0. 0.]\n",
      " [0. 0. 0.]]\n",
      "\n",
      "数组 a 是：\n",
      "[0 1 2]\n",
      "\n",
      "数组 b 是：\n",
      "[1 2 3 4]\n"
     ]
    }
   ],
   "source": [
    "print(\"零矩阵 M 是：\")\n",
    "print(M)\n",
    "print(\"\\n数组 a 是：\")\n",
    "print(a)\n",
    "print(\"\\n数组 b 是：\")\n",
    "print(b)"
   ]
  },
  {
   "cell_type": "markdown",
   "metadata": {},
   "source": [
    "Now, let's add $a$ to each row of M and assign the resulting matrix to N"
   ]
  },
  {
   "cell_type": "code",
   "execution_count": 5,
   "metadata": {},
   "outputs": [],
   "source": [
    "N = M + a"
   ]
  },
  {
   "cell_type": "code",
   "execution_count": 6,
   "metadata": {},
   "outputs": [
    {
     "name": "stdout",
     "output_type": "stream",
     "text": [
      "\n",
      "矩阵 N 是：\n",
      "[[0. 1. 2.]\n",
      " [0. 1. 2.]\n",
      " [0. 1. 2.]\n",
      " [0. 1. 2.]]\n"
     ]
    }
   ],
   "source": [
    "print(\"\\n矩阵 N 是：\")\n",
    "print(N)"
   ]
  },
  {
   "cell_type": "markdown",
   "metadata": {},
   "source": [
    "Finally, add $b$ to each column of N using broadcast. There are multiple ways to do it. You can try np.newaxis or reshape. "
   ]
  },
  {
   "cell_type": "code",
   "execution_count": 8,
   "metadata": {},
   "outputs": [],
   "source": [
    "N2 = N + b[ : , np.newaxis]\n",
    "N3 = N + b.reshape(-1,1)"
   ]
  },
  {
   "cell_type": "code",
   "execution_count": 10,
   "metadata": {},
   "outputs": [
    {
     "name": "stdout",
     "output_type": "stream",
     "text": [
      "\n",
      "矩阵 N2 是：\n",
      "[[1. 2. 3.]\n",
      " [2. 3. 4.]\n",
      " [3. 4. 5.]\n",
      " [4. 5. 6.]]\n",
      "\n",
      "矩阵 N3 是：\n",
      "[[1. 2. 3.]\n",
      " [2. 3. 4.]\n",
      " [3. 4. 5.]\n",
      " [4. 5. 6.]]\n"
     ]
    }
   ],
   "source": [
    "print(\"\\n矩阵 N2 是：\")\n",
    "print(N2)\n",
    "print(\"\\n矩阵 N3 是：\")\n",
    "print(N3)"
   ]
  },
  {
   "cell_type": "markdown",
   "metadata": {},
   "source": [
    "## Sigmoid function and np.exp() function\n",
    "\n",
    "\n",
    "**Reminder**:\n",
    "$sigmoid(x) = \\frac{1}{1+e^{-x}}$ is sometimes also known as the logistic function. It is a non-linear function used not only in Machine Learning (Logistic Regression), but also in Deep Learning.\n",
    "\n",
    "<img src=\"images/Sigmoid.png\" style=\"width:500px;height:228px;\">\n",
    "\n",
    "To refer to a function belonging to a specific package you could call it using package_name.function(). Run the code below to see an example with math.exp()."
   ]
  },
  {
   "cell_type": "markdown",
   "metadata": {},
   "source": [
    "**Exercise**: Implement the sigmoid function and its derivative using numpy. \n",
    "\n",
    "**Instructions**: When you call a function, say exponential on an array, numpy allows for element-wise operation over the whole array.\n",
    "$$ \\text{For } x \\in \\mathbb{R}^n \\text{,     } sigmoid(x) = sigmoid\\begin{pmatrix}\n",
    "    x_1  \\\\\n",
    "    x_2  \\\\\n",
    "    ...  \\\\\n",
    "    x_n  \\\\\n",
    "\\end{pmatrix} = \\begin{pmatrix}\n",
    "    \\frac{1}{1+e^{-x_1}}  \\\\\n",
    "    \\frac{1}{1+e^{-x_2}}  \\\\\n",
    "    ...  \\\\\n",
    "    \\frac{1}{1+e^{-x_n}}  \\\\\n",
    "\\end{pmatrix}\\tag{1} $$"
   ]
  },
  {
   "cell_type": "code",
   "execution_count": null,
   "metadata": {},
   "outputs": [],
   "source": [
    "# run this\n",
    "\n",
    "a = np.random.rand(3) # This initiate an random arry"
   ]
  },
  {
   "cell_type": "code",
   "execution_count": 13,
   "metadata": {},
   "outputs": [
    {
     "data": {
      "text/plain": [
       "array([1.11498385, 1.21349362, 1.66362706])"
      ]
     },
     "execution_count": 13,
     "metadata": {},
     "output_type": "execute_result"
    }
   ],
   "source": [
    "b = np.exp(a)\n",
    "b"
   ]
  },
  {
   "cell_type": "code",
   "execution_count": 14,
   "metadata": {},
   "outputs": [],
   "source": [
    "# wrtie your code for sigmoid here\n",
    "\n",
    "\n",
    "\n",
    "def sigmoid(x):\n",
    "    \"\"\"\n",
    "    Compute the sigmoid of x\n",
    "\n",
    "    Arguments:\n",
    "    x -- A scalar or numpy array of any size\n",
    "\n",
    "    Return:\n",
    "    s -- sigmoid(x)\n",
    "    \"\"\"\n",
    "    s = 1 / (1 + np.exp(-x))\n",
    "    \n",
    "    return s"
   ]
  },
  {
   "cell_type": "markdown",
   "metadata": {},
   "source": [
    "**Excercise** Define a class named My_Sigmoid Within the class, define two methods forward and backward. The forward method will take an input array $x$ and calculate its sigmoid transformation. The backward will calculate the derivative of sigmoid function at $x$\n",
    "\n",
    "**Instruction** The formula is: $$sigmoid\\_derivative(x) = \\sigma'(x) = \\sigma(x) (1 - \\sigma(x))\\tag{2}$$\n",
    "You often code this function in two steps:\n",
    "1. Set s to be the sigmoid of x. You might find your sigmoid(x) function useful.\n",
    "2. Compute $\\sigma'(x) = s(1-s)$"
   ]
  },
  {
   "cell_type": "code",
   "execution_count": null,
   "metadata": {},
   "outputs": [],
   "source": [
    "class My_Sigmoid:\n",
    "    '''\n",
    "    forward: compute the sigmoid(x) given x, x can be a list or a numpy array or a value, if x is a list, then perform element \n",
    "    wise transformation.\n",
    "    \n",
    "    backward: compute the derivative of sigmoid(x), using the fomula above\n",
    "    \n",
    "    '''\n",
    "    def __init__(self, x):\n",
    "        if x is None:\n",
    "            self.y= 0\n",
    "            self.dy = 0\n",
    "        else:\n",
    "            x = np.array(x)\n",
    "            self.y = 1/(np.exp(-x) + 1)\n",
    "            self.dy = self.y*(1-self.y)\n",
    "\n",
    "    def forward(self, x):\n",
    "        x = np.array(x)\n",
    "        #######one line code here#######\n",
    "        self.y = 1 / (1 + np.exp(-x))\n",
    "        return self.y\n",
    "    \n",
    "    def backward(self, x):\n",
    "        x = np.array(x)\n",
    "        #######one line code here#######\n",
    "        self.y = 1 / (1 + np.exp(-x))\n",
    "        #######one line code here#######\n",
    "        self.dy = self.y * (1 - self.y)\n",
    "        \n",
    "        \n",
    "        return self.dy\n",
    "        \n",
    "    "
   ]
  },
  {
   "cell_type": "code",
   "execution_count": 17,
   "metadata": {},
   "outputs": [
    {
     "name": "stdout",
     "output_type": "stream",
     "text": [
      "[9.99954602e-01 4.53978687e-05 5.00000000e-01 8.80797078e-01]\n"
     ]
    },
    {
     "data": {
      "text/plain": [
       "array([4.53958077e-05, 4.53958077e-05, 2.50000000e-01, 1.04993585e-01])"
      ]
     },
     "execution_count": 17,
     "metadata": {},
     "output_type": "execute_result"
    }
   ],
   "source": [
    "# test:\n",
    "mysigmoid= My_Sigmoid(x = None)\n",
    "\n",
    "mysigmoid.forward([10, -10, 0, 2])\n",
    "print(mysigmoid.y)\n",
    "mysigmoid.backward([10, -10, 0, 2])"
   ]
  },
  {
   "cell_type": "markdown",
   "metadata": {},
   "source": [
    "## Reshaping arrays\n",
    "\n",
    "Two common numpy functions used in deep learning are [np.shape](https://docs.scipy.org/doc/numpy/reference/generated/numpy.ndarray.shape.html) and [np.reshape()](https://docs.scipy.org/doc/numpy/reference/generated/numpy.reshape.html). \n",
    "- X.shape is used to get the shape (dimension) of a matrix/vector X. \n",
    "- X.reshape(...) is used to reshape X into some other dimension. \n",
    "\n",
    "For example, in computer science, an image is represented by a 3D array of shape $(length, height, depth = 3)$. However, when you read an image as the input of an algorithm you convert it to a vector of shape $(length*height*3, 1)$. In other words, you \"unroll\", or reshape, the 3D array into a 1D vector.\n",
    "\n",
    "*Credit for the picture: Andrew Ng Deep Learning*\n",
    "\n",
    "<img src=\"images/image2vector_kiank.png\" style=\"width:500px;height:300;\">\n",
    "\n",
    "**Exercise**: Implement `image2vector()` that takes an input of shape (length, height, 3) and returns a vector of shape (length\\*height\\*3, 1). For example, if you would like to reshape an array v of shape (a, b, c) into a vector of shape (a*b,c) you would do:\n",
    "``` python\n",
    "v = v.reshape((v.shape[0]*v.shape[1], v.shape[2])) # v.shape[0] = a ; v.shape[1] = b ; v.shape[2] = c\n",
    "```\n",
    "- Please don't hardcode the dimensions of image as a constant. Instead look up the quantities you need with `image.shape[0]`, etc. "
   ]
  },
  {
   "cell_type": "code",
   "execution_count": 18,
   "metadata": {},
   "outputs": [],
   "source": [
    "# GRADED FUNCTION: image2vector\n",
    "def image2vector(image):\n",
    "    \"\"\"\n",
    "    Argument:\n",
    "    image -- a numpy array of shape (length, height, depth)\n",
    "    \n",
    "    Returns:\n",
    "    v -- a vector of shape (length*height*depth, 1)\n",
    "    \"\"\"\n",
    "    v = image.reshape((image.shape[0] * image.shape[1] * image.shape[2], 1))\n",
    "    \n",
    "    return v\n",
    "\n",
    "\n"
   ]
  },
  {
   "cell_type": "code",
   "execution_count": 19,
   "metadata": {},
   "outputs": [
    {
     "name": "stdout",
     "output_type": "stream",
     "text": [
      "image2vector(image) = [[0.67826139]\n",
      " [0.29380381]\n",
      " [0.90714982]\n",
      " [0.52835647]\n",
      " [0.4215251 ]\n",
      " [0.45017551]\n",
      " [0.92814219]\n",
      " [0.96677647]\n",
      " [0.85304703]\n",
      " [0.52351845]\n",
      " [0.19981397]\n",
      " [0.27417313]\n",
      " [0.60659855]\n",
      " [0.00533165]\n",
      " [0.10820313]\n",
      " [0.49978937]\n",
      " [0.34144279]\n",
      " [0.94630077]]\n"
     ]
    }
   ],
   "source": [
    "# This is a 3 by 3 by 2 array, typically images will be (num_px_x, num_px_y,3) where 3 represents the RGB values\n",
    "image = np.array([[[ 0.67826139,  0.29380381],\n",
    "        [ 0.90714982,  0.52835647],\n",
    "        [ 0.4215251 ,  0.45017551]],\n",
    "\n",
    "       [[ 0.92814219,  0.96677647],\n",
    "        [ 0.85304703,  0.52351845],\n",
    "        [ 0.19981397,  0.27417313]],\n",
    "\n",
    "       [[ 0.60659855,  0.00533165],\n",
    "        [ 0.10820313,  0.49978937],\n",
    "        [ 0.34144279,  0.94630077]]])\n",
    "\n",
    "vectorized_image = image2vector(image)\n",
    "\n",
    "print (\"image2vector(image) = \" + str(vectorized_image))"
   ]
  },
  {
   "cell_type": "markdown",
   "metadata": {},
   "source": [
    "**Exercise**: Implement `vector2image()` that takes the above vector and reshape it back to an image, but this time of the shape (length\\*height ,depth)."
   ]
  },
  {
   "cell_type": "code",
   "execution_count": 25,
   "metadata": {},
   "outputs": [],
   "source": [
    "def vector2image(vec, shape):\n",
    "    \"\"\"\n",
    "    Argument:\n",
    "    vec -- a flattened image vector of shape (length*height*depth, 1)\n",
    "    shape -- a array indicating desired shape\n",
    "    \n",
    "    Returns:\n",
    "    v -- a vector of shape (length*height*depth, 1)\n",
    "    \"\"\"\n",
    "    image = vec.reshape((shape[0] * shape[1], shape[2]))\n",
    "    \n",
    "    return image"
   ]
  },
  {
   "cell_type": "code",
   "execution_count": 26,
   "metadata": {},
   "outputs": [
    {
     "name": "stdout",
     "output_type": "stream",
     "text": [
      "vector2image(vectorized_image ) = [[0.67826139 0.29380381]\n",
      " [0.90714982 0.52835647]\n",
      " [0.4215251  0.45017551]\n",
      " [0.92814219 0.96677647]\n",
      " [0.85304703 0.52351845]\n",
      " [0.19981397 0.27417313]\n",
      " [0.60659855 0.00533165]\n",
      " [0.10820313 0.49978937]\n",
      " [0.34144279 0.94630077]]\n"
     ]
    }
   ],
   "source": [
    "# call the function, fill in the right shape\n",
    "\n",
    "image_new = vector2image(vectorized_image, shape = [3, 3, 2])\n",
    "print (\"vector2image(vectorized_image ) = \" + str(image_new))"
   ]
  },
  {
   "cell_type": "markdown",
   "metadata": {},
   "source": [
    "# Part II Logistic Regression with a Neural Network mindset\n",
    "\n",
    "This assignment will step you through how to do this with a Neural Network mindset, and so will also hone your intuitions about deep learning.\n",
    "\n",
    "**Instructions:**\n",
    "- Do not use loops (for/while) in your code, unless the instructions explicitly ask you to do so.\n",
    "\n",
    "\n",
    "Implement  a gradient descent algorithm for logistic regression. This data are taken from a larger dataset, described in a South African Medical Journal.\n",
    "\n",
    "**Dataset: Use the following dataset for the implementation.**\n",
    "\n",
    "The full data is available at: http://statweb.stanford.edu/~tibs/ElemStatLearn/datasets/ For this project, you can use those located under in the folder. \n",
    "\n",
    "\n",
    "#### Description\n",
    "A retrospective sample of males in a heart-disease high-risk region of South Africa. There are roughly two controls per case of CHD. Many of the CHD positive men have undergone blood pressure reduction treatment and other programs to reduce their risk factors after their CHD event. In some cases, the measurements were made after these treatments.\n",
    " \n",
    "### Steps to implement\n",
    "\n",
    "*\tEncode the categorical variables.\n",
    "*\tNormalize the numerical variables\n",
    "*\tRandomly initialize beta values\n",
    "*\tDefine a sigmoid function to predict Y\n",
    "* Define a function for calculating binary cross entropy loss function \n",
    "* Define a function for updating beta values. The derivative term is same as derivative term for the linear regression as discussed in the class.\n",
    "* Write the code for gradient descent iterations.\n",
    "* Plot the cost function for different alpha (learning parameters) values.\n",
    "* Use sklearn logistic regression API and compare the estimation of beta values.\n",
    "\n",
    "\n",
    "### Important! \n",
    "\n",
    "Read the codes and comments carefully. You may need to fill in the code when you see \"################finish the code below##################\" in the comment line. Do not miss them.\n"
   ]
  },
  {
   "cell_type": "markdown",
   "metadata": {},
   "source": [
    "## 1 - Packages ##\n",
    "\n",
    "\n",
    "If you don't have those packages, try pip/conda install *-insert package name-*"
   ]
  },
  {
   "cell_type": "code",
   "execution_count": 1,
   "metadata": {},
   "outputs": [],
   "source": [
    "#Load required libraries\n",
    "import pandas as pd\n",
    "import numpy as np\n",
    "import math\n",
    "\n",
    "%matplotlib inline"
   ]
  },
  {
   "cell_type": "markdown",
   "metadata": {},
   "source": [
    "## 2 - Overview of the Problem set ##\n",
    "\n",
    "\n"
   ]
  },
  {
   "cell_type": "code",
   "execution_count": null,
   "metadata": {},
   "outputs": [],
   "source": [
    "#load SAHeart csv file\n",
    "path1 = r\"path/SAHeart.csv\" #运行时需更新为实际本地路径\n",
    "SAHeart_df = pd.read_csv(path1)"
   ]
  },
  {
   "cell_type": "code",
   "execution_count": 3,
   "metadata": {},
   "outputs": [
    {
     "data": {
      "text/html": [
       "<div>\n",
       "<style scoped>\n",
       "    .dataframe tbody tr th:only-of-type {\n",
       "        vertical-align: middle;\n",
       "    }\n",
       "\n",
       "    .dataframe tbody tr th {\n",
       "        vertical-align: top;\n",
       "    }\n",
       "\n",
       "    .dataframe thead th {\n",
       "        text-align: right;\n",
       "    }\n",
       "</style>\n",
       "<table border=\"1\" class=\"dataframe\">\n",
       "  <thead>\n",
       "    <tr style=\"text-align: right;\">\n",
       "      <th></th>\n",
       "      <th>row.names</th>\n",
       "      <th>sbp</th>\n",
       "      <th>tobacco</th>\n",
       "      <th>ldl</th>\n",
       "      <th>adiposity</th>\n",
       "      <th>famhist</th>\n",
       "      <th>typea</th>\n",
       "      <th>obesity</th>\n",
       "      <th>alcohol</th>\n",
       "      <th>age</th>\n",
       "      <th>chd</th>\n",
       "    </tr>\n",
       "  </thead>\n",
       "  <tbody>\n",
       "    <tr>\n",
       "      <th>0</th>\n",
       "      <td>1</td>\n",
       "      <td>160</td>\n",
       "      <td>12.00</td>\n",
       "      <td>5.73</td>\n",
       "      <td>23.11</td>\n",
       "      <td>Present</td>\n",
       "      <td>49</td>\n",
       "      <td>25.30</td>\n",
       "      <td>97.20</td>\n",
       "      <td>52</td>\n",
       "      <td>1</td>\n",
       "    </tr>\n",
       "    <tr>\n",
       "      <th>1</th>\n",
       "      <td>2</td>\n",
       "      <td>144</td>\n",
       "      <td>0.01</td>\n",
       "      <td>4.41</td>\n",
       "      <td>28.61</td>\n",
       "      <td>Absent</td>\n",
       "      <td>55</td>\n",
       "      <td>28.87</td>\n",
       "      <td>2.06</td>\n",
       "      <td>63</td>\n",
       "      <td>1</td>\n",
       "    </tr>\n",
       "    <tr>\n",
       "      <th>2</th>\n",
       "      <td>3</td>\n",
       "      <td>118</td>\n",
       "      <td>0.08</td>\n",
       "      <td>3.48</td>\n",
       "      <td>32.28</td>\n",
       "      <td>Present</td>\n",
       "      <td>52</td>\n",
       "      <td>29.14</td>\n",
       "      <td>3.81</td>\n",
       "      <td>46</td>\n",
       "      <td>0</td>\n",
       "    </tr>\n",
       "    <tr>\n",
       "      <th>3</th>\n",
       "      <td>4</td>\n",
       "      <td>170</td>\n",
       "      <td>7.50</td>\n",
       "      <td>6.41</td>\n",
       "      <td>38.03</td>\n",
       "      <td>Present</td>\n",
       "      <td>51</td>\n",
       "      <td>31.99</td>\n",
       "      <td>24.26</td>\n",
       "      <td>58</td>\n",
       "      <td>1</td>\n",
       "    </tr>\n",
       "    <tr>\n",
       "      <th>4</th>\n",
       "      <td>5</td>\n",
       "      <td>134</td>\n",
       "      <td>13.60</td>\n",
       "      <td>3.50</td>\n",
       "      <td>27.78</td>\n",
       "      <td>Present</td>\n",
       "      <td>60</td>\n",
       "      <td>25.99</td>\n",
       "      <td>57.34</td>\n",
       "      <td>49</td>\n",
       "      <td>1</td>\n",
       "    </tr>\n",
       "    <tr>\n",
       "      <th>5</th>\n",
       "      <td>6</td>\n",
       "      <td>132</td>\n",
       "      <td>6.20</td>\n",
       "      <td>6.47</td>\n",
       "      <td>36.21</td>\n",
       "      <td>Present</td>\n",
       "      <td>62</td>\n",
       "      <td>30.77</td>\n",
       "      <td>14.14</td>\n",
       "      <td>45</td>\n",
       "      <td>0</td>\n",
       "    </tr>\n",
       "    <tr>\n",
       "      <th>6</th>\n",
       "      <td>7</td>\n",
       "      <td>142</td>\n",
       "      <td>4.05</td>\n",
       "      <td>3.38</td>\n",
       "      <td>16.20</td>\n",
       "      <td>Absent</td>\n",
       "      <td>59</td>\n",
       "      <td>20.81</td>\n",
       "      <td>2.62</td>\n",
       "      <td>38</td>\n",
       "      <td>0</td>\n",
       "    </tr>\n",
       "    <tr>\n",
       "      <th>7</th>\n",
       "      <td>8</td>\n",
       "      <td>114</td>\n",
       "      <td>4.08</td>\n",
       "      <td>4.59</td>\n",
       "      <td>14.60</td>\n",
       "      <td>Present</td>\n",
       "      <td>62</td>\n",
       "      <td>23.11</td>\n",
       "      <td>6.72</td>\n",
       "      <td>58</td>\n",
       "      <td>1</td>\n",
       "    </tr>\n",
       "    <tr>\n",
       "      <th>8</th>\n",
       "      <td>9</td>\n",
       "      <td>114</td>\n",
       "      <td>0.00</td>\n",
       "      <td>3.83</td>\n",
       "      <td>19.40</td>\n",
       "      <td>Present</td>\n",
       "      <td>49</td>\n",
       "      <td>24.86</td>\n",
       "      <td>2.49</td>\n",
       "      <td>29</td>\n",
       "      <td>0</td>\n",
       "    </tr>\n",
       "    <tr>\n",
       "      <th>9</th>\n",
       "      <td>10</td>\n",
       "      <td>132</td>\n",
       "      <td>0.00</td>\n",
       "      <td>5.80</td>\n",
       "      <td>30.96</td>\n",
       "      <td>Present</td>\n",
       "      <td>69</td>\n",
       "      <td>30.11</td>\n",
       "      <td>0.00</td>\n",
       "      <td>53</td>\n",
       "      <td>1</td>\n",
       "    </tr>\n",
       "  </tbody>\n",
       "</table>\n",
       "</div>"
      ],
      "text/plain": [
       "   row.names  sbp  tobacco   ldl  adiposity  famhist  typea  obesity  alcohol  \\\n",
       "0          1  160    12.00  5.73      23.11  Present     49    25.30    97.20   \n",
       "1          2  144     0.01  4.41      28.61   Absent     55    28.87     2.06   \n",
       "2          3  118     0.08  3.48      32.28  Present     52    29.14     3.81   \n",
       "3          4  170     7.50  6.41      38.03  Present     51    31.99    24.26   \n",
       "4          5  134    13.60  3.50      27.78  Present     60    25.99    57.34   \n",
       "5          6  132     6.20  6.47      36.21  Present     62    30.77    14.14   \n",
       "6          7  142     4.05  3.38      16.20   Absent     59    20.81     2.62   \n",
       "7          8  114     4.08  4.59      14.60  Present     62    23.11     6.72   \n",
       "8          9  114     0.00  3.83      19.40  Present     49    24.86     2.49   \n",
       "9         10  132     0.00  5.80      30.96  Present     69    30.11     0.00   \n",
       "\n",
       "   age  chd  \n",
       "0   52    1  \n",
       "1   63    1  \n",
       "2   46    0  \n",
       "3   58    1  \n",
       "4   49    1  \n",
       "5   45    0  \n",
       "6   38    0  \n",
       "7   58    1  \n",
       "8   29    0  \n",
       "9   53    1  "
      ]
     },
     "execution_count": 3,
     "metadata": {},
     "output_type": "execute_result"
    }
   ],
   "source": [
    "SAHeart_df.head(10)\n"
   ]
  },
  {
   "cell_type": "markdown",
   "metadata": {},
   "source": [
    "## 3 - Process variables ##"
   ]
  },
  {
   "cell_type": "markdown",
   "metadata": {},
   "source": [
    "### Convert 'famhis' to dummies"
   ]
  },
  {
   "cell_type": "code",
   "execution_count": 4,
   "metadata": {},
   "outputs": [],
   "source": [
    "SAHeart_df['famhist']= pd.get_dummies(SAHeart_df['famhist'],drop_first = \"true\", dtype='uint8')\n",
    "\n",
    "# 和checkpoint作比较后加了unit8, 否则输出bool值"
   ]
  },
  {
   "cell_type": "code",
   "execution_count": 5,
   "metadata": {},
   "outputs": [
    {
     "data": {
      "text/html": [
       "<div>\n",
       "<style scoped>\n",
       "    .dataframe tbody tr th:only-of-type {\n",
       "        vertical-align: middle;\n",
       "    }\n",
       "\n",
       "    .dataframe tbody tr th {\n",
       "        vertical-align: top;\n",
       "    }\n",
       "\n",
       "    .dataframe thead th {\n",
       "        text-align: right;\n",
       "    }\n",
       "</style>\n",
       "<table border=\"1\" class=\"dataframe\">\n",
       "  <thead>\n",
       "    <tr style=\"text-align: right;\">\n",
       "      <th></th>\n",
       "      <th>row.names</th>\n",
       "      <th>sbp</th>\n",
       "      <th>tobacco</th>\n",
       "      <th>ldl</th>\n",
       "      <th>adiposity</th>\n",
       "      <th>famhist</th>\n",
       "      <th>typea</th>\n",
       "      <th>obesity</th>\n",
       "      <th>alcohol</th>\n",
       "      <th>age</th>\n",
       "      <th>chd</th>\n",
       "    </tr>\n",
       "  </thead>\n",
       "  <tbody>\n",
       "    <tr>\n",
       "      <th>0</th>\n",
       "      <td>1</td>\n",
       "      <td>160</td>\n",
       "      <td>12.00</td>\n",
       "      <td>5.73</td>\n",
       "      <td>23.11</td>\n",
       "      <td>1</td>\n",
       "      <td>49</td>\n",
       "      <td>25.30</td>\n",
       "      <td>97.20</td>\n",
       "      <td>52</td>\n",
       "      <td>1</td>\n",
       "    </tr>\n",
       "    <tr>\n",
       "      <th>1</th>\n",
       "      <td>2</td>\n",
       "      <td>144</td>\n",
       "      <td>0.01</td>\n",
       "      <td>4.41</td>\n",
       "      <td>28.61</td>\n",
       "      <td>0</td>\n",
       "      <td>55</td>\n",
       "      <td>28.87</td>\n",
       "      <td>2.06</td>\n",
       "      <td>63</td>\n",
       "      <td>1</td>\n",
       "    </tr>\n",
       "    <tr>\n",
       "      <th>2</th>\n",
       "      <td>3</td>\n",
       "      <td>118</td>\n",
       "      <td>0.08</td>\n",
       "      <td>3.48</td>\n",
       "      <td>32.28</td>\n",
       "      <td>1</td>\n",
       "      <td>52</td>\n",
       "      <td>29.14</td>\n",
       "      <td>3.81</td>\n",
       "      <td>46</td>\n",
       "      <td>0</td>\n",
       "    </tr>\n",
       "    <tr>\n",
       "      <th>3</th>\n",
       "      <td>4</td>\n",
       "      <td>170</td>\n",
       "      <td>7.50</td>\n",
       "      <td>6.41</td>\n",
       "      <td>38.03</td>\n",
       "      <td>1</td>\n",
       "      <td>51</td>\n",
       "      <td>31.99</td>\n",
       "      <td>24.26</td>\n",
       "      <td>58</td>\n",
       "      <td>1</td>\n",
       "    </tr>\n",
       "    <tr>\n",
       "      <th>4</th>\n",
       "      <td>5</td>\n",
       "      <td>134</td>\n",
       "      <td>13.60</td>\n",
       "      <td>3.50</td>\n",
       "      <td>27.78</td>\n",
       "      <td>1</td>\n",
       "      <td>60</td>\n",
       "      <td>25.99</td>\n",
       "      <td>57.34</td>\n",
       "      <td>49</td>\n",
       "      <td>1</td>\n",
       "    </tr>\n",
       "    <tr>\n",
       "      <th>5</th>\n",
       "      <td>6</td>\n",
       "      <td>132</td>\n",
       "      <td>6.20</td>\n",
       "      <td>6.47</td>\n",
       "      <td>36.21</td>\n",
       "      <td>1</td>\n",
       "      <td>62</td>\n",
       "      <td>30.77</td>\n",
       "      <td>14.14</td>\n",
       "      <td>45</td>\n",
       "      <td>0</td>\n",
       "    </tr>\n",
       "    <tr>\n",
       "      <th>6</th>\n",
       "      <td>7</td>\n",
       "      <td>142</td>\n",
       "      <td>4.05</td>\n",
       "      <td>3.38</td>\n",
       "      <td>16.20</td>\n",
       "      <td>0</td>\n",
       "      <td>59</td>\n",
       "      <td>20.81</td>\n",
       "      <td>2.62</td>\n",
       "      <td>38</td>\n",
       "      <td>0</td>\n",
       "    </tr>\n",
       "    <tr>\n",
       "      <th>7</th>\n",
       "      <td>8</td>\n",
       "      <td>114</td>\n",
       "      <td>4.08</td>\n",
       "      <td>4.59</td>\n",
       "      <td>14.60</td>\n",
       "      <td>1</td>\n",
       "      <td>62</td>\n",
       "      <td>23.11</td>\n",
       "      <td>6.72</td>\n",
       "      <td>58</td>\n",
       "      <td>1</td>\n",
       "    </tr>\n",
       "    <tr>\n",
       "      <th>8</th>\n",
       "      <td>9</td>\n",
       "      <td>114</td>\n",
       "      <td>0.00</td>\n",
       "      <td>3.83</td>\n",
       "      <td>19.40</td>\n",
       "      <td>1</td>\n",
       "      <td>49</td>\n",
       "      <td>24.86</td>\n",
       "      <td>2.49</td>\n",
       "      <td>29</td>\n",
       "      <td>0</td>\n",
       "    </tr>\n",
       "    <tr>\n",
       "      <th>9</th>\n",
       "      <td>10</td>\n",
       "      <td>132</td>\n",
       "      <td>0.00</td>\n",
       "      <td>5.80</td>\n",
       "      <td>30.96</td>\n",
       "      <td>1</td>\n",
       "      <td>69</td>\n",
       "      <td>30.11</td>\n",
       "      <td>0.00</td>\n",
       "      <td>53</td>\n",
       "      <td>1</td>\n",
       "    </tr>\n",
       "  </tbody>\n",
       "</table>\n",
       "</div>"
      ],
      "text/plain": [
       "   row.names  sbp  tobacco   ldl  adiposity  famhist  typea  obesity  alcohol  \\\n",
       "0          1  160    12.00  5.73      23.11        1     49    25.30    97.20   \n",
       "1          2  144     0.01  4.41      28.61        0     55    28.87     2.06   \n",
       "2          3  118     0.08  3.48      32.28        1     52    29.14     3.81   \n",
       "3          4  170     7.50  6.41      38.03        1     51    31.99    24.26   \n",
       "4          5  134    13.60  3.50      27.78        1     60    25.99    57.34   \n",
       "5          6  132     6.20  6.47      36.21        1     62    30.77    14.14   \n",
       "6          7  142     4.05  3.38      16.20        0     59    20.81     2.62   \n",
       "7          8  114     4.08  4.59      14.60        1     62    23.11     6.72   \n",
       "8          9  114     0.00  3.83      19.40        1     49    24.86     2.49   \n",
       "9         10  132     0.00  5.80      30.96        1     69    30.11     0.00   \n",
       "\n",
       "   age  chd  \n",
       "0   52    1  \n",
       "1   63    1  \n",
       "2   46    0  \n",
       "3   58    1  \n",
       "4   49    1  \n",
       "5   45    0  \n",
       "6   38    0  \n",
       "7   58    1  \n",
       "8   29    0  \n",
       "9   53    1  "
      ]
     },
     "execution_count": 5,
     "metadata": {},
     "output_type": "execute_result"
    }
   ],
   "source": [
    "SAHeart_df.head(10)\n"
   ]
  },
  {
   "cell_type": "code",
   "execution_count": 6,
   "metadata": {},
   "outputs": [],
   "source": [
    "X = (SAHeart_df[['famhist','sbp','tobacco','ldl','adiposity','typea','obesity','alcohol','age']])"
   ]
  },
  {
   "cell_type": "code",
   "execution_count": 7,
   "metadata": {},
   "outputs": [
    {
     "data": {
      "text/html": [
       "<div>\n",
       "<style scoped>\n",
       "    .dataframe tbody tr th:only-of-type {\n",
       "        vertical-align: middle;\n",
       "    }\n",
       "\n",
       "    .dataframe tbody tr th {\n",
       "        vertical-align: top;\n",
       "    }\n",
       "\n",
       "    .dataframe thead th {\n",
       "        text-align: right;\n",
       "    }\n",
       "</style>\n",
       "<table border=\"1\" class=\"dataframe\">\n",
       "  <thead>\n",
       "    <tr style=\"text-align: right;\">\n",
       "      <th></th>\n",
       "      <th>famhist</th>\n",
       "      <th>sbp</th>\n",
       "      <th>tobacco</th>\n",
       "      <th>ldl</th>\n",
       "      <th>adiposity</th>\n",
       "      <th>typea</th>\n",
       "      <th>obesity</th>\n",
       "      <th>alcohol</th>\n",
       "      <th>age</th>\n",
       "    </tr>\n",
       "  </thead>\n",
       "  <tbody>\n",
       "    <tr>\n",
       "      <th>0</th>\n",
       "      <td>1</td>\n",
       "      <td>160</td>\n",
       "      <td>12.00</td>\n",
       "      <td>5.73</td>\n",
       "      <td>23.11</td>\n",
       "      <td>49</td>\n",
       "      <td>25.30</td>\n",
       "      <td>97.20</td>\n",
       "      <td>52</td>\n",
       "    </tr>\n",
       "    <tr>\n",
       "      <th>1</th>\n",
       "      <td>0</td>\n",
       "      <td>144</td>\n",
       "      <td>0.01</td>\n",
       "      <td>4.41</td>\n",
       "      <td>28.61</td>\n",
       "      <td>55</td>\n",
       "      <td>28.87</td>\n",
       "      <td>2.06</td>\n",
       "      <td>63</td>\n",
       "    </tr>\n",
       "    <tr>\n",
       "      <th>2</th>\n",
       "      <td>1</td>\n",
       "      <td>118</td>\n",
       "      <td>0.08</td>\n",
       "      <td>3.48</td>\n",
       "      <td>32.28</td>\n",
       "      <td>52</td>\n",
       "      <td>29.14</td>\n",
       "      <td>3.81</td>\n",
       "      <td>46</td>\n",
       "    </tr>\n",
       "    <tr>\n",
       "      <th>3</th>\n",
       "      <td>1</td>\n",
       "      <td>170</td>\n",
       "      <td>7.50</td>\n",
       "      <td>6.41</td>\n",
       "      <td>38.03</td>\n",
       "      <td>51</td>\n",
       "      <td>31.99</td>\n",
       "      <td>24.26</td>\n",
       "      <td>58</td>\n",
       "    </tr>\n",
       "    <tr>\n",
       "      <th>4</th>\n",
       "      <td>1</td>\n",
       "      <td>134</td>\n",
       "      <td>13.60</td>\n",
       "      <td>3.50</td>\n",
       "      <td>27.78</td>\n",
       "      <td>60</td>\n",
       "      <td>25.99</td>\n",
       "      <td>57.34</td>\n",
       "      <td>49</td>\n",
       "    </tr>\n",
       "  </tbody>\n",
       "</table>\n",
       "</div>"
      ],
      "text/plain": [
       "   famhist  sbp  tobacco   ldl  adiposity  typea  obesity  alcohol  age\n",
       "0        1  160    12.00  5.73      23.11     49    25.30    97.20   52\n",
       "1        0  144     0.01  4.41      28.61     55    28.87     2.06   63\n",
       "2        1  118     0.08  3.48      32.28     52    29.14     3.81   46\n",
       "3        1  170     7.50  6.41      38.03     51    31.99    24.26   58\n",
       "4        1  134    13.60  3.50      27.78     60    25.99    57.34   49"
      ]
     },
     "execution_count": 7,
     "metadata": {},
     "output_type": "execute_result"
    }
   ],
   "source": [
    "X[0:5]\n"
   ]
  },
  {
   "cell_type": "code",
   "execution_count": 8,
   "metadata": {},
   "outputs": [],
   "source": [
    "Y = np.array(SAHeart_df[['chd']])\n",
    "#Y = (SAHeart_df[['chd']])\n",
    "#print(len(Y))"
   ]
  },
  {
   "cell_type": "code",
   "execution_count": 9,
   "metadata": {},
   "outputs": [
    {
     "data": {
      "text/plain": [
       "array([[1],\n",
       "       [1],\n",
       "       [0],\n",
       "       [1],\n",
       "       [1]], dtype=int64)"
      ]
     },
     "execution_count": 9,
     "metadata": {},
     "output_type": "execute_result"
    }
   ],
   "source": [
    "Y[0:5]"
   ]
  },
  {
   "cell_type": "code",
   "execution_count": 10,
   "metadata": {},
   "outputs": [
    {
     "data": {
      "text/html": [
       "<div>\n",
       "<style scoped>\n",
       "    .dataframe tbody tr th:only-of-type {\n",
       "        vertical-align: middle;\n",
       "    }\n",
       "\n",
       "    .dataframe tbody tr th {\n",
       "        vertical-align: top;\n",
       "    }\n",
       "\n",
       "    .dataframe thead th {\n",
       "        text-align: right;\n",
       "    }\n",
       "</style>\n",
       "<table border=\"1\" class=\"dataframe\">\n",
       "  <thead>\n",
       "    <tr style=\"text-align: right;\">\n",
       "      <th></th>\n",
       "      <th>sbp</th>\n",
       "      <th>tobacco</th>\n",
       "      <th>ldl</th>\n",
       "      <th>adiposity</th>\n",
       "      <th>typea</th>\n",
       "      <th>obesity</th>\n",
       "      <th>alcohol</th>\n",
       "      <th>age</th>\n",
       "    </tr>\n",
       "  </thead>\n",
       "  <tbody>\n",
       "    <tr>\n",
       "      <th>0</th>\n",
       "      <td>160</td>\n",
       "      <td>12.00</td>\n",
       "      <td>5.73</td>\n",
       "      <td>23.11</td>\n",
       "      <td>49</td>\n",
       "      <td>25.30</td>\n",
       "      <td>97.20</td>\n",
       "      <td>52</td>\n",
       "    </tr>\n",
       "    <tr>\n",
       "      <th>1</th>\n",
       "      <td>144</td>\n",
       "      <td>0.01</td>\n",
       "      <td>4.41</td>\n",
       "      <td>28.61</td>\n",
       "      <td>55</td>\n",
       "      <td>28.87</td>\n",
       "      <td>2.06</td>\n",
       "      <td>63</td>\n",
       "    </tr>\n",
       "    <tr>\n",
       "      <th>2</th>\n",
       "      <td>118</td>\n",
       "      <td>0.08</td>\n",
       "      <td>3.48</td>\n",
       "      <td>32.28</td>\n",
       "      <td>52</td>\n",
       "      <td>29.14</td>\n",
       "      <td>3.81</td>\n",
       "      <td>46</td>\n",
       "    </tr>\n",
       "    <tr>\n",
       "      <th>3</th>\n",
       "      <td>170</td>\n",
       "      <td>7.50</td>\n",
       "      <td>6.41</td>\n",
       "      <td>38.03</td>\n",
       "      <td>51</td>\n",
       "      <td>31.99</td>\n",
       "      <td>24.26</td>\n",
       "      <td>58</td>\n",
       "    </tr>\n",
       "    <tr>\n",
       "      <th>4</th>\n",
       "      <td>134</td>\n",
       "      <td>13.60</td>\n",
       "      <td>3.50</td>\n",
       "      <td>27.78</td>\n",
       "      <td>60</td>\n",
       "      <td>25.99</td>\n",
       "      <td>57.34</td>\n",
       "      <td>49</td>\n",
       "    </tr>\n",
       "    <tr>\n",
       "      <th>5</th>\n",
       "      <td>132</td>\n",
       "      <td>6.20</td>\n",
       "      <td>6.47</td>\n",
       "      <td>36.21</td>\n",
       "      <td>62</td>\n",
       "      <td>30.77</td>\n",
       "      <td>14.14</td>\n",
       "      <td>45</td>\n",
       "    </tr>\n",
       "    <tr>\n",
       "      <th>6</th>\n",
       "      <td>142</td>\n",
       "      <td>4.05</td>\n",
       "      <td>3.38</td>\n",
       "      <td>16.20</td>\n",
       "      <td>59</td>\n",
       "      <td>20.81</td>\n",
       "      <td>2.62</td>\n",
       "      <td>38</td>\n",
       "    </tr>\n",
       "    <tr>\n",
       "      <th>7</th>\n",
       "      <td>114</td>\n",
       "      <td>4.08</td>\n",
       "      <td>4.59</td>\n",
       "      <td>14.60</td>\n",
       "      <td>62</td>\n",
       "      <td>23.11</td>\n",
       "      <td>6.72</td>\n",
       "      <td>58</td>\n",
       "    </tr>\n",
       "    <tr>\n",
       "      <th>8</th>\n",
       "      <td>114</td>\n",
       "      <td>0.00</td>\n",
       "      <td>3.83</td>\n",
       "      <td>19.40</td>\n",
       "      <td>49</td>\n",
       "      <td>24.86</td>\n",
       "      <td>2.49</td>\n",
       "      <td>29</td>\n",
       "    </tr>\n",
       "    <tr>\n",
       "      <th>9</th>\n",
       "      <td>132</td>\n",
       "      <td>0.00</td>\n",
       "      <td>5.80</td>\n",
       "      <td>30.96</td>\n",
       "      <td>69</td>\n",
       "      <td>30.11</td>\n",
       "      <td>0.00</td>\n",
       "      <td>53</td>\n",
       "    </tr>\n",
       "  </tbody>\n",
       "</table>\n",
       "</div>"
      ],
      "text/plain": [
       "   sbp  tobacco   ldl  adiposity  typea  obesity  alcohol  age\n",
       "0  160    12.00  5.73      23.11     49    25.30    97.20   52\n",
       "1  144     0.01  4.41      28.61     55    28.87     2.06   63\n",
       "2  118     0.08  3.48      32.28     52    29.14     3.81   46\n",
       "3  170     7.50  6.41      38.03     51    31.99    24.26   58\n",
       "4  134    13.60  3.50      27.78     60    25.99    57.34   49\n",
       "5  132     6.20  6.47      36.21     62    30.77    14.14   45\n",
       "6  142     4.05  3.38      16.20     59    20.81     2.62   38\n",
       "7  114     4.08  4.59      14.60     62    23.11     6.72   58\n",
       "8  114     0.00  3.83      19.40     49    24.86     2.49   29\n",
       "9  132     0.00  5.80      30.96     69    30.11     0.00   53"
      ]
     },
     "execution_count": 10,
     "metadata": {},
     "output_type": "execute_result"
    }
   ],
   "source": [
    "cols_to_Normal = ['sbp','tobacco','ldl','adiposity','typea','obesity','alcohol','age']\n",
    "\n",
    "X_new= X[cols_to_Normal]\n",
    "X_new.head(10)"
   ]
  },
  {
   "cell_type": "markdown",
   "metadata": {},
   "source": [
    "#### Normalise the dimension"
   ]
  },
  {
   "cell_type": "code",
   "execution_count": 11,
   "metadata": {},
   "outputs": [],
   "source": [
    "X_new = X_new[cols_to_Normal].apply( lambda rec:(rec - rec.mean())/rec.std(), axis =0)"
   ]
  },
  {
   "cell_type": "code",
   "execution_count": 12,
   "metadata": {},
   "outputs": [
    {
     "data": {
      "text/plain": [
       "pandas.core.frame.DataFrame"
      ]
     },
     "execution_count": 12,
     "metadata": {},
     "output_type": "execute_result"
    }
   ],
   "source": [
    "type(X_new)"
   ]
  },
  {
   "cell_type": "code",
   "execution_count": 13,
   "metadata": {},
   "outputs": [],
   "source": [
    "X_new['famhist'] = SAHeart_df['famhist']"
   ]
  },
  {
   "cell_type": "code",
   "execution_count": 14,
   "metadata": {},
   "outputs": [
    {
     "data": {
      "text/html": [
       "<div>\n",
       "<style scoped>\n",
       "    .dataframe tbody tr th:only-of-type {\n",
       "        vertical-align: middle;\n",
       "    }\n",
       "\n",
       "    .dataframe tbody tr th {\n",
       "        vertical-align: top;\n",
       "    }\n",
       "\n",
       "    .dataframe thead th {\n",
       "        text-align: right;\n",
       "    }\n",
       "</style>\n",
       "<table border=\"1\" class=\"dataframe\">\n",
       "  <thead>\n",
       "    <tr style=\"text-align: right;\">\n",
       "      <th></th>\n",
       "      <th>sbp</th>\n",
       "      <th>tobacco</th>\n",
       "      <th>ldl</th>\n",
       "      <th>adiposity</th>\n",
       "      <th>typea</th>\n",
       "      <th>obesity</th>\n",
       "      <th>alcohol</th>\n",
       "      <th>age</th>\n",
       "      <th>famhist</th>\n",
       "    </tr>\n",
       "  </thead>\n",
       "  <tbody>\n",
       "    <tr>\n",
       "      <th>0</th>\n",
       "      <td>1.057417</td>\n",
       "      <td>1.821099</td>\n",
       "      <td>0.477894</td>\n",
       "      <td>-0.295183</td>\n",
       "      <td>-0.418017</td>\n",
       "      <td>-0.176594</td>\n",
       "      <td>3.274189</td>\n",
       "      <td>0.628654</td>\n",
       "      <td>1</td>\n",
       "    </tr>\n",
       "    <tr>\n",
       "      <th>1</th>\n",
       "      <td>0.276789</td>\n",
       "      <td>-0.789382</td>\n",
       "      <td>-0.159507</td>\n",
       "      <td>0.411694</td>\n",
       "      <td>0.193134</td>\n",
       "      <td>0.670646</td>\n",
       "      <td>-0.612081</td>\n",
       "      <td>1.381617</td>\n",
       "      <td>0</td>\n",
       "    </tr>\n",
       "    <tr>\n",
       "      <th>2</th>\n",
       "      <td>-0.991731</td>\n",
       "      <td>-0.774141</td>\n",
       "      <td>-0.608585</td>\n",
       "      <td>0.883374</td>\n",
       "      <td>-0.112441</td>\n",
       "      <td>0.734723</td>\n",
       "      <td>-0.540597</td>\n",
       "      <td>0.217947</td>\n",
       "      <td>1</td>\n",
       "    </tr>\n",
       "    <tr>\n",
       "      <th>3</th>\n",
       "      <td>1.545310</td>\n",
       "      <td>0.841352</td>\n",
       "      <td>0.806252</td>\n",
       "      <td>1.622382</td>\n",
       "      <td>-0.214300</td>\n",
       "      <td>1.411091</td>\n",
       "      <td>0.294742</td>\n",
       "      <td>1.039361</td>\n",
       "      <td>1</td>\n",
       "    </tr>\n",
       "    <tr>\n",
       "      <th>4</th>\n",
       "      <td>-0.211103</td>\n",
       "      <td>2.169453</td>\n",
       "      <td>-0.598928</td>\n",
       "      <td>0.305020</td>\n",
       "      <td>0.702427</td>\n",
       "      <td>-0.012842</td>\n",
       "      <td>1.645991</td>\n",
       "      <td>0.423301</td>\n",
       "      <td>1</td>\n",
       "    </tr>\n",
       "    <tr>\n",
       "      <th>5</th>\n",
       "      <td>-0.308682</td>\n",
       "      <td>0.558314</td>\n",
       "      <td>0.835225</td>\n",
       "      <td>1.388470</td>\n",
       "      <td>0.906144</td>\n",
       "      <td>1.121558</td>\n",
       "      <td>-0.118638</td>\n",
       "      <td>0.149496</td>\n",
       "      <td>1</td>\n",
       "    </tr>\n",
       "    <tr>\n",
       "      <th>6</th>\n",
       "      <td>0.179211</td>\n",
       "      <td>0.090213</td>\n",
       "      <td>-0.656873</td>\n",
       "      <td>-1.183278</td>\n",
       "      <td>0.600569</td>\n",
       "      <td>-1.242171</td>\n",
       "      <td>-0.589206</td>\n",
       "      <td>-0.329662</td>\n",
       "      <td>0</td>\n",
       "    </tr>\n",
       "    <tr>\n",
       "      <th>7</th>\n",
       "      <td>-1.186888</td>\n",
       "      <td>0.096745</td>\n",
       "      <td>-0.072589</td>\n",
       "      <td>-1.388915</td>\n",
       "      <td>0.906144</td>\n",
       "      <td>-0.696330</td>\n",
       "      <td>-0.421730</td>\n",
       "      <td>1.039361</td>\n",
       "      <td>1</td>\n",
       "    </tr>\n",
       "    <tr>\n",
       "      <th>8</th>\n",
       "      <td>-1.186888</td>\n",
       "      <td>-0.791559</td>\n",
       "      <td>-0.439577</td>\n",
       "      <td>-0.772004</td>\n",
       "      <td>-0.418017</td>\n",
       "      <td>-0.281016</td>\n",
       "      <td>-0.594517</td>\n",
       "      <td>-0.945722</td>\n",
       "      <td>1</td>\n",
       "    </tr>\n",
       "    <tr>\n",
       "      <th>9</th>\n",
       "      <td>-0.308682</td>\n",
       "      <td>-0.791559</td>\n",
       "      <td>0.511696</td>\n",
       "      <td>0.713724</td>\n",
       "      <td>1.619154</td>\n",
       "      <td>0.964925</td>\n",
       "      <td>-0.696228</td>\n",
       "      <td>0.697105</td>\n",
       "      <td>1</td>\n",
       "    </tr>\n",
       "  </tbody>\n",
       "</table>\n",
       "</div>"
      ],
      "text/plain": [
       "        sbp   tobacco       ldl  adiposity     typea   obesity   alcohol  \\\n",
       "0  1.057417  1.821099  0.477894  -0.295183 -0.418017 -0.176594  3.274189   \n",
       "1  0.276789 -0.789382 -0.159507   0.411694  0.193134  0.670646 -0.612081   \n",
       "2 -0.991731 -0.774141 -0.608585   0.883374 -0.112441  0.734723 -0.540597   \n",
       "3  1.545310  0.841352  0.806252   1.622382 -0.214300  1.411091  0.294742   \n",
       "4 -0.211103  2.169453 -0.598928   0.305020  0.702427 -0.012842  1.645991   \n",
       "5 -0.308682  0.558314  0.835225   1.388470  0.906144  1.121558 -0.118638   \n",
       "6  0.179211  0.090213 -0.656873  -1.183278  0.600569 -1.242171 -0.589206   \n",
       "7 -1.186888  0.096745 -0.072589  -1.388915  0.906144 -0.696330 -0.421730   \n",
       "8 -1.186888 -0.791559 -0.439577  -0.772004 -0.418017 -0.281016 -0.594517   \n",
       "9 -0.308682 -0.791559  0.511696   0.713724  1.619154  0.964925 -0.696228   \n",
       "\n",
       "        age  famhist  \n",
       "0  0.628654        1  \n",
       "1  1.381617        0  \n",
       "2  0.217947        1  \n",
       "3  1.039361        1  \n",
       "4  0.423301        1  \n",
       "5  0.149496        1  \n",
       "6 -0.329662        0  \n",
       "7  1.039361        1  \n",
       "8 -0.945722        1  \n",
       "9  0.697105        1  "
      ]
     },
     "execution_count": 14,
     "metadata": {},
     "output_type": "execute_result"
    }
   ],
   "source": [
    "X_new.head(10)\n"
   ]
  },
  {
   "cell_type": "code",
   "execution_count": 15,
   "metadata": {},
   "outputs": [
    {
     "data": {
      "text/plain": [
       "['sbp',\n",
       " 'tobacco',\n",
       " 'ldl',\n",
       " 'adiposity',\n",
       " 'typea',\n",
       " 'obesity',\n",
       " 'alcohol',\n",
       " 'age',\n",
       " 'famhist']"
      ]
     },
     "execution_count": 15,
     "metadata": {},
     "output_type": "execute_result"
    }
   ],
   "source": [
    "list(X_new)"
   ]
  },
  {
   "cell_type": "code",
   "execution_count": 16,
   "metadata": {},
   "outputs": [
    {
     "data": {
      "text/plain": [
       "array([[ 1.05741729,  1.8210988 ,  0.47789413, -0.29518321, -0.41801699,\n",
       "        -0.17659445,  3.27418871,  0.62865426,  1.        ],\n",
       "       [ 0.27678925, -0.78938174, -0.15950708,  0.41169419,  0.19313443,\n",
       "         0.67064592, -0.61208112,  1.38161701,  0.        ],\n",
       "       [-0.99173133, -0.77414124, -0.6085852 ,  0.8833742 , -0.11244128,\n",
       "         0.73472292, -0.54059729,  0.2179473 ,  1.        ],\n",
       "       [ 1.54530982,  0.84135214,  0.80625232,  1.62238239, -0.21429985,\n",
       "         1.41109128,  0.2947424 ,  1.03936121,  1.        ],\n",
       "       [-0.21110328,  2.16945317, -0.59892761,  0.30501996,  0.70242729,\n",
       "        -0.01284211,  1.64599115,  0.42330078,  1.        ]])"
      ]
     },
     "execution_count": 16,
     "metadata": {},
     "output_type": "execute_result"
    }
   ],
   "source": [
    "X_new = np.array(X_new)\n",
    "X_new[0:5]"
   ]
  },
  {
   "cell_type": "markdown",
   "metadata": {},
   "source": [
    "## 4- Randomly Initialising values of beta coefficient ## "
   ]
  },
  {
   "cell_type": "code",
   "execution_count": 17,
   "metadata": {},
   "outputs": [],
   "source": [
    "import random"
   ]
  },
  {
   "cell_type": "code",
   "execution_count": 18,
   "metadata": {},
   "outputs": [],
   "source": [
    "def initialize_betas(dim):\n",
    "    b = random.random()\n",
    "    w = np.random.rand(dim)\n",
    "    return b,w \n"
   ]
  },
  {
   "cell_type": "code",
   "execution_count": 19,
   "metadata": {},
   "outputs": [
    {
     "name": "stdout",
     "output_type": "stream",
     "text": [
      "0.4620291418562038 [0.29560011 0.73996583 0.90963315 0.54134988 0.05951375 0.35888926\n",
      " 0.77794304 0.76841869 0.29892462]\n"
     ]
    }
   ],
   "source": [
    "b,w = initialize_betas(X_new.shape[1])\n",
    "print(b,w)"
   ]
  },
  {
   "cell_type": "code",
   "execution_count": 20,
   "metadata": {},
   "outputs": [
    {
     "data": {
      "text/plain": [
       "(9,)"
      ]
     },
     "execution_count": 20,
     "metadata": {},
     "output_type": "execute_result"
    }
   ],
   "source": [
    "w.shape"
   ]
  },
  {
   "cell_type": "markdown",
   "metadata": {},
   "source": [
    "## 5- Define a sigmoid function to predict Y ##"
   ]
  },
  {
   "cell_type": "code",
   "execution_count": 21,
   "metadata": {},
   "outputs": [],
   "source": [
    "def sigmoid(b, w ,X_new):\n",
    "    '''\n",
    "    Z= wx+b\n",
    "    '''\n",
    "    \n",
    "    ##############finish the code here#####################\n",
    "    Z = np.dot(X_new, w) + b\n",
    "    Sigmoid_Z = 1 / (1 + np.exp(-Z))\n",
    "    return  Sigmoid_Z"
   ]
  },
  {
   "cell_type": "code",
   "execution_count": 22,
   "metadata": {},
   "outputs": [
    {
     "data": {
      "text/plain": [
       "array([0.99645242, 0.70582408, 0.45598877, 0.99312946, 0.97253906])"
      ]
     },
     "execution_count": 22,
     "metadata": {},
     "output_type": "execute_result"
    }
   ],
   "source": [
    "y_hat = sigmoid(b,w,X_new)\n",
    "\n",
    "y_hat[0:5]"
   ]
  },
  {
   "cell_type": "code",
   "execution_count": 23,
   "metadata": {
    "scrolled": false
   },
   "outputs": [
    {
     "data": {
      "text/plain": [
       "array([[1],\n",
       "       [1],\n",
       "       [0],\n",
       "       [1],\n",
       "       [1]], dtype=int64)"
      ]
     },
     "execution_count": 23,
     "metadata": {},
     "output_type": "execute_result"
    }
   ],
   "source": [
    "\n",
    "Y[0:5]"
   ]
  },
  {
   "cell_type": "code",
   "execution_count": 24,
   "metadata": {
    "scrolled": true
   },
   "outputs": [
    {
     "data": {
      "text/plain": [
       "array([[1],\n",
       "       [1],\n",
       "       [0],\n",
       "       [1],\n",
       "       [1]], dtype=int64)"
      ]
     },
     "execution_count": 24,
     "metadata": {},
     "output_type": "execute_result"
    }
   ],
   "source": [
    "Y[0:5]"
   ]
  },
  {
   "cell_type": "markdown",
   "metadata": {},
   "source": [
    "## 6- Define a function for calculating binary cross entropy loss function ##"
   ]
  },
  {
   "cell_type": "code",
   "execution_count": 25,
   "metadata": {},
   "outputs": [],
   "source": [
    "def get_cost( y, y_hat):\n",
    "    \n",
    "    '''\n",
    "    Input: y: a vector of true labels, y_hat: a vector of predicted outcome from logistic regression\n",
    "    Return: the value of cost or loss function\n",
    "    Loss function L = -1/m\\Sigma (y log y_hat + (1-y)log 1-y_hat)\n",
    "    \n",
    "    \n",
    "    '''\n",
    "    \n",
    "    ### finish the code here\n",
    "    m = len(y)\n",
    "    loss = - (1/m) * np.sum(y * np.log(y_hat) + (1 - y) * np.log(1 - y_hat))\n",
    "    \n",
    "    return loss"
   ]
  },
  {
   "cell_type": "code",
   "execution_count": 26,
   "metadata": {},
   "outputs": [
    {
     "data": {
      "text/plain": [
       "((462,), (462,))"
      ]
     },
     "execution_count": 26,
     "metadata": {},
     "output_type": "execute_result"
    }
   ],
   "source": [
    "# Reshape Y\n",
    "Y=Y.reshape(len(Y), )\n",
    "current_cost= get_cost(Y,y_hat)\n",
    "#print(current_cost)\n",
    "Y.shape, y_hat.shape"
   ]
  },
  {
   "cell_type": "code",
   "execution_count": 27,
   "metadata": {
    "scrolled": true
   },
   "outputs": [
    {
     "data": {
      "text/plain": [
       "(462, 9)"
      ]
     },
     "execution_count": 27,
     "metadata": {},
     "output_type": "execute_result"
    }
   ],
   "source": [
    "X_new.shape"
   ]
  },
  {
   "cell_type": "markdown",
   "metadata": {},
   "source": [
    "## 7- Define a function for updating w and b using backpropagation"
   ]
  },
  {
   "cell_type": "code",
   "execution_count": 65,
   "metadata": {},
   "outputs": [],
   "source": [
    "# write backpropagation function here\n",
    "\n",
    "def backprop (b_0, w_0 , y , y_hat, X_new, alpha = 0.1):\n",
    "    '''\n",
    "    Input: weight to be updated b_0, and w_0, as well as y and y_hat to calculate dz (defined as dL/dz)\n",
    "    output: new updated b_0 and w_0\n",
    "    \n",
    "    \n",
    "    '''\n",
    "    \n",
    "    dz = y_hat-y\n",
    "    ########finish the code here, to calculate db defined as dL/db\n",
    "\n",
    "    m = X_new.shape[0]\n",
    "    \n",
    "    db = (1 / m) * np.sum(dz)\n",
    "    \n",
    "    # update b_0\n",
    "    b_0 = b_0 - alpha * db\n",
    "    \n",
    "    \n",
    "    ########finish the code here, , to calculate db defined as dL/db\n",
    "    dw = (1 / m) * np.dot(X_new.T, dz)\n",
    "    \n",
    "    #update w_0\n",
    "    w_0 = w_0 - alpha * dw\n",
    "   \n",
    "   \n",
    "    return b_0,w_0\n",
    "    "
   ]
  },
  {
   "cell_type": "code",
   "execution_count": 66,
   "metadata": {},
   "outputs": [
    {
     "data": {
      "text/plain": [
       "(462, 9)"
      ]
     },
     "execution_count": 66,
     "metadata": {},
     "output_type": "execute_result"
    }
   ],
   "source": [
    "X_new.shape"
   ]
  },
  {
   "cell_type": "code",
   "execution_count": 67,
   "metadata": {},
   "outputs": [
    {
     "data": {
      "text/plain": [
       "numpy.ndarray"
      ]
     },
     "execution_count": 67,
     "metadata": {},
     "output_type": "execute_result"
    }
   ],
   "source": [
    "alpha = 0.1\n",
    "\n",
    "type(y_hat)\n",
    "#(X_new).shape"
   ]
  },
  {
   "cell_type": "code",
   "execution_count": 68,
   "metadata": {},
   "outputs": [
    {
     "data": {
      "text/plain": [
       "()"
      ]
     },
     "execution_count": 68,
     "metadata": {},
     "output_type": "execute_result"
    }
   ],
   "source": [
    "b,w = backprop (b, w, Y, y_hat,X_new, alpha)\n",
    "\n",
    "b.shape"
   ]
  },
  {
   "cell_type": "code",
   "execution_count": 69,
   "metadata": {},
   "outputs": [
    {
     "data": {
      "text/plain": [
       "-1.2628591785443852"
      ]
     },
     "execution_count": 69,
     "metadata": {},
     "output_type": "execute_result"
    }
   ],
   "source": [
    "b"
   ]
  },
  {
   "cell_type": "code",
   "execution_count": 70,
   "metadata": {},
   "outputs": [
    {
     "data": {
      "text/plain": [
       "array([ 0.13328196,  0.36452443,  0.36025155,  0.14387359,  0.38868162,\n",
       "       -0.26453297,  0.00302582,  0.66106879,  0.92492791])"
      ]
     },
     "execution_count": 70,
     "metadata": {},
     "output_type": "execute_result"
    }
   ],
   "source": [
    "#print(b,w)\n",
    "w"
   ]
  },
  {
   "cell_type": "markdown",
   "metadata": {},
   "source": [
    "##  8- Finally, let's try the gradient descent!\n"
   ]
  },
  {
   "cell_type": "code",
   "execution_count": 71,
   "metadata": {},
   "outputs": [
    {
     "name": "stdout",
     "output_type": "stream",
     "text": [
      "initial guess of b and w:  0.10068278504311678 [0.16161311 0.13577227 0.31933617 0.12745551 0.66799098 0.15746881\n",
      " 0.60328091 0.11376943 0.20606248]\n"
     ]
    }
   ],
   "source": [
    "num_iterations = 500\n",
    "alpha = 0.5\n",
    "\n",
    "all_costs = []\n",
    "b,w = initialize_betas(X_new.shape[1])\n",
    "print(\"initial guess of b and w: \" , b ,w)\n"
   ]
  },
  {
   "cell_type": "code",
   "execution_count": 72,
   "metadata": {},
   "outputs": [
    {
     "name": "stdout",
     "output_type": "stream",
     "text": [
      "Iteration:  0 Cost:  0.6986445297937693\n",
      "Iteration:  10 Cost:  0.5491971175942864\n",
      "Iteration:  20 Cost:  0.5275723390382866\n",
      "Iteration:  30 Cost:  0.5212475375721342\n",
      "Iteration:  40 Cost:  0.5179315160620384\n",
      "Iteration:  50 Cost:  0.5158222718685285\n",
      "Iteration:  60 Cost:  0.514396633014354\n",
      "Iteration:  70 Cost:  0.5134085456397346\n",
      "Iteration:  80 Cost:  0.5127144464850214\n",
      "Iteration:  90 Cost:  0.5122227452684441\n",
      "Iteration:  100 Cost:  0.5118724177266623\n",
      "Iteration:  110 Cost:  0.5116217787120777\n",
      "Iteration:  120 Cost:  0.5114418980341733\n",
      "Iteration:  130 Cost:  0.5113124814375866\n",
      "Iteration:  140 Cost:  0.511219185062426\n",
      "Iteration:  150 Cost:  0.511151814964303\n",
      "Iteration:  160 Cost:  0.511103096444111\n",
      "Iteration:  170 Cost:  0.5110678213119274\n",
      "Iteration:  180 Cost:  0.511042251207359\n",
      "Iteration:  190 Cost:  0.5110236970701383\n",
      "Iteration:  200 Cost:  0.5110102211412377\n",
      "Iteration:  210 Cost:  0.5110004248982557\n",
      "Iteration:  220 Cost:  0.5109932976344964\n",
      "Iteration:  230 Cost:  0.5109881080412687\n",
      "Iteration:  240 Cost:  0.5109843264018586\n",
      "Iteration:  250 Cost:  0.5109815686448157\n",
      "Iteration:  260 Cost:  0.5109795560474685\n",
      "Iteration:  270 Cost:  0.5109780861690795\n",
      "Iteration:  280 Cost:  0.5109770118570071\n",
      "Iteration:  290 Cost:  0.5109762260661441\n",
      "Iteration:  300 Cost:  0.5109756508704815\n",
      "Iteration:  310 Cost:  0.5109752295016083\n",
      "Iteration:  320 Cost:  0.5109749205753111\n",
      "Iteration:  330 Cost:  0.5109746939015282\n",
      "Iteration:  340 Cost:  0.5109745274411186\n",
      "Iteration:  350 Cost:  0.5109744050939746\n",
      "Iteration:  360 Cost:  0.5109743150902647\n",
      "Iteration:  370 Cost:  0.5109742488195657\n",
      "Iteration:  380 Cost:  0.5109741999781368\n",
      "Iteration:  390 Cost:  0.5109741639474921\n",
      "Iteration:  400 Cost:  0.5109741373412383\n",
      "Iteration:  410 Cost:  0.5109741176744048\n",
      "Iteration:  420 Cost:  0.5109741031219962\n",
      "Iteration:  430 Cost:  0.5109740923425776\n",
      "Iteration:  440 Cost:  0.5109740843492873\n",
      "Iteration:  450 Cost:  0.5109740784154613\n",
      "Iteration:  460 Cost:  0.5109740740055344\n",
      "Iteration:  470 Cost:  0.5109740707244083\n",
      "Iteration:  480 Cost:  0.5109740682803241\n",
      "Iteration:  490 Cost:  0.5109740664576178\n",
      "Final estimates of b and w are:  -1.2629006164767618 [ 0.13329264  0.36454653  0.36020717  0.14436291  0.38870369 -0.26488916\n",
      "  0.00300182  0.6608223   0.9250172 ]\n"
     ]
    }
   ],
   "source": [
    "for each_iter in range (num_iterations ):\n",
    "    ###### finish the code below\n",
    "    y_hat = sigmoid(b, w, X_new)\n",
    "    current_cost = get_cost(Y, y_hat)\n",
    "    prev_b = b\n",
    "    prev_w = w\n",
    "    b, w = backprop(b, w, Y, y_hat, X_new, alpha)\n",
    "    all_costs.append(current_cost)\n",
    "    if each_iter % 10 == 0:\n",
    "        print('Iteration: ', each_iter, 'Cost: ', current_cost)\n",
    "        each_iter += 1\n",
    "    \n",
    "#print('b_0:', b_0, 'b_1:',b_1,'b_2:',b_2,'b_3:',b_3,'b_4:', b_4, 'b_5:',b_5,'b_6:',b_6,'b_7:',b_7,'b_8:',b_8,'b_9:',b_9)\n",
    "# print(\"Final estimates of b and q are: \", b,w) ←我觉得这个q不对，应该是w\n",
    "print(\"Final estimates of b and w are: \", b,w)"
   ]
  },
  {
   "cell_type": "markdown",
   "metadata": {},
   "source": [
    "## 9- Let's validate our result against sklearn logistic regression API"
   ]
  },
  {
   "cell_type": "code",
   "execution_count": 73,
   "metadata": {},
   "outputs": [],
   "source": [
    "from sklearn.linear_model import LogisticRegression\n",
    "\n",
    "lreg = LogisticRegression()\n",
    "lmodel = lreg.fit(X_new, Y)"
   ]
  },
  {
   "cell_type": "code",
   "execution_count": 74,
   "metadata": {},
   "outputs": [
    {
     "data": {
      "text/plain": [
       "array([-1.23623307])"
      ]
     },
     "execution_count": 74,
     "metadata": {},
     "output_type": "execute_result"
    }
   ],
   "source": [
    "lmodel.intercept_"
   ]
  },
  {
   "cell_type": "code",
   "execution_count": 75,
   "metadata": {},
   "outputs": [
    {
     "data": {
      "text/plain": [
       "array([[ 0.13249594,  0.36074563,  0.35615923,  0.14242442,  0.37964323,\n",
       "        -0.25524232,  0.00443547,  0.64963333,  0.88060142]])"
      ]
     },
     "execution_count": 75,
     "metadata": {},
     "output_type": "execute_result"
    }
   ],
   "source": [
    "lmodel.coef_"
   ]
  },
  {
   "cell_type": "markdown",
   "metadata": {},
   "source": [
    "## 10- Visualization using matplotlib"
   ]
  },
  {
   "cell_type": "code",
   "execution_count": 76,
   "metadata": {},
   "outputs": [],
   "source": [
    "import matplotlib.pyplot as plt\n",
    "import seaborn as sn\n",
    "%matplotlib inline"
   ]
  },
  {
   "cell_type": "code",
   "execution_count": 77,
   "metadata": {},
   "outputs": [
    {
     "data": {
      "text/plain": [
       "<matplotlib.collections.PathCollection at 0x1f0d9f10fd0>"
      ]
     },
     "execution_count": 77,
     "metadata": {},
     "output_type": "execute_result"
    },
    {
     "data": {
      "image/png": "[encoded data removed]",
      "text/plain": [
       "<Figure size 640x480 with 1 Axes>"
      ]
     },
     "metadata": {},
     "output_type": "display_data"
    }
   ],
   "source": [
    "plt.scatter( range(num_iterations), all_costs)\n",
    "\n",
    "#len(range(each_iter))"
   ]
  },
  {
   "cell_type": "markdown",
   "metadata": {},
   "source": [
    "### Gradient descent is converging correctly for 500 iterations and with learning rate =0.5"
   ]
  },
  {
   "cell_type": "markdown",
   "metadata": {},
   "source": [
    "## 11- Tuning learning rate alpha"
   ]
  },
  {
   "cell_type": "code",
   "execution_count": 83,
   "metadata": {
    "scrolled": false
   },
   "outputs": [
    {
     "name": "stdout",
     "output_type": "stream",
     "text": [
      "current learning rate is 0.01\n",
      "initial guess of b and w:  0.9620432357360591 [0.38220595 0.0477295  0.19476365 0.86807253 0.64828036 0.17327088\n",
      " 0.5069513  0.09935706 0.46548836]\n",
      "Iteration:  0 Cost:  0.996725800733059\n",
      "Iteration:  30 Cost:  0.9501133159729248\n",
      "Iteration:  60 Cost:  0.9068080160197557\n",
      "Iteration:  90 Cost:  0.8668007887694986\n",
      "Iteration:  120 Cost:  0.8300581754315028\n",
      "Iteration:  150 Cost:  0.7965187696857765\n",
      "Iteration:  180 Cost:  0.766091174531342\n",
      "Iteration:  210 Cost:  0.7386538729041888\n",
      "Iteration:  240 Cost:  0.7140571873811487\n",
      "Iteration:  270 Cost:  0.6921272409028938\n",
      "Iteration:  300 Cost:  0.6726715382507835\n",
      "Iteration:  330 Cost:  0.6554855481137735\n",
      "Iteration:  360 Cost:  0.6403595515572412\n",
      "Iteration:  390 Cost:  0.6270850637873879\n",
      "Iteration:  420 Cost:  0.615460304557988\n",
      "Iteration:  450 Cost:  0.6052944227070075\n",
      "Iteration:  480 Cost:  0.5964104028506418\n",
      "Iteration:  510 Cost:  0.5886467509613496\n",
      "Iteration:  540 Cost:  0.5818581549260747\n",
      "Iteration:  570 Cost:  0.5759153539907398\n",
      "Iteration:  600 Cost:  0.5707044456625864\n",
      "Iteration:  630 Cost:  0.5661258291656701\n",
      "Iteration:  660 Cost:  0.5620929455050746\n",
      "Iteration:  690 Cost:  0.5585309347562106\n",
      "Iteration:  720 Cost:  0.5553752961239702\n",
      "Iteration:  750 Cost:  0.5525706074780967\n",
      "Iteration:  780 Cost:  0.5500693386774844\n",
      "Iteration:  810 Cost:  0.547830776436676\n",
      "Iteration:  840 Cost:  0.5458200668196896\n",
      "Iteration:  870 Cost:  0.5440073736615796\n",
      "Iteration:  900 Cost:  0.5423671463805345\n",
      "Iteration:  930 Cost:  0.540877487950213\n",
      "Iteration:  960 Cost:  0.5395196126035069\n",
      "Iteration:  990 Cost:  0.5382773826326938\n",
      "Final estimates of b and w are:  -0.5846611642218428 [ 0.17895512  0.31858672  0.27768127  0.43396753  0.37457705 -0.33803928\n",
      "  0.06538291  0.33831014  0.14040385]\n",
      "current learning rate is 0.001\n",
      "initial guess of b and w:  0.9301261420388658 [0.82615961 0.58881996 0.02627685 0.2770534  0.29799606 0.65119227\n",
      " 0.75785517 0.18888325 0.28113564]\n",
      "Iteration:  0 Cost:  1.0039007638441768\n",
      "Iteration:  30 Cost:  0.9996135121889411\n",
      "Iteration:  60 Cost:  0.9953533165704557\n",
      "Iteration:  90 Cost:  0.9911201794978578\n",
      "Iteration:  120 Cost:  0.9869141016031613\n",
      "Iteration:  150 Cost:  0.9827350816412991\n",
      "Iteration:  180 Cost:  0.978583116490466\n",
      "Iteration:  210 Cost:  0.9744582011527656\n",
      "Iteration:  240 Cost:  0.9703603287551459\n",
      "Iteration:  270 Cost:  0.9662894905506155\n",
      "Iteration:  300 Cost:  0.9622456759197349\n",
      "Iteration:  330 Cost:  0.9582288723723721\n",
      "Iteration:  360 Cost:  0.9542390655497202\n",
      "Iteration:  390 Cost:  0.9502762392265653\n",
      "Iteration:  420 Cost:  0.9463403753138027\n",
      "Iteration:  450 Cost:  0.9424314538611914\n",
      "Iteration:  480 Cost:  0.9385494530603502\n",
      "Iteration:  510 Cost:  0.9346943492479808\n",
      "Iteration:  540 Cost:  0.9308661169093218\n",
      "Iteration:  570 Cost:  0.9270647286818287\n",
      "Iteration:  600 Cost:  0.9232901553590747\n",
      "Iteration:  630 Cost:  0.919542365894875\n",
      "Iteration:  660 Cost:  0.9158213274076294\n",
      "Iteration:  690 Cost:  0.9121270051848852\n",
      "Iteration:  720 Cost:  0.9084593626881191\n",
      "Iteration:  750 Cost:  0.9048183615577395\n",
      "Iteration:  780 Cost:  0.9012039616183107\n",
      "Iteration:  810 Cost:  0.8976161208840004\n",
      "Iteration:  840 Cost:  0.8940547955642507\n",
      "Iteration:  870 Cost:  0.8905199400696835\n",
      "Iteration:  900 Cost:  0.8870115070182322\n",
      "Iteration:  930 Cost:  0.8835294472415146\n",
      "Iteration:  960 Cost:  0.880073709791445\n",
      "Iteration:  990 Cost:  0.8766442419470925\n",
      "Final estimates of b and w are:  0.6533049523406882 [0.74144872 0.578243   0.04563908 0.18885328 0.30765714 0.51902221\n",
      " 0.65397713 0.17884742 0.19348803]\n",
      "current learning rate is 0.0001\n",
      "initial guess of b and w:  0.5789970243001458 [0.53974588 0.56057752 0.16285592 0.15221465 0.88008088 0.50161368\n",
      " 0.66213983 0.30799777 0.83978003]\n",
      "Iteration:  0 Cost:  0.9172630622998735\n",
      "Iteration:  30 Cost:  0.9168775344643879\n",
      "Iteration:  60 Cost:  0.9164922703116767\n",
      "Iteration:  90 Cost:  0.9161072698136475\n",
      "Iteration:  120 Cost:  0.9157225329420687\n",
      "Iteration:  150 Cost:  0.9153380596685727\n",
      "Iteration:  180 Cost:  0.9149538499646533\n",
      "Iteration:  210 Cost:  0.9145699038016674\n",
      "Iteration:  240 Cost:  0.9141862211508327\n",
      "Iteration:  270 Cost:  0.9138028019832312\n",
      "Iteration:  300 Cost:  0.9134196462698059\n",
      "Iteration:  330 Cost:  0.913036753981362\n",
      "Iteration:  360 Cost:  0.9126541250885676\n",
      "Iteration:  390 Cost:  0.9122717595619523\n",
      "Iteration:  420 Cost:  0.9118896573719076\n",
      "Iteration:  450 Cost:  0.9115078184886879\n",
      "Iteration:  480 Cost:  0.9111262428824095\n",
      "Iteration:  510 Cost:  0.9107449305230498\n",
      "Iteration:  540 Cost:  0.9103638813804482\n",
      "Iteration:  570 Cost:  0.9099830954243077\n",
      "Iteration:  600 Cost:  0.9096025726241909\n",
      "Iteration:  630 Cost:  0.9092223129495244\n",
      "Iteration:  660 Cost:  0.9088423163695943\n",
      "Iteration:  690 Cost:  0.9084625828535511\n",
      "Iteration:  720 Cost:  0.9080831123704045\n",
      "Iteration:  750 Cost:  0.9077039048890277\n",
      "Iteration:  780 Cost:  0.9073249603781548\n",
      "Iteration:  810 Cost:  0.9069462788063813\n",
      "Iteration:  840 Cost:  0.9065678601421652\n",
      "Iteration:  870 Cost:  0.9061897043538253\n",
      "Iteration:  900 Cost:  0.9058118114095421\n",
      "Iteration:  930 Cost:  0.905434181277358\n",
      "Iteration:  960 Cost:  0.9050568139251762\n",
      "Iteration:  990 Cost:  0.9046797093207616\n",
      "Final estimates of b and w are:  0.550419723345858 [0.53477442 0.56020431 0.16334838 0.14544802 0.87319628 0.49030302\n",
      " 0.65285543 0.30793505 0.82874327]\n"
     ]
    },
    {
     "data": {
      "image/png": "[encoded data removed]",
      "text/plain": [
       "<Figure size 640x480 with 1 Axes>"
      ]
     },
     "metadata": {},
     "output_type": "display_data"
    }
   ],
   "source": [
    "####plot the cost function for different alpha values, 0.01,0.001,0.0001\n",
    "\n",
    "# For alpha =0.01\n",
    "\n",
    "alphas = [0.01, 0.001, 0.0001]\n",
    "num_iterations = 1000\n",
    "colors = ['r', 'g', 'b']\n",
    "for i, alpha in enumerate(alphas):\n",
    "    print(f'current learning rate is {alpha}')\n",
    "\n",
    "    all_costs = []\n",
    "    b,w = initialize_betas(X_new.shape[1])\n",
    "    print(\"initial guess of b and w: \" , b ,w)\n",
    "\n",
    "    for each_iter in range (num_iterations ):\n",
    "        ################finish the code below##################\n",
    "        y_hat = sigmoid(b, w, X_new)\n",
    "        current_cost = get_cost(Y, y_hat)\n",
    "        prev_b = b\n",
    "        prev_w = w\n",
    "        \n",
    "        ################finish the code below##################\n",
    "        b, w =  backprop(b, w, Y, y_hat, X_new, alpha)\n",
    "        all_costs.append(current_cost)\n",
    "        if each_iter % 30 == 0:\n",
    "            print('Iteration: ', each_iter, 'Cost: ', current_cost)\n",
    "            each_iter += 1\n",
    "\n",
    "    #print('b_0:', b_0, 'b_1:',b_1,'b_2:',b_2,'b_3:',b_3,'b_4:', b_4, 'b_5:',b_5,'b_6:',b_6,'b_7:',b_7,'b_8:',b_8,'b_9:',b_9)\n",
    "    #print(\"Final estimates of b and q are: \", b,w) 感觉不是q，应该是w\n",
    "    print(\"Final estimates of b and w are: \", b,w)\n",
    "    plt.scatter( range(num_iterations), all_costs, c = colors[i], label = f'{alpha}')\n",
    "    plt.legend()"
   ]
  },
  {
   "cell_type": "markdown",
   "metadata": {},
   "source": [
    "According to the experiment above, which is the best choice for alpha? Why?\n",
    "\n",
    "**Answer Below**:  \n",
    "I think it should be the green line, whose alpha = 0.001.  \n",
    "\n",
    "Based on the experiment above, the best choice for the learning rate alpha should be 0.001 depending on the trade-off we want to achieve between convergence speed and stability during the model training process. Here's an analysis of the different learning rates and the recommended option:\n",
    "\n",
    "### Best Choice for Alpha and Why:\n",
    "\n",
    "1. **Learning Rate = 0.01 (Red Curve):**\n",
    "   - **Advantages:** This learning rate offers the fastest convergence speed, with large parameter updates that quickly reduce the cost value.\n",
    "   - **Disadvantages:** Due to the large update size, it may cause the model to oscillate around the optimal solution, sometimes failing to converge to the global optimum. Additionally, a learning rate that is too high can lead to instability during training.\n",
    "\n",
    "2. **Learning Rate = 0.001 (Green Curve):**\n",
    "   - **Advantages:** This learning rate provides a good compromise. It ensures the model converges at a reasonable speed while maintaining a certain level of stability, reducing oscillations around the minimum.\n",
    "   - **Disadvantages:** Compared to 0.01, its convergence speed is slower, requiring more iterations to reach a similar cost value.\n",
    "\n",
    "3. **Learning Rate = 0.0001 (Blue Curve):**\n",
    "   - **Advantages:** This learning rate provides the most stable training process, with a smooth decrease in cost and minimal oscillation.\n",
    "   - **Disadvantages:** The convergence speed is very slow, requiring a large number of iterations to reach cost values similar to those with other learning rates, potentially leading to low training efficiency.\n",
    "\n",
    "#### Recommended Learning Rate:\n",
    "\n",
    "Based on the experimental results, **0.001 (Green Curve)** might be a better choice. Here's why:\n",
    "\n",
    "- **Balanced Convergence Speed:** Although not as fast as 0.01, it can still reach a lower cost value in a reasonable amount of time.\n",
    "- **Stability:** Compared to 0.01, 0.001 offers a more stable training process, reducing oscillation and helping the model converge to a better solution.\n",
    "- **Avoids Excessively Slow Training:** While 0.0001 provides the most stable training process, its excessively slow convergence speed can result in inefficient training, whereas 0.001 offers a good balance between stability and speed.\n",
    "\n",
    "### Conclusion:\n",
    "\n",
    "Considering both convergence speed and training stability, **0.001** is a reasonable choice for the learning rate. It ensures stability in the model training process while providing acceptable convergence speed. Of course, the optimal learning rate can also depend on the specific problem and dataset characteristics, so further adjustments and optimizations might be needed in practical applications."
   ]
  }
 ],
 "metadata": {
  "kernelspec": {
   "display_name": "base",
   "language": "python",
   "name": "python3"
  },
  "language_info": {
   "codemirror_mode": {
    "name": "ipython",
    "version": 3
   },
   "file_extension": ".py",
   "mimetype": "text/x-python",
   "name": "python",
   "nbconvert_exporter": "python",
   "pygments_lexer": "ipython3",
   "version": "3.10.9"
  }
 },
 "nbformat": 4,
 "nbformat_minor": 2
}
