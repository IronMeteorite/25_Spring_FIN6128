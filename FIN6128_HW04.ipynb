{
 "cells": [
  {
   "cell_type": "markdown",
   "id": "f5a06b82",
   "metadata": {
    "id": "f5a06b82"
   },
   "source": [
    "# Denoising Diffusion Probabilistic Model\n"
   ]
  },
  {
   "cell_type": "markdown",
   "id": "LSlnUVH8eJ0J",
   "metadata": {
    "id": "LSlnUVH8eJ0J"
   },
   "source": [
    "\n",
    "\n",
    "#### 1.   Please note that this assignment requires a functional GPU. If your computer does not have a GPU, please use GOOGLE Colab [https://colab.research.google.com/](https://colab.research.google.com/) which will provide free GPU/TPU.\n",
    "#### 2.   In order to use GOOGLE Colab, all you need to do is：\n",
    "##### Step 1: Go to Google Colab website on the browser of your choice and click on the “Open Colab” option on the right-hand side top menu bar. This will open up a google colab notebook.\n",
    "##### Step 2: sign in into your google account.\n",
    "##### Step 3: Click on “upload” in the bottom menu bar to upload your assignment.\n",
    "##### Step 4: In order to connect to GPU, click on the small down arrow icon, just besides the **Connect button**, go to “**Change runtime type**” option.\n",
    "##### Step 5: In the dialog box, select the “T4 GPU” radio button, and then click on “Save” button. This will reinitialize a session for us, but, now with GPU computational resources.\n"
   ]
  },
  {
   "cell_type": "markdown",
   "id": "wcZaCwyLgzak",
   "metadata": {
    "id": "wcZaCwyLgzak"
   },
   "source": [
    "#### **Important! Try the following things in case your training epoch takes too long:**\n",
    "\n",
    "1. **Reduce the size of the training data**, you may limit your training samples to those only containing digits 1, 2 and 3 in the MNIST data set.\n",
    "\n",
    "2. **Smaller number of epochs**, you can decrease the total number of epochs from 200 to 100.\n",
    "\n",
    "3. **Reducing the T-value**, reduce timestep from 1000 to 500.\n",
    "\n",
    "*The last two approaches may significantly reduce generation quality, so proceed with caution!*"
   ]
  },
  {
   "cell_type": "code",
   "execution_count": 1,
   "id": "b8195d08",
   "metadata": {
    "executionInfo": {
     "elapsed": 9316,
     "status": "ok",
     "timestamp": 1745148056701,
     "user": {
      "displayName": "Lucas",
      "userId": "06744764912251015933"
     },
     "user_tz": -480
    },
    "id": "b8195d08"
   },
   "outputs": [],
   "source": [
    "import torch\n",
    "import torch.nn as nn\n",
    "import torch.nn.functional as F\n",
    "import matplotlib.pyplot as plt\n",
    "\n",
    "import numpy as np\n",
    "\n",
    "from tqdm import tqdm\n",
    "from torchvision.utils import save_image, make_grid\n",
    "from tqdm import tqdm\n",
    "from torch.optim import Adam\n",
    "\n",
    "import math"
   ]
  },
  {
   "cell_type": "code",
   "execution_count": 2,
   "id": "19fcb975",
   "metadata": {
    "executionInfo": {
     "elapsed": 2,
     "status": "ok",
     "timestamp": 1745148056706,
     "user": {
      "displayName": "Lucas",
      "userId": "06744764912251015933"
     },
     "user_tz": -480
    },
    "id": "19fcb975"
   },
   "outputs": [],
   "source": [
    "# Model Hyperparameters\n",
    "\n",
    "dataset_path = '~/datasets'\n",
    "\n",
    "cuda = True\n",
    "DEVICE = torch.device(\"cuda:0\" if cuda else \"cpu\")\n",
    "\n",
    "dataset = 'MNIST'\n",
    "img_size = (32, 32, 3)   if dataset == \"CIFAR10\" else (28, 28, 1) # (width, height, channels)\n",
    "\n",
    "timestep_embedding_dim = 256\n",
    "n_layers = 8\n",
    "hidden_dim = 256\n",
    "n_timesteps = 1000\n",
    "beta_minmax=[1e-4, 2e-2]\n",
    "\n",
    "train_batch_size = 128\n",
    "inference_batch_size = 64\n",
    "lr = 5e-5\n",
    "epochs = 200\n",
    "\n",
    "seed = 1234\n",
    "\n",
    "hidden_dims = [hidden_dim for _ in range(n_layers)]\n",
    "torch.manual_seed(seed)\n",
    "np.random.seed(seed)"
   ]
  },
  {
   "cell_type": "markdown",
   "id": "eb9a213e",
   "metadata": {
    "id": "eb9a213e"
   },
   "source": [
    "## Step 1. Load (or download) Dataset"
   ]
  },
  {
   "cell_type": "code",
   "execution_count": 3,
   "id": "1NhRZxQ4hPor",
   "metadata": {
    "colab": {
     "base_uri": "https://localhost:8080/"
    },
    "executionInfo": {
     "elapsed": 3946,
     "status": "ok",
     "timestamp": 1745148060653,
     "user": {
      "displayName": "Lucas",
      "userId": "06744764912251015933"
     },
     "user_tz": -480
    },
    "id": "1NhRZxQ4hPor",
    "outputId": "e1acee3c-c635-4319-c14d-c92cfec891ba"
   },
   "outputs": [
    {
     "name": "stderr",
     "output_type": "stream",
     "text": [
      "100%|██████████| 9.91M/9.91M [00:00<00:00, 17.5MB/s]\n",
      "100%|██████████| 28.9k/28.9k [00:00<00:00, 484kB/s]\n",
      "100%|██████████| 1.65M/1.65M [00:00<00:00, 3.80MB/s]\n",
      "100%|██████████| 4.54k/4.54k [00:00<00:00, 10.1MB/s]\n"
     ]
    }
   ],
   "source": [
    "from torchvision.datasets import MNIST, CIFAR10\n",
    "import torchvision.transforms as transforms\n",
    "from torch.utils.data import DataLoader\n",
    "\n",
    "\n",
    "transform = transforms.Compose([\n",
    "        transforms.ToTensor(),\n",
    "])\n",
    "\n",
    "kwargs = {'num_workers': 1, 'pin_memory': True}\n",
    "\n",
    "if dataset == 'CIFAR10':\n",
    "    train_dataset = CIFAR10(dataset_path, transform=transform, train=True, download=True)\n",
    "    test_dataset  = CIFAR10(dataset_path, transform=transform, train=False, download=True)\n",
    "else:\n",
    "    train_dataset = MNIST(dataset_path, transform=transform, train=True, download=True)\n",
    "    test_dataset  = MNIST(dataset_path, transform=transform, train=False, download=True)\n",
    "\n",
    "train_loader = DataLoader(dataset=train_dataset, batch_size=train_batch_size, shuffle=True, **kwargs)\n",
    "test_loader  = DataLoader(dataset=test_dataset,  batch_size=inference_batch_size, shuffle=False,  **kwargs)"
   ]
  },
  {
   "cell_type": "markdown",
   "id": "ls_nICmviPjV",
   "metadata": {
    "id": "ls_nICmviPjV"
   },
   "source": [
    "#### you can use following cell to select only samples 1, 2 and 3."
   ]
  },
  {
   "cell_type": "code",
   "execution_count": 4,
   "id": "f09f3f4d",
   "metadata": {
    "executionInfo": {
     "elapsed": 12352,
     "status": "ok",
     "timestamp": 1745148073007,
     "user": {
      "displayName": "Lucas",
      "userId": "06744764912251015933"
     },
     "user_tz": -480
    },
    "id": "f09f3f4d"
   },
   "outputs": [],
   "source": [
    "# 减少训练数据量\n",
    "\n",
    "from torchvision.datasets import MNIST, CIFAR10\n",
    "import torchvision.transforms as transforms\n",
    "from torch.utils.data import DataLoader\n",
    "from torch.utils.data import random_split\n",
    "\n",
    "transform = transforms.Compose([\n",
    "        transforms.ToTensor(),\n",
    "])\n",
    "\n",
    "kwargs = {'num_workers': 1, 'pin_memory': True}\n",
    "\n",
    "from torch.utils.data import Subset\n",
    "\n",
    "transform = transforms.Compose([\n",
    "    transforms.ToTensor(),\n",
    "    transforms.Normalize((0.1307,), (0.3081,))\n",
    "])\n",
    "\n",
    "full_train_dataset = MNIST(dataset_path, transform=transform, train=True, download=True)\n",
    "full_test_dataset  = MNIST(dataset_path, transform=transform, train=False, download=True)\n",
    "\n",
    "# only 1、2 and 3 sample\n",
    "selected_train_indices = [idx for idx, (image, label) in enumerate(full_train_dataset) if label in [1, 2, 3]]\n",
    "selected_test_indices = [idx for idx, (image, label) in enumerate(full_test_dataset) if label in [1, 2, 3]]\n",
    "\n",
    "train_dataset = Subset(full_train_dataset, selected_train_indices)\n",
    "test_dataset = Subset(full_test_dataset, selected_test_indices)\n",
    "\n",
    "\n",
    "train_loader = DataLoader(dataset=train_dataset, batch_size=train_batch_size, shuffle=True, **kwargs)\n",
    "test_loader  = DataLoader(dataset=test_dataset,  batch_size=inference_batch_size, shuffle=False,  **kwargs)\n",
    "\n"
   ]
  },
  {
   "cell_type": "markdown",
   "id": "68156109",
   "metadata": {
    "id": "68156109"
   },
   "source": [
    "## Step 2. Define our model: Denoising Diffusion Probabilistic Models (DDPMs)"
   ]
  },
  {
   "cell_type": "markdown",
   "id": "9dbff9cc",
   "metadata": {
    "id": "9dbff9cc"
   },
   "source": [
    "Sinusoidal embedding for diffusion timestep"
   ]
  },
  {
   "cell_type": "code",
   "execution_count": 5,
   "id": "5a75f481",
   "metadata": {
    "executionInfo": {
     "elapsed": 22,
     "status": "ok",
     "timestamp": 1745148073032,
     "user": {
      "displayName": "Lucas",
      "userId": "06744764912251015933"
     },
     "user_tz": -480
    },
    "id": "5a75f481"
   },
   "outputs": [],
   "source": [
    "class SinusoidalPosEmb(nn.Module):\n",
    "    def __init__(self, dim):\n",
    "        super().__init__()\n",
    "        self.dim = dim\n",
    "\n",
    "    def forward(self, x):\n",
    "        device = x.device\n",
    "        half_dim = self.dim // 2\n",
    "        emb = math.log(10000) / (half_dim - 1)\n",
    "        emb = torch.exp(torch.arange(half_dim, device=device) * -emb)\n",
    "        emb = x[:, None] * emb[None, :]\n",
    "        emb = torch.cat((emb.sin(), emb.cos()), dim=-1)\n",
    "        return emb"
   ]
  },
  {
   "cell_type": "markdown",
   "id": "42782a95",
   "metadata": {
    "id": "42782a95"
   },
   "source": [
    "In this tutorial, we use a simple stacked-convolution model with various dilations instead of UNet-like architecture."
   ]
  },
  {
   "cell_type": "code",
   "execution_count": 6,
   "id": "5b5b32a9",
   "metadata": {
    "executionInfo": {
     "elapsed": 3,
     "status": "ok",
     "timestamp": 1745148073038,
     "user": {
      "displayName": "Lucas",
      "userId": "06744764912251015933"
     },
     "user_tz": -480
    },
    "id": "5b5b32a9"
   },
   "outputs": [],
   "source": [
    "class ConvBlock(nn.Conv2d):\n",
    "    \"\"\"\n",
    "        Conv2D Block\n",
    "            Args:\n",
    "                x: (N, C_in, H, W)\n",
    "            Returns:\n",
    "                y: (N, C_out, H, W)\n",
    "    \"\"\"\n",
    "\n",
    "    def __init__(self, in_channels, out_channels, kernel_size, activation_fn=None, drop_rate=0.,\n",
    "                    stride=1, padding='same', dilation=1, groups=1, bias=True, gn=False, gn_groups=8):\n",
    "\n",
    "        if padding == 'same':\n",
    "            padding = kernel_size // 2 * dilation\n",
    "\n",
    "        super(ConvBlock, self).__init__(in_channels, out_channels, kernel_size,\n",
    "                                            stride=stride, padding=padding, dilation=dilation,\n",
    "                                            groups=groups, bias=bias)\n",
    "\n",
    "        self.activation_fn = nn.SiLU() if activation_fn else None\n",
    "        self.group_norm = nn.GroupNorm(gn_groups, out_channels) if gn else None\n",
    "\n",
    "    def forward(self, x, time_embedding=None, residual=False):\n",
    "\n",
    "        if residual:\n",
    "            # in the paper, diffusion timestep embedding was only applied to residual blocks of U-Net\n",
    "            x = x + time_embedding\n",
    "            y = x\n",
    "            x = super(ConvBlock, self).forward(x)\n",
    "            y = y + x\n",
    "        else:\n",
    "            y = super(ConvBlock, self).forward(x)\n",
    "        y = self.group_norm(y) if self.group_norm is not None else y\n",
    "        y = self.activation_fn(y) if self.activation_fn is not None else y\n",
    "\n",
    "        return y"
   ]
  },
  {
   "cell_type": "code",
   "execution_count": 7,
   "id": "nf6TR3IUtXK6",
   "metadata": {
    "executionInfo": {
     "elapsed": 1,
     "status": "ok",
     "timestamp": 1745148073100,
     "user": {
      "displayName": "Lucas",
      "userId": "06744764912251015933"
     },
     "user_tz": -480
    },
    "id": "nf6TR3IUtXK6"
   },
   "outputs": [],
   "source": [
    "DEVICE = torch.device(\"cuda:0\" if cuda else \"cpu\")"
   ]
  },
  {
   "cell_type": "code",
   "execution_count": 8,
   "id": "5bc08ca3",
   "metadata": {
    "colab": {
     "base_uri": "https://localhost:8080/"
    },
    "executionInfo": {
     "elapsed": 322,
     "status": "ok",
     "timestamp": 1745148073432,
     "user": {
      "displayName": "Lucas",
      "userId": "06744764912251015933"
     },
     "user_tz": -480
    },
    "id": "5bc08ca3",
    "outputId": "0bfca3ee-06fa-418f-bbc9-f525e604c35d",
    "scrolled": false
   },
   "outputs": [
    {
     "name": "stdout",
     "output_type": "stream",
     "text": [
      "saved to: /content/model_weights.pth\n"
     ]
    }
   ],
   "source": [
    "class Denoiser(nn.Module):\n",
    "\n",
    "    def __init__(self, image_resolution, hidden_dims=[256, 256], diffusion_time_embedding_dim = 256, n_times=1000):\n",
    "        super(Denoiser, self).__init__()\n",
    "\n",
    "        _, _, img_C = image_resolution\n",
    "\n",
    "        self.time_embedding = SinusoidalPosEmb(diffusion_time_embedding_dim)\n",
    "\n",
    "        self.in_project = ConvBlock(img_C, hidden_dims[0], kernel_size=7)\n",
    "\n",
    "        self.time_project = nn.Sequential(\n",
    "                          ConvBlock(diffusion_time_embedding_dim, hidden_dims[0], kernel_size=1, activation_fn=True),\n",
    "                          ConvBlock(hidden_dims[0], hidden_dims[0], kernel_size=1)\n",
    "                          )\n",
    "\n",
    "        self.convs = nn.ModuleList([ConvBlock(in_channels=hidden_dims[0], out_channels=hidden_dims[0], kernel_size=3)])\n",
    "\n",
    "        for idx in range(1, len(hidden_dims)):\n",
    "            self.convs.append(ConvBlock(hidden_dims[idx-1], hidden_dims[idx], kernel_size=3, dilation=3**((idx-1)//2),\n",
    "                     activation_fn=True, gn=True, gn_groups=8)\n",
    "                    )\n",
    "\n",
    "        self.out_project = ConvBlock(hidden_dims[-1], out_channels=img_C, kernel_size=3)\n",
    "\n",
    "\n",
    "    def forward(self, perturbed_x, diffusion_timestep):\n",
    "        y = perturbed_x\n",
    "\n",
    "        diffusion_embedding = self.time_embedding(diffusion_timestep)\n",
    "        diffusion_embedding = self.time_project(diffusion_embedding.unsqueeze(-1).unsqueeze(-2))\n",
    "\n",
    "        y = self.in_project(y)\n",
    "\n",
    "        for i in range(len(self.convs)):\n",
    "            ##########################################################\n",
    "            ## Fill in the code here##################################\n",
    "            y = self.convs[i](y, diffusion_embedding, residual=True if i > 0 else False)\n",
    "            ########the end###########################################\n",
    "\n",
    "        y = self.out_project(y)\n",
    "\n",
    "        return y\n",
    "\n",
    "    def save_weights(self, file_path):\n",
    "        \"\"\"\n",
    "        \"\"\"\n",
    "        torch.save(self.state_dict(), file_path)\n",
    "\n",
    "\n",
    "model = Denoiser(image_resolution = img_size,\n",
    "          hidden_dims = hidden_dims,\n",
    "          diffusion_time_embedding_dim = timestep_embedding_dim,\n",
    "          n_times = n_timesteps).to(DEVICE)\n",
    "\n",
    "file_path = \"/content/model_weights.pth\"\n",
    "model.save_weights(file_path)\n",
    "print(\"saved to:\", file_path)"
   ]
  },
  {
   "cell_type": "markdown",
   "id": "87a7829b",
   "metadata": {
    "id": "87a7829b"
   },
   "source": [
    "### Define Gaussian Diffusion"
   ]
  },
  {
   "cell_type": "code",
   "execution_count": 9,
   "id": "b3dcb175",
   "metadata": {
    "executionInfo": {
     "elapsed": 166,
     "status": "ok",
     "timestamp": 1745148486245,
     "user": {
      "displayName": "Lucas",
      "userId": "06744764912251015933"
     },
     "user_tz": -480
    },
    "id": "b3dcb175",
    "scrolled": false
   },
   "outputs": [],
   "source": [
    "class Diffusion(nn.Module):\n",
    "    def __init__(self, model, image_resolution=[32, 32, 3], n_times=100, beta_minmax=[1e-4, 2e-2], device='cuda'):\n",
    "\n",
    "        super(Diffusion, self).__init__()\n",
    "\n",
    "        self.n_times = n_times\n",
    "        self.img_H, self.img_W, self.img_C = image_resolution\n",
    "\n",
    "        self.model = model\n",
    "\n",
    "        # define linear variance schedule(betas)\n",
    "        beta_1, beta_T = beta_minmax\n",
    "        betas = torch.linspace(start=beta_1, end=beta_T, steps=n_times).to(device) # follows DDPM paper\n",
    "        self.sqrt_betas = torch.sqrt(betas)\n",
    "\n",
    "        # define alpha for forward diffusion kernel\n",
    "        self.alphas = 1 - betas\n",
    "        self.sqrt_alphas = torch.sqrt(self.alphas)\n",
    "        alpha_bars = torch.cumprod(self.alphas, dim=0)\n",
    "        ##########################################################\n",
    "        ## Fill in the code here##################################\n",
    "        self.sqrt_one_minus_alpha_bars = torch.sqrt(1 - alpha_bars)\n",
    "        self.sqrt_alpha_bars = torch.sqrt(alpha_bars)\n",
    "        ########the end###########################################\n",
    "\n",
    "        self.device = device\n",
    "\n",
    "    def extract(self, a, t, x_shape):\n",
    "        \"\"\"\n",
    "            from lucidrains' implementation\n",
    "                https://github.com/lucidrains/denoising-diffusion-pytorch/blob/beb2f2d8dd9b4f2bd5be4719f37082fe061ee450/denoising_diffusion_pytorch/denoising_diffusion_pytorch.py#L376\n",
    "        \"\"\"\n",
    "        b, *_ = t.shape\n",
    "        out = a.gather(-1, t)\n",
    "        return out.reshape(b, *((1,) * (len(x_shape) - 1)))\n",
    "\n",
    "    def scale_to_minus_one_to_one(self, x):\n",
    "        # according to the DDPMs paper, normalization seems to be crucial to train reverse process network\n",
    "        return x * 2 - 1\n",
    "\n",
    "    def reverse_scale_to_zero_to_one(self, x):\n",
    "        return (x + 1) * 0.5\n",
    "\n",
    "    def make_noisy(self, x_zeros, t):\n",
    "        # perturb x_0 into x_t (i.e., take x_0 samples into forward diffusion kernels)\n",
    "        epsilon = torch.randn_like(x_zeros).to(self.device)\n",
    "\n",
    "        sqrt_alpha_bar = self.extract(self.sqrt_alpha_bars, t, x_zeros.shape)\n",
    "        sqrt_one_minus_alpha_bar = self.extract(self.sqrt_one_minus_alpha_bars, t, x_zeros.shape)\n",
    "\n",
    "        # Let's make noisy sample!: i.e., Forward process with fixed variance schedule\n",
    "        #      i.e., sqrt(alpha_bar_t) * x_zero + sqrt(1-alpha_bar_t) * epsilon\n",
    "        ##########################################################\n",
    "        ## Fill in the code here##################################\n",
    "        noisy_sample = sqrt_alpha_bar * x_zeros + sqrt_one_minus_alpha_bar * epsilon\n",
    "        ########the end###########################################\n",
    "\n",
    "        return noisy_sample.detach(), epsilon\n",
    "\n",
    "\n",
    "    def forward(self, x_zeros):\n",
    "        x_zeros = self.scale_to_minus_one_to_one(x_zeros)\n",
    "\n",
    "        B, _, _, _ = x_zeros.shape\n",
    "\n",
    "        # (1) randomly choose diffusion time-step\n",
    "        t = torch.randint(low=0, high=self.n_times, size=(B,)).long().to(self.device)\n",
    "\n",
    "        # (2) forward diffusion process: perturb x_zeros with fixed variance schedule\n",
    "        perturbed_images, epsilon = self.make_noisy(x_zeros, t)\n",
    "\n",
    "        # (3) predict epsilon(noise) given perturbed data at diffusion-timestep t.\n",
    "        pred_epsilon = self.model(perturbed_images, t)\n",
    "\n",
    "        return perturbed_images, epsilon, pred_epsilon\n",
    "\n",
    "\n",
    "    def denoise_at_t(self, x_t, timestep, t):\n",
    "        B, _, _, _ = x_t.shape\n",
    "        if t > 1:\n",
    "            z = torch.randn_like(x_t).to(self.device)\n",
    "        else:\n",
    "            z = torch.zeros_like(x_t).to(self.device)\n",
    "\n",
    "        # at inference, we use predicted noise(epsilon) to restore perturbed data sample.\n",
    "        epsilon_pred = self.model(x_t, timestep)\n",
    "\n",
    "        alpha = self.extract(self.alphas, timestep, x_t.shape)\n",
    "        sqrt_alpha = self.extract(self.sqrt_alphas, timestep, x_t.shape)\n",
    "        sqrt_one_minus_alpha_bar = self.extract(self.sqrt_one_minus_alpha_bars, timestep, x_t.shape)\n",
    "        sqrt_beta = self.extract(self.sqrt_betas, timestep, x_t.shape)\n",
    "\n",
    "        # denoise at time t, utilizing predicted noise\n",
    "        ##########################################################\n",
    "        ## Fill in the code here##################################\n",
    "        x_t_minus_1 = (x_t - ((1 - alpha) / sqrt_one_minus_alpha_bar) * epsilon_pred) / sqrt_alpha + sqrt_beta * z\n",
    "        ########the end###########################################\n",
    "\n",
    "        return x_t_minus_1.clamp(-1., 1)\n",
    "\n",
    "    def sample(self, N):\n",
    "        # start from random noise vector, x_0 (for simplicity, x_T declared as x_t instead of x_T)\n",
    "        x_t = torch.randn((N, self.img_C, self.img_H, self.img_W)).to(self.device)\n",
    "\n",
    "        # autoregressively denoise from x_T to x_0\n",
    "        #     i.e., generate image from noise, x_T\n",
    "        for t in range(self.n_times-1, -1, -1):\n",
    "            timestep = torch.tensor([t]).repeat_interleave(N, dim=0).long().to(self.device)\n",
    "            x_t = self.denoise_at_t(x_t, timestep, t)\n",
    "\n",
    "        # denormalize x_0 into 0 ~ 1 ranged values.\n",
    "        x_0 = self.reverse_scale_to_zero_to_one(x_t)\n",
    "\n",
    "        return x_0\n",
    "\n",
    "\n",
    "diffusion = Diffusion(model, image_resolution=img_size, n_times=n_timesteps,\n",
    "                      beta_minmax=beta_minmax, device=DEVICE).to(DEVICE)\n",
    "\n",
    "optimizer = Adam(diffusion.parameters(), lr=lr)\n",
    "denoising_loss = nn.MSELoss()"
   ]
  },
  {
   "cell_type": "code",
   "execution_count": 10,
   "id": "2bf42b4c",
   "metadata": {
    "colab": {
     "base_uri": "https://localhost:8080/"
    },
    "executionInfo": {
     "elapsed": 18,
     "status": "ok",
     "timestamp": 1745148489957,
     "user": {
      "displayName": "Lucas",
      "userId": "06744764912251015933"
     },
     "user_tz": -480
    },
    "id": "2bf42b4c",
    "outputId": "670692f1-ed2d-48d9-afc9-ed8451fba7f1"
   },
   "outputs": [
    {
     "name": "stdout",
     "output_type": "stream",
     "text": [
      "Number of model parameters:  4870913\n"
     ]
    }
   ],
   "source": [
    "def count_parameters(model):\n",
    "    return sum(p.numel() for p in model.parameters() if p.requires_grad)\n",
    "\n",
    "print(\"Number of model parameters: \", count_parameters(diffusion))"
   ]
  },
  {
   "cell_type": "markdown",
   "id": "e1b91398",
   "metadata": {
    "id": "e1b91398"
   },
   "source": [
    "### Visualizing forward process"
   ]
  },
  {
   "cell_type": "code",
   "execution_count": 11,
   "id": "1d782244",
   "metadata": {
    "executionInfo": {
     "elapsed": 1013,
     "status": "ok",
     "timestamp": 1745148492067,
     "user": {
      "displayName": "Lucas",
      "userId": "06744764912251015933"
     },
     "user_tz": -480
    },
    "id": "1d782244",
    "scrolled": false
   },
   "outputs": [],
   "source": [
    "model.eval()\n",
    "for batch_idx, (x, _) in enumerate(test_loader):\n",
    "    x = x.to(DEVICE)\n",
    "    perturbed_images, epsilon, pred_epsilon = diffusion(x)\n",
    "    perturbed_images = diffusion.reverse_scale_to_zero_to_one(perturbed_images)\n",
    "    break"
   ]
  },
  {
   "cell_type": "code",
   "execution_count": 12,
   "id": "edcfb250",
   "metadata": {
    "executionInfo": {
     "elapsed": 35,
     "status": "ok",
     "timestamp": 1745148492105,
     "user": {
      "displayName": "Lucas",
      "userId": "06744764912251015933"
     },
     "user_tz": -480
    },
    "id": "edcfb250"
   },
   "outputs": [],
   "source": [
    "def show_image(x, idx):\n",
    "    fig = plt.figure()\n",
    "    plt.imshow(x[idx].transpose(0, 1).transpose(1, 2).detach().cpu().numpy())"
   ]
  },
  {
   "cell_type": "code",
   "execution_count": 26,
   "id": "3da96b56",
   "metadata": {
    "colab": {
     "base_uri": "https://localhost:8080/",
     "height": 430
    },
    "executionInfo": {
     "elapsed": 125,
     "status": "ok",
     "timestamp": 1745149886882,
     "user": {
      "displayName": "Lucas",
      "userId": "06744764912251015933"
     },
     "user_tz": -480
    },
    "id": "3da96b56",
    "outputId": "30dc4a1b-939d-409e-9ca4-feaaf08e6933"
   },
   "outputs": [
    {
     "data": {
      "image/png": "[encoded data removed]",
      "text/plain": [
       "<Figure size 640x480 with 1 Axes>"
      ]
     },
     "metadata": {},
     "output_type": "display_data"
    }
   ],
   "source": [
    "show_image(perturbed_images, idx=0)"
   ]
  },
  {
   "cell_type": "code",
   "execution_count": 27,
   "id": "3b439e1e",
   "metadata": {
    "colab": {
     "base_uri": "https://localhost:8080/",
     "height": 430
    },
    "executionInfo": {
     "elapsed": 409,
     "status": "ok",
     "timestamp": 1745149889135,
     "user": {
      "displayName": "Lucas",
      "userId": "06744764912251015933"
     },
     "user_tz": -480
    },
    "id": "3b439e1e",
    "outputId": "860da50a-9112-42ed-c102-d2d5a300ccf4"
   },
   "outputs": [
    {
     "data": {
      "image/png": "[encoded data removed]",
      "text/plain": [
       "<Figure size 640x480 with 1 Axes>"
      ]
     },
     "metadata": {},
     "output_type": "display_data"
    }
   ],
   "source": [
    "show_image(perturbed_images, idx=1)"
   ]
  },
  {
   "cell_type": "code",
   "execution_count": 28,
   "id": "a0d08c56",
   "metadata": {
    "colab": {
     "base_uri": "https://localhost:8080/",
     "height": 430
    },
    "executionInfo": {
     "elapsed": 100,
     "status": "ok",
     "timestamp": 1745149891287,
     "user": {
      "displayName": "Lucas",
      "userId": "06744764912251015933"
     },
     "user_tz": -480
    },
    "id": "a0d08c56",
    "outputId": "efd46512-4f4a-478a-8afa-820d912ec249"
   },
   "outputs": [
    {
     "data": {
      "image/png": "[encoded data removed]",
      "text/plain": [
       "<Figure size 640x480 with 1 Axes>"
      ]
     },
     "metadata": {},
     "output_type": "display_data"
    }
   ],
   "source": [
    "show_image(perturbed_images, idx=2)"
   ]
  },
  {
   "cell_type": "markdown",
   "id": "ee82fcc4",
   "metadata": {
    "id": "ee82fcc4"
   },
   "source": [
    "## Step 3. Train Denoising Diffusion Probabilistic Models(DDPMs)"
   ]
  },
  {
   "cell_type": "markdown",
   "id": "5piK5soMC1v5",
   "metadata": {
    "id": "5piK5soMC1v5"
   },
   "source": [
    "注：试图跑完来着，但跑一半gpu免费额度没了。。。\n",
    "\n"
   ]
  },
  {
   "cell_type": "code",
   "execution_count": null,
   "id": "ulVfGqtXejkx",
   "metadata": {
    "colab": {
     "base_uri": "https://localhost:8080/"
    },
    "id": "ulVfGqtXejkx",
    "outputId": "f44b6f29-90b0-48b1-d1a4-4b2a6d1a8af0"
   },
   "outputs": [
    {
     "name": "stdout",
     "output_type": "stream",
     "text": [
      "Start training DDPMs...\n"
     ]
    },
    {
     "name": "stderr",
     "output_type": "stream",
     "text": [
      "100%|██████████| 148/148 [01:43<00:00,  1.43it/s]"
     ]
    },
    {
     "name": "stdout",
     "output_type": "stream",
     "text": [
      "\tEpoch 1 complete! \tDenoising Loss:  0.23549610274989588\n"
     ]
    },
    {
     "name": "stderr",
     "output_type": "stream",
     "text": [
      "\n",
      "100%|██████████| 148/148 [01:42<00:00,  1.44it/s]"
     ]
    },
    {
     "name": "stdout",
     "output_type": "stream",
     "text": [
      "\tEpoch 2 complete! \tDenoising Loss:  0.09891764322916667\n"
     ]
    },
    {
     "name": "stderr",
     "output_type": "stream",
     "text": [
      "\n",
      "100%|██████████| 148/148 [01:42<00:00,  1.44it/s]"
     ]
    },
    {
     "name": "stdout",
     "output_type": "stream",
     "text": [
      "\tEpoch 3 complete! \tDenoising Loss:  0.07701607469190545\n"
     ]
    },
    {
     "name": "stderr",
     "output_type": "stream",
     "text": [
      "\n",
      "100%|██████████| 148/148 [01:42<00:00,  1.45it/s]"
     ]
    },
    {
     "name": "stdout",
     "output_type": "stream",
     "text": [
      "\tEpoch 4 complete! \tDenoising Loss:  0.06785849524902648\n"
     ]
    },
    {
     "name": "stderr",
     "output_type": "stream",
     "text": [
      "\n",
      "100%|██████████| 148/148 [01:42<00:00,  1.44it/s]"
     ]
    },
    {
     "name": "stdout",
     "output_type": "stream",
     "text": [
      "\tEpoch 5 complete! \tDenoising Loss:  0.06489224192135189\n"
     ]
    },
    {
     "name": "stderr",
     "output_type": "stream",
     "text": [
      "\n",
      "100%|██████████| 148/148 [01:42<00:00,  1.44it/s]"
     ]
    },
    {
     "name": "stdout",
     "output_type": "stream",
     "text": [
      "\tEpoch 6 complete! \tDenoising Loss:  0.05910504485170046\n"
     ]
    },
    {
     "name": "stderr",
     "output_type": "stream",
     "text": [
      "\n",
      "100%|██████████| 148/148 [01:42<00:00,  1.45it/s]"
     ]
    },
    {
     "name": "stdout",
     "output_type": "stream",
     "text": [
      "\tEpoch 7 complete! \tDenoising Loss:  0.058539027842331906\n"
     ]
    },
    {
     "name": "stderr",
     "output_type": "stream",
     "text": [
      "\n",
      "100%|██████████| 148/148 [01:42<00:00,  1.45it/s]"
     ]
    },
    {
     "name": "stdout",
     "output_type": "stream",
     "text": [
      "\tEpoch 8 complete! \tDenoising Loss:  0.056964698570723435\n"
     ]
    },
    {
     "name": "stderr",
     "output_type": "stream",
     "text": [
      "\n",
      "100%|██████████| 148/148 [01:42<00:00,  1.44it/s]"
     ]
    },
    {
     "name": "stdout",
     "output_type": "stream",
     "text": [
      "\tEpoch 9 complete! \tDenoising Loss:  0.05574909546951048\n"
     ]
    },
    {
     "name": "stderr",
     "output_type": "stream",
     "text": [
      "\n",
      "100%|██████████| 148/148 [01:42<00:00,  1.44it/s]"
     ]
    },
    {
     "name": "stdout",
     "output_type": "stream",
     "text": [
      "\tEpoch 10 complete! \tDenoising Loss:  0.05461767787227825\n"
     ]
    },
    {
     "name": "stderr",
     "output_type": "stream",
     "text": [
      "\n",
      "100%|██████████| 148/148 [01:42<00:00,  1.44it/s]"
     ]
    },
    {
     "name": "stdout",
     "output_type": "stream",
     "text": [
      "\tEpoch 11 complete! \tDenoising Loss:  0.053022005221470686\n"
     ]
    },
    {
     "name": "stderr",
     "output_type": "stream",
     "text": [
      "\n",
      "100%|██████████| 148/148 [01:42<00:00,  1.44it/s]"
     ]
    },
    {
     "name": "stdout",
     "output_type": "stream",
     "text": [
      "\tEpoch 12 complete! \tDenoising Loss:  0.05180847371111111\n"
     ]
    },
    {
     "name": "stderr",
     "output_type": "stream",
     "text": [
      "\n",
      "100%|██████████| 148/148 [01:42<00:00,  1.44it/s]"
     ]
    },
    {
     "name": "stdout",
     "output_type": "stream",
     "text": [
      "\tEpoch 13 complete! \tDenoising Loss:  0.051534898198988974\n"
     ]
    },
    {
     "name": "stderr",
     "output_type": "stream",
     "text": [
      "\n",
      "100%|██████████| 148/148 [01:42<00:00,  1.45it/s]"
     ]
    },
    {
     "name": "stdout",
     "output_type": "stream",
     "text": [
      "\tEpoch 14 complete! \tDenoising Loss:  0.051719600195381916\n"
     ]
    },
    {
     "name": "stderr",
     "output_type": "stream",
     "text": [
      "\n",
      "100%|██████████| 148/148 [01:42<00:00,  1.44it/s]"
     ]
    },
    {
     "name": "stdout",
     "output_type": "stream",
     "text": [
      "\tEpoch 15 complete! \tDenoising Loss:  0.05064169968776151\n"
     ]
    },
    {
     "name": "stderr",
     "output_type": "stream",
     "text": [
      "\n",
      "100%|██████████| 148/148 [01:42<00:00,  1.45it/s]"
     ]
    },
    {
     "name": "stdout",
     "output_type": "stream",
     "text": [
      "\tEpoch 16 complete! \tDenoising Loss:  0.04980255019705312\n"
     ]
    },
    {
     "name": "stderr",
     "output_type": "stream",
     "text": [
      "\n",
      "100%|██████████| 148/148 [01:42<00:00,  1.44it/s]"
     ]
    },
    {
     "name": "stdout",
     "output_type": "stream",
     "text": [
      "\tEpoch 17 complete! \tDenoising Loss:  0.04984821546442655\n"
     ]
    },
    {
     "name": "stderr",
     "output_type": "stream",
     "text": [
      "\n",
      "100%|██████████| 148/148 [01:42<00:00,  1.44it/s]"
     ]
    },
    {
     "name": "stdout",
     "output_type": "stream",
     "text": [
      "\tEpoch 18 complete! \tDenoising Loss:  0.04856721065989157\n"
     ]
    },
    {
     "name": "stderr",
     "output_type": "stream",
     "text": [
      "\n",
      "100%|██████████| 148/148 [01:42<00:00,  1.44it/s]"
     ]
    },
    {
     "name": "stdout",
     "output_type": "stream",
     "text": [
      "\tEpoch 19 complete! \tDenoising Loss:  0.048635006077638286\n"
     ]
    },
    {
     "name": "stderr",
     "output_type": "stream",
     "text": [
      "\n",
      "100%|██████████| 148/148 [01:42<00:00,  1.44it/s]"
     ]
    },
    {
     "name": "stdout",
     "output_type": "stream",
     "text": [
      "\tEpoch 20 complete! \tDenoising Loss:  0.04819445337365274\n"
     ]
    },
    {
     "name": "stderr",
     "output_type": "stream",
     "text": [
      "\n",
      "100%|██████████| 148/148 [01:42<00:00,  1.44it/s]"
     ]
    },
    {
     "name": "stdout",
     "output_type": "stream",
     "text": [
      "\tEpoch 21 complete! \tDenoising Loss:  0.04936680126757849\n"
     ]
    },
    {
     "name": "stderr",
     "output_type": "stream",
     "text": [
      "\n",
      "100%|██████████| 148/148 [01:42<00:00,  1.44it/s]"
     ]
    },
    {
     "name": "stdout",
     "output_type": "stream",
     "text": [
      "\tEpoch 22 complete! \tDenoising Loss:  0.04788041368228237\n"
     ]
    },
    {
     "name": "stderr",
     "output_type": "stream",
     "text": [
      "\n",
      "100%|██████████| 148/148 [01:42<00:00,  1.44it/s]"
     ]
    },
    {
     "name": "stdout",
     "output_type": "stream",
     "text": [
      "\tEpoch 23 complete! \tDenoising Loss:  0.047648408887337665\n"
     ]
    },
    {
     "name": "stderr",
     "output_type": "stream",
     "text": [
      "\n",
      "100%|██████████| 148/148 [01:42<00:00,  1.44it/s]"
     ]
    },
    {
     "name": "stdout",
     "output_type": "stream",
     "text": [
      "\tEpoch 24 complete! \tDenoising Loss:  0.046571063853445505\n"
     ]
    },
    {
     "name": "stderr",
     "output_type": "stream",
     "text": [
      "\n",
      "100%|██████████| 148/148 [01:42<00:00,  1.44it/s]"
     ]
    },
    {
     "name": "stdout",
     "output_type": "stream",
     "text": [
      "\tEpoch 25 complete! \tDenoising Loss:  0.0472693856121326\n"
     ]
    },
    {
     "name": "stderr",
     "output_type": "stream",
     "text": [
      "\n",
      "100%|██████████| 148/148 [01:42<00:00,  1.44it/s]"
     ]
    },
    {
     "name": "stdout",
     "output_type": "stream",
     "text": [
      "\tEpoch 26 complete! \tDenoising Loss:  0.048318590664741944\n"
     ]
    },
    {
     "name": "stderr",
     "output_type": "stream",
     "text": [
      "\n",
      "100%|██████████| 148/148 [01:42<00:00,  1.44it/s]"
     ]
    },
    {
     "name": "stdout",
     "output_type": "stream",
     "text": [
      "\tEpoch 27 complete! \tDenoising Loss:  0.0474160753545307\n"
     ]
    },
    {
     "name": "stderr",
     "output_type": "stream",
     "text": [
      "\n",
      "100%|██████████| 148/148 [01:42<00:00,  1.44it/s]"
     ]
    },
    {
     "name": "stdout",
     "output_type": "stream",
     "text": [
      "\tEpoch 28 complete! \tDenoising Loss:  0.04665183445730177\n"
     ]
    },
    {
     "name": "stderr",
     "output_type": "stream",
     "text": [
      "\n",
      "100%|██████████| 148/148 [01:42<00:00,  1.44it/s]"
     ]
    },
    {
     "name": "stdout",
     "output_type": "stream",
     "text": [
      "\tEpoch 29 complete! \tDenoising Loss:  0.04598574157880277\n"
     ]
    },
    {
     "name": "stderr",
     "output_type": "stream",
     "text": [
      "\n",
      "100%|██████████| 148/148 [01:42<00:00,  1.44it/s]"
     ]
    },
    {
     "name": "stdout",
     "output_type": "stream",
     "text": [
      "\tEpoch 30 complete! \tDenoising Loss:  0.046632087124245505\n"
     ]
    },
    {
     "name": "stderr",
     "output_type": "stream",
     "text": [
      "\n",
      "100%|██████████| 148/148 [01:42<00:00,  1.44it/s]"
     ]
    },
    {
     "name": "stdout",
     "output_type": "stream",
     "text": [
      "\tEpoch 31 complete! \tDenoising Loss:  0.045938954694944176\n"
     ]
    },
    {
     "name": "stderr",
     "output_type": "stream",
     "text": [
      "\n",
      "100%|██████████| 148/148 [01:42<00:00,  1.45it/s]"
     ]
    },
    {
     "name": "stdout",
     "output_type": "stream",
     "text": [
      "\tEpoch 32 complete! \tDenoising Loss:  0.04497610042695285\n"
     ]
    },
    {
     "name": "stderr",
     "output_type": "stream",
     "text": [
      "\n",
      "100%|██████████| 148/148 [01:42<00:00,  1.45it/s]"
     ]
    },
    {
     "name": "stdout",
     "output_type": "stream",
     "text": [
      "\tEpoch 33 complete! \tDenoising Loss:  0.04555377468061285\n"
     ]
    },
    {
     "name": "stderr",
     "output_type": "stream",
     "text": [
      "\n",
      "100%|██████████| 148/148 [01:42<00:00,  1.44it/s]"
     ]
    },
    {
     "name": "stdout",
     "output_type": "stream",
     "text": [
      "\tEpoch 34 complete! \tDenoising Loss:  0.04598945186657159\n"
     ]
    },
    {
     "name": "stderr",
     "output_type": "stream",
     "text": [
      "\n",
      "100%|██████████| 148/148 [01:42<00:00,  1.44it/s]"
     ]
    },
    {
     "name": "stdout",
     "output_type": "stream",
     "text": [
      "\tEpoch 35 complete! \tDenoising Loss:  0.04413538745471409\n"
     ]
    },
    {
     "name": "stderr",
     "output_type": "stream",
     "text": [
      "\n",
      "100%|██████████| 148/148 [01:42<00:00,  1.44it/s]"
     ]
    },
    {
     "name": "stdout",
     "output_type": "stream",
     "text": [
      "\tEpoch 36 complete! \tDenoising Loss:  0.04487265324612864\n"
     ]
    },
    {
     "name": "stderr",
     "output_type": "stream",
     "text": [
      "\n",
      "100%|██████████| 148/148 [01:42<00:00,  1.44it/s]"
     ]
    },
    {
     "name": "stdout",
     "output_type": "stream",
     "text": [
      "\tEpoch 37 complete! \tDenoising Loss:  0.04530693180098826\n"
     ]
    },
    {
     "name": "stderr",
     "output_type": "stream",
     "text": [
      "\n",
      "100%|██████████| 148/148 [01:42<00:00,  1.44it/s]"
     ]
    },
    {
     "name": "stdout",
     "output_type": "stream",
     "text": [
      "\tEpoch 38 complete! \tDenoising Loss:  0.04459982664406705\n"
     ]
    },
    {
     "name": "stderr",
     "output_type": "stream",
     "text": [
      "\n",
      "100%|██████████| 148/148 [01:42<00:00,  1.44it/s]"
     ]
    },
    {
     "name": "stdout",
     "output_type": "stream",
     "text": [
      "\tEpoch 39 complete! \tDenoising Loss:  0.04476835910661691\n"
     ]
    },
    {
     "name": "stderr",
     "output_type": "stream",
     "text": [
      "\n",
      "100%|██████████| 148/148 [01:42<00:00,  1.44it/s]"
     ]
    },
    {
     "name": "stdout",
     "output_type": "stream",
     "text": [
      "\tEpoch 40 complete! \tDenoising Loss:  0.044319647940851394\n"
     ]
    },
    {
     "name": "stderr",
     "output_type": "stream",
     "text": [
      "\n",
      "100%|██████████| 148/148 [01:42<00:00,  1.44it/s]"
     ]
    },
    {
     "name": "stdout",
     "output_type": "stream",
     "text": [
      "\tEpoch 41 complete! \tDenoising Loss:  0.04437488512623878\n"
     ]
    },
    {
     "name": "stderr",
     "output_type": "stream",
     "text": [
      "\n",
      "100%|██████████| 148/148 [01:42<00:00,  1.45it/s]"
     ]
    },
    {
     "name": "stdout",
     "output_type": "stream",
     "text": [
      "\tEpoch 42 complete! \tDenoising Loss:  0.04456926080189189\n"
     ]
    },
    {
     "name": "stderr",
     "output_type": "stream",
     "text": [
      "\n",
      " 31%|███       | 46/148 [00:31<01:10,  1.44it/s]"
     ]
    }
   ],
   "source": [
    "print(\"Start training DDPMs...\")\n",
    "model.train()\n",
    "\n",
    "for epoch in range(epochs):\n",
    "    noise_prediction_loss = 0\n",
    "    for batch_idx, (x, _) in tqdm(enumerate(train_loader), total=len(train_loader)):\n",
    "        optimizer.zero_grad()\n",
    "\n",
    "        x = x.to(DEVICE)\n",
    "\n",
    "        noisy_input, epsilon, pred_epsilon = diffusion(x)\n",
    "        loss = denoising_loss(pred_epsilon, epsilon)\n",
    "\n",
    "        noise_prediction_loss += loss.item()\n",
    "\n",
    "        loss.backward()\n",
    "        optimizer.step()\n",
    "\n",
    "    print(\"\\tEpoch\", epoch + 1, \"complete!\", \"\\tDenoising Loss: \", noise_prediction_loss / batch_idx)\n",
    "\n",
    "    if (epoch + 1) >= 50 and (epoch + 1) % 5 == 0:\n",
    "        file_path = f\"/content/model_weights_epoch_{epoch + 1}.pth\"\n",
    "        model.save_weights(file_path)\n",
    "        print(\"Model weights for epoch\", epoch + 1, \"saved to:\", file_path)\n",
    "\n",
    "print(\"Finish!!\")"
   ]
  },
  {
   "cell_type": "markdown",
   "id": "fc7f2e03",
   "metadata": {
    "id": "fc7f2e03"
   },
   "source": [
    "## Step 4. Sample images from noise."
   ]
  },
  {
   "cell_type": "code",
   "execution_count": null,
   "id": "ef9a692b",
   "metadata": {
    "id": "ef9a692b"
   },
   "outputs": [],
   "source": [
    "model.eval()\n",
    "\n",
    "with torch.no_grad():\n",
    "    generated_images = diffusion.sample(N=inference_batch_size)"
   ]
  },
  {
   "cell_type": "code",
   "execution_count": null,
   "id": "1a300993",
   "metadata": {
    "id": "1a300993"
   },
   "outputs": [],
   "source": [
    "show_image(generated_images, idx=0)"
   ]
  },
  {
   "cell_type": "code",
   "execution_count": null,
   "id": "5bd0d7f8",
   "metadata": {
    "id": "5bd0d7f8"
   },
   "outputs": [],
   "source": [
    "show_image(generated_images, idx=1)"
   ]
  },
  {
   "cell_type": "code",
   "execution_count": null,
   "id": "dcb4f43f",
   "metadata": {
    "id": "dcb4f43f"
   },
   "outputs": [],
   "source": [
    "show_image(generated_images, idx=2)"
   ]
  },
  {
   "cell_type": "code",
   "execution_count": null,
   "id": "81202c3b",
   "metadata": {
    "id": "81202c3b"
   },
   "outputs": [],
   "source": [
    "show_image(generated_images, idx=3)"
   ]
  },
  {
   "cell_type": "code",
   "execution_count": null,
   "id": "070fcbad",
   "metadata": {
    "id": "070fcbad"
   },
   "outputs": [],
   "source": [
    "show_image(generated_images, idx=4)"
   ]
  },
  {
   "cell_type": "code",
   "execution_count": null,
   "id": "be023bdb",
   "metadata": {
    "id": "be023bdb"
   },
   "outputs": [],
   "source": [
    "show_image(generated_images, idx=5)"
   ]
  },
  {
   "cell_type": "markdown",
   "id": "4560ce83",
   "metadata": {
    "id": "4560ce83"
   },
   "source": [
    "### Comparison with ground-truth samples"
   ]
  },
  {
   "cell_type": "code",
   "execution_count": null,
   "id": "545d5117",
   "metadata": {
    "id": "545d5117"
   },
   "outputs": [],
   "source": [
    "def draw_sample_image(x, postfix):\n",
    "\n",
    "    plt.figure(figsize=(8,8))\n",
    "    plt.axis(\"off\")\n",
    "    plt.title(\"Visualization of {}\".format(postfix))\n",
    "    plt.imshow(np.transpose(make_grid(x.detach().cpu(), padding=2, normalize=True), (1, 2, 0)))"
   ]
  },
  {
   "cell_type": "code",
   "execution_count": null,
   "id": "ca778c74",
   "metadata": {
    "id": "ca778c74"
   },
   "outputs": [],
   "source": [
    "draw_sample_image(perturbed_images, \"Perturbed Images\")"
   ]
  },
  {
   "cell_type": "code",
   "execution_count": null,
   "id": "e26440ac",
   "metadata": {
    "id": "e26440ac"
   },
   "outputs": [],
   "source": [
    "draw_sample_image(generated_images, \"Generated Images\")"
   ]
  },
  {
   "cell_type": "code",
   "execution_count": null,
   "id": "38afdd7a",
   "metadata": {
    "id": "38afdd7a"
   },
   "outputs": [],
   "source": [
    "draw_sample_image(x[:inference_batch_size], \"Ground-truth Images\")"
   ]
  },
  {
   "cell_type": "code",
   "execution_count": 39,
   "id": "1abcbfd4",
   "metadata": {
    "executionInfo": {
     "elapsed": 2,
     "status": "ok",
     "timestamp": 1745150026125,
     "user": {
      "displayName": "Lucas",
      "userId": "06744764912251015933"
     },
     "user_tz": -480
    },
    "id": "1abcbfd4"
   },
   "outputs": [],
   "source": []
  }
 ],
 "metadata": {
  "accelerator": "GPU",
  "colab": {
   "gpuType": "T4",
   "provenance": [
    {
     "file_id": "15Jea_7lH9WYFJHrwvWZk0GAV8K9t6afM",
     "timestamp": 1745058971441
    }
   ],
   "toc_visible": true
  },
  "kernelspec": {
   "display_name": "Python 3",
   "name": "python3"
  },
  "language_info": {
   "codemirror_mode": {
    "name": "ipython",
    "version": 3
   },
   "file_extension": ".py",
   "mimetype": "text/x-python",
   "name": "python",
   "nbconvert_exporter": "python",
   "pygments_lexer": "ipython3",
   "version": "3.10.9"
  }
 },
 "nbformat": 4,
 "nbformat_minor": 5
}
